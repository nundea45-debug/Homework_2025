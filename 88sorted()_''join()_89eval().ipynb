{
  "nbformat": 4,
  "nbformat_minor": 0,
  "metadata": {
    "colab": {
      "provenance": [],
      "name": "88sorted()_''join()_89eval().ipynb",
      "authorship_tag": "ABX9TyOIIGXfbkymS/dmd+YFtpN2",
      "include_colab_link": true
    },
    "kernelspec": {
      "name": "python3",
      "display_name": "Python 3"
    },
    "language_info": {
      "name": "python"
    }
  },
  "cells": [
    {
      "cell_type": "markdown",
      "metadata": {
        "id": "view-in-github",
        "colab_type": "text"
      },
      "source": [
        "<a href=\"https://colab.research.google.com/github/nundea45-debug/Homework_2025/blob/main/88sorted()_''join()_89eval().ipynb\" target=\"_parent\"><img src=\"https://colab.research.google.com/assets/colab-badge.svg\" alt=\"Open In Colab\"/></a>"
      ]
    },
    {
      "cell_type": "code",
      "execution_count": null,
      "metadata": {
        "colab": {
          "base_uri": "https://localhost:8080/"
        },
        "id": "NPj49CM7O2ft",
        "outputId": "d930d7f0-973a-4336-a85c-1c7a28063da7"
      },
      "outputs": [
        {
          "output_type": "stream",
          "name": "stdout",
          "text": [
            "['1', '3', '5', 'a', 'a', 'i', 'k', 'k', 'k', 'k', 'n', 'n', 'n', 'n', 'r', 't', 'v', 'z']\n"
          ]
        }
      ],
      "source": [
        "# Unit 88 문자열 정렬하기 : sorted(), ' '.join()\n",
        "\n",
        "randstr = 'nk315nnkakkavnzrit'\n",
        "ret = sorted(randstr)  # 정렬 결과가 리스트로 나옴\n",
        "print(ret)"
      ]
    },
    {
      "cell_type": "code",
      "source": [
        "final = ''.join(ret)  # ''.join(ret) => ret의 요소들을 공백없이 연결\n",
        "print(final)"
      ],
      "metadata": {
        "colab": {
          "base_uri": "https://localhost:8080/"
        },
        "id": "lyt1UHwEPVnI",
        "outputId": "e89814fc-9262-4169-af8b-c9215309499b"
      },
      "execution_count": null,
      "outputs": [
        {
          "output_type": "stream",
          "name": "stdout",
          "text": [
            "135aaikkkknnnnrtvz\n"
          ]
        }
      ]
    },
    {
      "cell_type": "code",
      "source": [
        "# Unit 89 문자열로 된 식 실행하기 : eval()\n",
        "\n",
        "# eval() => 파이썬 코드로 실행 가능한 문자열을 인자로 받아 실행하는 함수"
      ],
      "metadata": {
        "id": "szWW1owAPjSr"
      },
      "execution_count": null,
      "outputs": []
    },
    {
      "cell_type": "code",
      "source": [
        "expression = '123 + 456'\n",
        "answer = eval(expression)\n",
        "print(f'{expression} = {answer}')  # 123 + 456 => 파이썬이 실행 가능한 식 -> eval(expression)이 유효하게 동작"
      ],
      "metadata": {
        "colab": {
          "base_uri": "https://localhost:8080/"
        },
        "id": "SaUXXCHGPvBn",
        "outputId": "143f877f-9162-4d0b-f3bf-bfff58c10ab6"
      },
      "execution_count": null,
      "outputs": [
        {
          "output_type": "stream",
          "name": "stdout",
          "text": [
            "123 + 456 = 579\n"
          ]
        }
      ]
    },
    {
      "cell_type": "code",
      "source": [
        "expression = 'round(3.14)'\n",
        "print(f'{expression} = {eval(expression)}')  # reound(3.14) => 파이썬이 실행 가능한 식 -> eval(expression)이 유효하게 동작"
      ],
      "metadata": {
        "colab": {
          "base_uri": "https://localhost:8080/"
        },
        "id": "5ioWinjEQDAX",
        "outputId": "a74d04ec-4034-4810-9b32-02d8b625e10d"
      },
      "execution_count": null,
      "outputs": [
        {
          "output_type": "stream",
          "name": "stdout",
          "text": [
            "round(3.14) = 3\n"
          ]
        }
      ]
    },
    {
      "cell_type": "code",
      "source": [
        "ret = eval('안녕하세요')  # eval(str)에서 str이 파이썬이 실행 불가능한 식 => NameError 발생"
      ],
      "metadata": {
        "colab": {
          "base_uri": "https://localhost:8080/",
          "height": 180
        },
        "id": "B-fH9zkzQTUB",
        "outputId": "3c08ace0-fd9e-40e8-88ca-0f304b35d864"
      },
      "execution_count": null,
      "outputs": [
        {
          "output_type": "error",
          "ename": "NameError",
          "evalue": "name '안녕하세요' is not defined",
          "traceback": [
            "\u001b[0;31m---------------------------------------------------------------------------\u001b[0m",
            "\u001b[0;31mNameError\u001b[0m                                 Traceback (most recent call last)",
            "\u001b[0;32m/tmp/ipython-input-899083920.py\u001b[0m in \u001b[0;36m<cell line: 0>\u001b[0;34m()\u001b[0m\n\u001b[0;32m----> 1\u001b[0;31m \u001b[0mret\u001b[0m \u001b[0;34m=\u001b[0m \u001b[0meval\u001b[0m\u001b[0;34m(\u001b[0m\u001b[0;34m'안녕하세요'\u001b[0m\u001b[0;34m)\u001b[0m  \u001b[0;31m# eval(str)에서 str이 파이썬이 실행 불가능한 식 => NameError 발생\u001b[0m\u001b[0;34m\u001b[0m\u001b[0;34m\u001b[0m\u001b[0m\n\u001b[0m",
            "\u001b[0;32m<string>\u001b[0m in \u001b[0;36m<module>\u001b[0;34m\u001b[0m\n",
            "\u001b[0;31mNameError\u001b[0m: name '안녕하세요' is not defined"
          ]
        }
      ]
    }
  ]
}