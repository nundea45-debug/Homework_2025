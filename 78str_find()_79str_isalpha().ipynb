{
  "nbformat": 4,
  "nbformat_minor": 0,
  "metadata": {
    "colab": {
      "provenance": [],
      "name": "78str-find()_79str-isalpha().ipynb",
      "authorship_tag": "ABX9TyNFb5J2NpVhrYfIMRSurV8O",
      "include_colab_link": true
    },
    "kernelspec": {
      "name": "python3",
      "display_name": "Python 3"
    },
    "language_info": {
      "name": "python"
    }
  },
  "cells": [
    {
      "cell_type": "markdown",
      "metadata": {
        "id": "view-in-github",
        "colab_type": "text"
      },
      "source": [
        "<a href=\"https://colab.research.google.com/github/nundea45-debug/Homework_2025/blob/main/78str_find()_79str_isalpha().ipynb\" target=\"_parent\"><img src=\"https://colab.research.google.com/assets/colab-badge.svg\" alt=\"Open In Colab\"/></a>"
      ]
    },
    {
      "cell_type": "code",
      "source": [
        "# Unit 78 문자열에서 특정 문자열 위치 찾기 : str.find()\n",
        "\n",
        "# str.find(target) => str에서 target이 위치하는 최초 인덱스를 리턴 (target이 발견되지 않을 시 -1 리턴)"
      ],
      "metadata": {
        "id": "ZHCrmTyYONCh"
      },
      "execution_count": null,
      "outputs": []
    },
    {
      "cell_type": "code",
      "source": [
        "sample = 'A lot of things occur each day, it\\'s very dynamical every day.'\n",
        "pos = sample.find('day')  # 'day'가 위치하는 최초 인덱스 -> 27\n",
        "print(pos)"
      ],
      "metadata": {
        "colab": {
          "base_uri": "https://localhost:8080/"
        },
        "id": "8ujuS9AzO1Ms",
        "outputId": "a5d30803-2ee3-467d-c201-1b495ab7ae8e"
      },
      "execution_count": null,
      "outputs": [
        {
          "output_type": "stream",
          "name": "stdout",
          "text": [
            "27\n"
          ]
        }
      ]
    },
    {
      "cell_type": "code",
      "source": [
        "# 'day'가 위치하는 모든 인덱스를 출력하는 코드\n",
        "spos = 0                                            # find()가 대상을 찾기 시작할 인덱스\n",
        "idx = 0                                             # 대상이 위치하는 인덱스\n",
        "count = 1\n",
        "while idx != -1 :                                   # 'day'가 더 이상 발견 x -> idx가 -1이 되어 종료\n",
        "  idx = sample.find('day', spos)                    # 'day'의 인덱스를 찾아 idx에 할당 (spos에서 시작)\n",
        "  print(f'\"day\"가 발견된 [{count}]번째 인덱스 {idx}')# 'day'를 찾은 인덱스에 1을 더한 것으로 업데이트\n",
        "  spos = idx + 1                                    # find()가 대상을 찾기 시작할 인덱스 수정\n",
        "  count += 1"
      ],
      "metadata": {
        "colab": {
          "base_uri": "https://localhost:8080/"
        },
        "id": "icS9rmCOPNdj",
        "outputId": "dcb26eff-dd6f-4823-a24d-bdb4d027d154"
      },
      "execution_count": null,
      "outputs": [
        {
          "output_type": "stream",
          "name": "stdout",
          "text": [
            "\"day\"가 발견된 [1]번째 인덱스 27\n",
            "\"day\"가 발견된 [2]번째 인덱스 58\n",
            "\"day\"가 발견된 [3]번째 인덱스 -1\n"
          ]
        }
      ]
    },
    {
      "cell_type": "code",
      "source": [
        "# Unit 79 문자열이 언어 문자로만 구성되었는지 확인 : str.isalpha()\n",
        "\n",
        "strList = ['Hello', '오징어게임', '파이썬 lover', '안녕!', '제3세계']"
      ],
      "metadata": {
        "id": "hgipZpcNQlcM"
      },
      "execution_count": null,
      "outputs": []
    },
    {
      "cell_type": "code",
      "source": [
        "for text in strList :\n",
        "  print(f'\"{text}\" \\t--> {text.isalpha()}')\n",
        "  # 'Hello', '오징어게임' => 언어문자 (True)\n",
        "  # '파이썬 lover' => 공백 문자 존재 (False)\n",
        "  # '안녕!' => 문장 기호 ! 존재 (False)\n",
        "  # '제3세계 => 숫자 3 존재 (False)"
      ],
      "metadata": {
        "colab": {
          "base_uri": "https://localhost:8080/"
        },
        "id": "Z7V85xfwcGp8",
        "outputId": "56e32741-8340-4603-92d2-8d41f43d1954"
      },
      "execution_count": null,
      "outputs": [
        {
          "output_type": "stream",
          "name": "stdout",
          "text": [
            "\"Hello\" \t--> True\n",
            "\"오징어게임\" \t--> True\n",
            "\"파이썬 lover\" \t--> False\n",
            "\"안녕!\" \t--> False\n",
            "\"제3세계\" \t--> False\n"
          ]
        }
      ]
    }
  ]
}