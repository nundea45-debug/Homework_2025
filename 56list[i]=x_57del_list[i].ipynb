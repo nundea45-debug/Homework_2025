{
  "nbformat": 4,
  "nbformat_minor": 0,
  "metadata": {
    "colab": {
      "provenance": [],
      "name": "56list[i]=x_57del.list[i].ipynb",
      "authorship_tag": "ABX9TyPXOtX3mrtoNBI2FtToZYz0",
      "include_colab_link": true
    },
    "kernelspec": {
      "name": "python3",
      "display_name": "Python 3"
    },
    "language_info": {
      "name": "python"
    }
  },
  "cells": [
    {
      "cell_type": "markdown",
      "metadata": {
        "id": "view-in-github",
        "colab_type": "text"
      },
      "source": [
        "<a href=\"https://colab.research.google.com/github/nundea45-debug/Homework_2025/blob/main/56list%5Bi%5D%3Dx_57del_list%5Bi%5D.ipynb\" target=\"_parent\"><img src=\"https://colab.research.google.com/assets/colab-badge.svg\" alt=\"Open In Colab\"/></a>"
      ]
    },
    {
      "cell_type": "code",
      "execution_count": null,
      "metadata": {
        "id": "FPUhxpETsFSA"
      },
      "outputs": [],
      "source": [
        "# Unit 56 리스트의 요소값 변경 : list[i] = x\n",
        "\n",
        "# list[i] = x => list의 인덱스 i인 요소를 x로 변경"
      ]
    },
    {
      "cell_type": "code",
      "source": [
        "solarsys = ['태양', '수성', '금성', '지구', '화성', '목성', '토성', '천왕성', '해왕성']\n",
        "solarsys[3] = 'Earth'  # solarsys의 인덱스 3에 해당하는 '지구'를 'Earth'로 변경\n",
        "print(solarsys)"
      ],
      "metadata": {
        "colab": {
          "base_uri": "https://localhost:8080/"
        },
        "id": "rP0y-W7fsuYf",
        "outputId": "ce8cbbf7-d7f7-4fea-94ce-0741760e7e5c"
      },
      "execution_count": null,
      "outputs": [
        {
          "output_type": "stream",
          "name": "stdout",
          "text": [
            "['태양', '수성', '금성', 'Earth', '화성', '목성', '토성', '천왕성', '해왕성']\n"
          ]
        }
      ]
    },
    {
      "cell_type": "code",
      "source": [
        "solarsys_ko = ['태양', '수성', '금성', '지구', '화성', '목성', '토성', '천왕성', '해왕성']\n",
        "solarsys_en = ['Sun', 'Mercury', 'Venus', 'Earth', 'Mars', 'Jupiter', 'Saturn', 'Uranus', 'Naptune']\n",
        "\n",
        "for i in range(len(solarsys_ko)) :\n",
        "  solarsys_ko[i] = solarsys_en[i]  # 한글로 된 태양계 천체들을 영문으로 변경\n",
        "\n",
        "print(solarsys_ko)"
      ],
      "metadata": {
        "colab": {
          "base_uri": "https://localhost:8080/"
        },
        "id": "_X8fgaNWtMdS",
        "outputId": "d5c030e4-9017-4795-96d0-2e081321211e"
      },
      "execution_count": null,
      "outputs": [
        {
          "output_type": "stream",
          "name": "stdout",
          "text": [
            "['Sun', 'Mercury', 'Venus', 'Earth', 'Mars', 'Jupiter', 'Saturn', 'Uranus', 'Naptune']\n"
          ]
        }
      ]
    },
    {
      "cell_type": "code",
      "source": [
        "# Unit 57 리스트에서 요소 삭제하기 1 : del list[i]\n",
        "\n",
        "# del list[i] => list의 인덱스 i인 요소를 삭제"
      ],
      "metadata": {
        "id": "nbmWUm0iuCLI"
      },
      "execution_count": null,
      "outputs": []
    },
    {
      "cell_type": "code",
      "source": [
        "fruits = ['사과', '배', '오렌지', '수박', '참외']\n",
        "del fruits[1]  # fruits의 인덱스 1인 요소 (두 번째 요소) 삭제\n",
        "print(fruits)\n",
        "del fruits[-1] # fruits의 맨 마지막 요소 삭제\n",
        "print(fruits)"
      ],
      "metadata": {
        "colab": {
          "base_uri": "https://localhost:8080/"
        },
        "id": "QR8Xr35euZhC",
        "outputId": "1e1b4706-ad84-49b3-aae1-0b30ef80fad2"
      },
      "execution_count": null,
      "outputs": [
        {
          "output_type": "stream",
          "name": "stdout",
          "text": [
            "['사과', '오렌지', '수박', '참외']\n",
            "['사과', '오렌지', '수박']\n"
          ]
        }
      ]
    },
    {
      "cell_type": "code",
      "source": [
        "solarsys = ['태양', '수성', '금성', '지구', '화성', '소행성대', '목성', '토성']\n",
        "del solarsys[4:6]  # solarsys의 인덱스 4 이상 인덱스 6 미만인 요소를 삭제\n",
        "print(solarsys)"
      ],
      "metadata": {
        "colab": {
          "base_uri": "https://localhost:8080/"
        },
        "id": "3EjTUB5muylu",
        "outputId": "5134b5e2-e54a-4db4-8648-722d71bb9d03"
      },
      "execution_count": null,
      "outputs": [
        {
          "output_type": "stream",
          "name": "stdout",
          "text": [
            "['태양', '수성', '금성', '지구', '목성', '토성']\n"
          ]
        }
      ]
    },
    {
      "cell_type": "code",
      "source": [
        "del solarsys[:]  # solarsys의 모든 요소 삭제\n",
        "print(solarsys)"
      ],
      "metadata": {
        "colab": {
          "base_uri": "https://localhost:8080/"
        },
        "id": "3V7G5jVsvH4l",
        "outputId": "0938b02e-3fc0-4355-917b-6bfbf1c2007f"
      },
      "execution_count": null,
      "outputs": [
        {
          "output_type": "stream",
          "name": "stdout",
          "text": [
            "[]\n"
          ]
        }
      ]
    },
    {
      "cell_type": "code",
      "source": [
        "# 특정 값과 일치하는 요소가 있는 경우, 해당 요소를 삭제하는 코드\n",
        "solarsys = ['태양', '수성', '금성', '지구', '화성', '소행성대', '목성', '토성']\n",
        "if '소행성대' in solarsys :\n",
        "  idx = solarsys.index('소행성대')  # '소행성대'가 solarsys의 요소로 존재하는지 확인\n",
        "  del solarsys[idx]  # '소행성대'의 인덱스를 구하고, del을 이용해 해당 요소 삭제\n",
        "\n",
        "print(solarsys)"
      ],
      "metadata": {
        "colab": {
          "base_uri": "https://localhost:8080/"
        },
        "id": "WmvJLjHzvRyO",
        "outputId": "79b138c3-7b39-449b-eaf8-5e1bf64332e8"
      },
      "execution_count": null,
      "outputs": [
        {
          "output_type": "stream",
          "name": "stdout",
          "text": [
            "['태양', '수성', '금성', '지구', '화성', '목성', '토성']\n"
          ]
        }
      ]
    },
    {
      "cell_type": "code",
      "source": [
        "fruits = ['사과', '배', '오렌지', '수박', '참외']\n",
        "del fruits  # fruits 자체를 메모리에서 삭제\n",
        "print(fruits)  # 정의되어 있지 않은 변수 fruits를 출력하라는 것 => NameError 발생"
      ],
      "metadata": {
        "colab": {
          "base_uri": "https://localhost:8080/",
          "height": 180
        },
        "id": "wj_aUazAv4PU",
        "outputId": "dd24b983-cd86-4d70-c387-9455b0c91558"
      },
      "execution_count": null,
      "outputs": [
        {
          "output_type": "error",
          "ename": "NameError",
          "evalue": "name 'fruits' is not defined",
          "traceback": [
            "\u001b[0;31m---------------------------------------------------------------------------\u001b[0m",
            "\u001b[0;31mNameError\u001b[0m                                 Traceback (most recent call last)",
            "\u001b[0;32m/tmp/ipython-input-3540787241.py\u001b[0m in \u001b[0;36m<cell line: 0>\u001b[0;34m()\u001b[0m\n\u001b[1;32m      1\u001b[0m \u001b[0mfruits\u001b[0m \u001b[0;34m=\u001b[0m \u001b[0;34m[\u001b[0m\u001b[0;34m'사과'\u001b[0m\u001b[0;34m,\u001b[0m \u001b[0;34m'배'\u001b[0m\u001b[0;34m,\u001b[0m \u001b[0;34m'오렌지'\u001b[0m\u001b[0;34m,\u001b[0m \u001b[0;34m'수박'\u001b[0m\u001b[0;34m,\u001b[0m \u001b[0;34m'참외'\u001b[0m\u001b[0;34m]\u001b[0m\u001b[0;34m\u001b[0m\u001b[0;34m\u001b[0m\u001b[0m\n\u001b[1;32m      2\u001b[0m \u001b[0;32mdel\u001b[0m \u001b[0mfruits\u001b[0m  \u001b[0;31m# fruits 자체를 메모리에서 삭제\u001b[0m\u001b[0;34m\u001b[0m\u001b[0;34m\u001b[0m\u001b[0m\n\u001b[0;32m----> 3\u001b[0;31m \u001b[0mprint\u001b[0m\u001b[0;34m(\u001b[0m\u001b[0mfruits\u001b[0m\u001b[0;34m)\u001b[0m  \u001b[0;31m# 정의되어 있지 않은 변수 fruits를 출력하라는 것 => NameError 발생\u001b[0m\u001b[0;34m\u001b[0m\u001b[0;34m\u001b[0m\u001b[0m\n\u001b[0m",
            "\u001b[0;31mNameError\u001b[0m: name 'fruits' is not defined"
          ]
        }
      ]
    }
  ]
}