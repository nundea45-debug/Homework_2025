{
  "nbformat": 4,
  "nbformat_minor": 0,
  "metadata": {
    "colab": {
      "provenance": [],
      "name": "86format()_87str.upper()-str.lower().ipynb",
      "authorship_tag": "ABX9TyN+VfvieqFD26Sq1SFkvbeA",
      "include_colab_link": true
    },
    "kernelspec": {
      "name": "python3",
      "display_name": "Python 3"
    },
    "language_info": {
      "name": "python"
    }
  },
  "cells": [
    {
      "cell_type": "markdown",
      "metadata": {
        "id": "view-in-github",
        "colab_type": "text"
      },
      "source": [
        "<a href=\"https://colab.research.google.com/github/nundea45-debug/Homework_2025/blob/main/86format()_87str_upper()_str_lower().ipynb\" target=\"_parent\"><img src=\"https://colab.research.google.com/assets/colab-badge.svg\" alt=\"Open In Colab\"/></a>"
      ]
    },
    {
      "cell_type": "code",
      "execution_count": null,
      "metadata": {
        "id": "3JFXK2QJL--S"
      },
      "outputs": [],
      "source": [
        "# Unit 86 숫자 왼쪽에 0을 채워서 문자열로 만들기 : format()\n",
        "\n",
        "# format(i, '0n') => 정수 i의 왼쪽을 0으로 채워 n 자리가 되는 문자열로 만듦"
      ]
    },
    {
      "cell_type": "code",
      "source": [
        "names = ['유비', '관우', '장비', '조운', '제갈량']\n",
        "for idx, name in enumerate(names, start = 1) :\n",
        "  order = format(idx, '03')  # => 정수 idx의 왼쪽에 0을 채워 3자리가 되도록 문자열을 만듦\n",
        "  print(f'{order}-{name}')"
      ],
      "metadata": {
        "colab": {
          "base_uri": "https://localhost:8080/"
        },
        "id": "SBi5qexuM6p2",
        "outputId": "4df5b994-9618-413d-ceef-310cffc2d392"
      },
      "execution_count": null,
      "outputs": [
        {
          "output_type": "stream",
          "name": "stdout",
          "text": [
            "001-유비\n",
            "002-관우\n",
            "003-장비\n",
            "004-조운\n",
            "005-제갈량\n"
          ]
        }
      ]
    },
    {
      "cell_type": "code",
      "source": [
        "# Unit 87 문자열에서 대소문자 변환하기 : str.upper(), str.lower()\n",
        "\n",
        "# str.upper() => 문자열 str에 있는 모든 알파벳을 대문자로 변환한 문자열을 리턴\n",
        "# str.lower() => 문자열 str에 있는 모든 알파벳을 소문자로 변환한 문자열을 리턴"
      ],
      "metadata": {
        "id": "pezTJ_ApNelC"
      },
      "execution_count": null,
      "outputs": []
    },
    {
      "cell_type": "code",
      "source": [
        "lyrics = 'A lot of Things occur Each Day!'\n",
        "print(lyrics.upper())  # 모든 알파벳을 대문자로 변환\n",
        "print(lyrics.lower())  # 모든 알파벳을 소문자로 변환\n",
        "print(lyrics)"
      ],
      "metadata": {
        "colab": {
          "base_uri": "https://localhost:8080/"
        },
        "id": "tDV_9-isNy20",
        "outputId": "f148fd65-90a2-4291-9ed1-d9a554ddc861"
      },
      "execution_count": null,
      "outputs": [
        {
          "output_type": "stream",
          "name": "stdout",
          "text": [
            "A LOT OF THINGS OCCUR EACH DAY!\n",
            "a lot of things occur each day!\n",
            "A lot of Things occur Each Day!\n"
          ]
        }
      ]
    }
  ]
}