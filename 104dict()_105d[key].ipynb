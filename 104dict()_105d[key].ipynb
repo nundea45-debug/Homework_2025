{
  "nbformat": 4,
  "nbformat_minor": 0,
  "metadata": {
    "colab": {
      "provenance": [],
      "name": "104dict()_105d[key].ipynb",
      "authorship_tag": "ABX9TyPk766/mvjCL1XwYKMatOAC",
      "include_colab_link": true
    },
    "kernelspec": {
      "name": "python3",
      "display_name": "Python 3"
    },
    "language_info": {
      "name": "python"
    }
  },
  "cells": [
    {
      "cell_type": "markdown",
      "metadata": {
        "id": "view-in-github",
        "colab_type": "text"
      },
      "source": [
        "<a href=\"https://colab.research.google.com/github/nundea45-debug/Homework_2025/blob/main/104dict()_105d%5Bkey%5D.ipynb\" target=\"_parent\"><img src=\"https://colab.research.google.com/assets/colab-badge.svg\" alt=\"Open In Colab\"/></a>"
      ]
    },
    {
      "cell_type": "code",
      "execution_count": null,
      "metadata": {
        "id": "wu1Qp1c3mnUJ"
      },
      "outputs": [],
      "source": [
        "# Unit 104 딕셔너리 객체 : dict()\n",
        "\n",
        "# dictionary 정의 1 : {}안에 키:값 쌍을 콤마로 구분, 나열해 정의\n",
        "population : {'서울':9407540, '부산':3320276, '인천':2964820}  # -> 키:값 쌍 => 도시이름 : 인구수"
      ]
    },
    {
      "cell_type": "code",
      "source": [
        "# dictionary 정의 2 : dict() 클래스를 이용\n",
        "population = dict(서울=9407540, 부산=3320276, 인천=2964820)  # dict() 정의 시 키가 문자열인 경우 => '', \"\"를 사용하지 X\n",
        "print(population)"
      ],
      "metadata": {
        "colab": {
          "base_uri": "https://localhost:8080/"
        },
        "id": "5qw1Q34fpUtX",
        "outputId": "43c317f7-4f8b-4414-f030-de2330b77f72"
      },
      "execution_count": null,
      "outputs": [
        {
          "output_type": "stream",
          "name": "stdout",
          "text": [
            "{'서울': 9407540, '부산': 3320276, '인천': 2964820}\n"
          ]
        }
      ]
    },
    {
      "cell_type": "code",
      "source": [
        "# dictionary 정의 3 : (키, 값) 듀플이 요소인 리스트가 dict()의 인자로 입력\n",
        "population = dict([('서울', 9407540), ('부산', 3320276), ('인천', 2964820)])\n",
        "print(population)"
      ],
      "metadata": {
        "colab": {
          "base_uri": "https://localhost:8080/"
        },
        "id": "PmIw9355vojp",
        "outputId": "3528717b-9186-4207-a963-579f73609516"
      },
      "execution_count": null,
      "outputs": [
        {
          "output_type": "stream",
          "name": "stdout",
          "text": [
            "{'서울': 9407540, '부산': 3320276, '인천': 2964820}\n"
          ]
        }
      ]
    },
    {
      "cell_type": "code",
      "source": [
        "# Unit 105 딕셔너리에서 값 추출하기 1 : d[key]\n",
        "\n",
        "# d[key] => 딕셔너리 d에서 키가 key인 요소의 값을 얻음\n",
        "population = {'서울':9407540, '부산':3320276, '인천':2964820}\n",
        "pnum = population['서울']  # 딕셔너리 자료 population에서 '서울'이 키인 요소의 값(9407540)을 얻음\n",
        "print(f'2022년 기준 서울의 인구는 {pnum:,d}명 입니다.')"
      ],
      "metadata": {
        "colab": {
          "base_uri": "https://localhost:8080/"
        },
        "id": "_vU69FYxxPr3",
        "outputId": "40e7739d-1bbe-4ea9-e6aa-ba0be186eb5d"
      },
      "execution_count": null,
      "outputs": [
        {
          "output_type": "stream",
          "name": "stdout",
          "text": [
            "2022년 기준 서울의 인구는 9,407,540명 입니다.\n"
          ]
        }
      ]
    },
    {
      "cell_type": "code",
      "source": [
        "orddict = {97:'a', 98:'b', 99:'c'}  # 10진 정수가 키이고 문자가 값인 요소로 구성된 딕셔너리\n",
        "print(f'ASCII 코드 97은 문자 {orddict[97]}에 대응됩니다.')  # orddict[97] => 97:'a'에서 값인 'a'를 추출"
      ],
      "metadata": {
        "colab": {
          "base_uri": "https://localhost:8080/"
        },
        "id": "_HNQ7OR2yBjF",
        "outputId": "a6653ab4-5ea7-4a27-928e-89e61a257dfc"
      },
      "execution_count": null,
      "outputs": [
        {
          "output_type": "stream",
          "name": "stdout",
          "text": [
            "ASCII 코드 97은 문자 a에 대응됩니다.\n"
          ]
        }
      ]
    },
    {
      "cell_type": "code",
      "source": [
        "ret = orddict[95]  # 딕셔너리에 없는 키로 값을 추출 => KeyError 오류 발생"
      ],
      "metadata": {
        "colab": {
          "base_uri": "https://localhost:8080/",
          "height": 145
        },
        "id": "i92SazKhyzRu",
        "outputId": "f5df01d0-8895-4e75-ef24-f1c6f3f86f40"
      },
      "execution_count": null,
      "outputs": [
        {
          "output_type": "error",
          "ename": "KeyError",
          "evalue": "95",
          "traceback": [
            "\u001b[0;31m---------------------------------------------------------------------------\u001b[0m",
            "\u001b[0;31mKeyError\u001b[0m                                  Traceback (most recent call last)",
            "\u001b[0;32m/tmp/ipython-input-2298246293.py\u001b[0m in \u001b[0;36m<cell line: 0>\u001b[0;34m()\u001b[0m\n\u001b[0;32m----> 1\u001b[0;31m \u001b[0mret\u001b[0m \u001b[0;34m=\u001b[0m \u001b[0morddict\u001b[0m\u001b[0;34m[\u001b[0m\u001b[0;36m95\u001b[0m\u001b[0;34m]\u001b[0m  \u001b[0;31m# 딕셔너리에 없는 키로 값을 추출 => KeyError 오류 발생\u001b[0m\u001b[0;34m\u001b[0m\u001b[0;34m\u001b[0m\u001b[0m\n\u001b[0m",
            "\u001b[0;31mKeyError\u001b[0m: 95"
          ]
        }
      ]
    }
  ]
}