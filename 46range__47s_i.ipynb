{
  "nbformat": 4,
  "nbformat_minor": 0,
  "metadata": {
    "colab": {
      "provenance": [],
      "authorship_tag": "ABX9TyMpsKqZk2ws6b1ao1Cv/fjW",
      "include_colab_link": true
    },
    "kernelspec": {
      "name": "python3",
      "display_name": "Python 3"
    },
    "language_info": {
      "name": "python"
    }
  },
  "cells": [
    {
      "cell_type": "markdown",
      "metadata": {
        "id": "view-in-github",
        "colab_type": "text"
      },
      "source": [
        "<a href=\"https://colab.research.google.com/github/nundea45-debug/Homework_2025/blob/main/46range__47s_i.ipynb\" target=\"_parent\"><img src=\"https://colab.research.google.com/assets/colab-badge.svg\" alt=\"Open In Colab\"/></a>"
      ]
    },
    {
      "cell_type": "code",
      "execution_count": null,
      "metadata": {
        "colab": {
          "base_uri": "https://localhost:8080/"
        },
        "id": "DCjt4iZMwctY",
        "outputId": "e50bcd0f-8188-477d-bc1b-b8a5aa9c4d29"
      },
      "outputs": [
        {
          "output_type": "stream",
          "name": "stdout",
          "text": [
            "[0, 1, 2, 3, 4, 5, 6, 7, 8, 9]\n"
          ]
        }
      ],
      "source": [
        "# Unit 46 순차적 정수열 만들기 : range()\n",
        "\n",
        "intList = range(10)\n",
        "print(list(intList))"
      ]
    },
    {
      "cell_type": "code",
      "source": [
        "intList = range(10, 20)  # 10부터 시작해 20보다 작은 1간격의 정수열 생성\n",
        "print(list(intList))"
      ],
      "metadata": {
        "colab": {
          "base_uri": "https://localhost:8080/"
        },
        "id": "pbQsL65FzBXw",
        "outputId": "59f65c16-e3d8-40e7-e98c-71919c72c0ee"
      },
      "execution_count": null,
      "outputs": [
        {
          "output_type": "stream",
          "name": "stdout",
          "text": [
            "[10, 11, 12, 13, 14, 15, 16, 17, 18, 19]\n"
          ]
        }
      ]
    },
    {
      "cell_type": "code",
      "source": [
        "intList = range(1, 20, 3)  # 1부터 19까지 3간격의 정수열 생성\n",
        "print(list(intList))"
      ],
      "metadata": {
        "colab": {
          "base_uri": "https://localhost:8080/"
        },
        "id": "RB6c2wE3yw_I",
        "outputId": "bd3b23c3-303b-4ca8-d84e-700be422adf0"
      },
      "execution_count": null,
      "outputs": [
        {
          "output_type": "stream",
          "name": "stdout",
          "text": [
            "[1, 4, 7, 10, 13, 16, 19]\n"
          ]
        }
      ]
    },
    {
      "cell_type": "code",
      "source": [
        "intList = [x for x in range(1, 10, 2)]  # for문의 in 다음에 바로 적용할 수 있음 (range()는 반복 가능이기 때문)\n",
        "print(intList)"
      ],
      "metadata": {
        "colab": {
          "base_uri": "https://localhost:8080/"
        },
        "id": "uVz_1iZVzRs4",
        "outputId": "b48100a6-d8cd-4564-ca76-b30e95ef0240"
      },
      "execution_count": null,
      "outputs": [
        {
          "output_type": "stream",
          "name": "stdout",
          "text": [
            "[1, 3, 5, 7, 9]\n"
          ]
        }
      ]
    },
    {
      "cell_type": "code",
      "source": [
        "# Unit 47 시퀀스 자료 인덱싱 : s[i]\n",
        "\n",
        "heroes = ['슈퍼맨', '스파이더맨', '아이언맨', '배트맨']\n",
        "print(heroes[1])  # heroes의 인덱스가 1인 요소 -> '스파이더맨'"
      ],
      "metadata": {
        "colab": {
          "base_uri": "https://localhost:8080/"
        },
        "id": "QyVdKPtA04VV",
        "outputId": "ea2fe403-dc15-42f1-e60e-277012eb7cce"
      },
      "execution_count": null,
      "outputs": [
        {
          "output_type": "stream",
          "name": "stdout",
          "text": [
            "스파이더맨\n"
          ]
        }
      ]
    },
    {
      "cell_type": "code",
      "source": [
        "print(heroes[-2])  # heroes의 인덱스가 -2인 요소 -> '아이언맨'"
      ],
      "metadata": {
        "colab": {
          "base_uri": "https://localhost:8080/"
        },
        "id": "X9DzfRV913ER",
        "outputId": "0576f01e-5055-4813-8f41-a6512813783b"
      },
      "execution_count": null,
      "outputs": [
        {
          "output_type": "stream",
          "name": "stdout",
          "text": [
            "아이언맨\n"
          ]
        }
      ]
    },
    {
      "cell_type": "code",
      "source": [
        "tmpList = [(1,2), (3,4,5), (6,7,8,9)]\n",
        "print(tmpList[0][1])  # tmpList[0][1] -> tmpList[0]의 인덱스 1인 요소 (tmpList[0] => (1,2), tmpList[0][1] => 2 ((1,2)의 인덱스 1인 요소))"
      ],
      "metadata": {
        "colab": {
          "base_uri": "https://localhost:8080/"
        },
        "id": "jQ6biUOa1_h1",
        "outputId": "b43ea1da-b0bb-4401-d524-98c70da8801e"
      },
      "execution_count": null,
      "outputs": [
        {
          "output_type": "stream",
          "name": "stdout",
          "text": [
            "2\n"
          ]
        }
      ]
    },
    {
      "cell_type": "code",
      "source": [
        "print(tmpList[-1][-3])  # tmpList[-1][-3] -> tmpList[-1]의 인덱스 -3인 요소 (tmpList[-1] => (6,7,8,9), tmpList[-1][-3] => 7 ((6,7,8,9)의 인덱스 -3인 요소))"
      ],
      "metadata": {
        "colab": {
          "base_uri": "https://localhost:8080/"
        },
        "id": "nftup-ws3HB0",
        "outputId": "92d1b41e-0bd6-4c82-893a-31f472b78db6"
      },
      "execution_count": null,
      "outputs": [
        {
          "output_type": "stream",
          "name": "stdout",
          "text": [
            "7\n"
          ]
        }
      ]
    },
    {
      "cell_type": "code",
      "source": [
        "print(tmpList[4][0])  # 시퀀스 자료의 범위 밖 인덱싱인 경우 => IndexError 오류 발생"
      ],
      "metadata": {
        "colab": {
          "base_uri": "https://localhost:8080/",
          "height": 145
        },
        "id": "uJp78no63sVF",
        "outputId": "c869bde3-a7c6-4942-fc43-0a52e3158854"
      },
      "execution_count": null,
      "outputs": [
        {
          "output_type": "error",
          "ename": "IndexError",
          "evalue": "list index out of range",
          "traceback": [
            "\u001b[0;31m---------------------------------------------------------------------------\u001b[0m",
            "\u001b[0;31mIndexError\u001b[0m                                Traceback (most recent call last)",
            "\u001b[0;32m/tmp/ipython-input-1921455574.py\u001b[0m in \u001b[0;36m<cell line: 0>\u001b[0;34m()\u001b[0m\n\u001b[0;32m----> 1\u001b[0;31m \u001b[0mprint\u001b[0m\u001b[0;34m(\u001b[0m\u001b[0mtmpList\u001b[0m\u001b[0;34m[\u001b[0m\u001b[0;36m4\u001b[0m\u001b[0;34m]\u001b[0m\u001b[0;34m[\u001b[0m\u001b[0;36m0\u001b[0m\u001b[0;34m]\u001b[0m\u001b[0;34m)\u001b[0m  \u001b[0;31m# 시퀀스 자료의 범위 밖 인덱싱인 경우 => IndexError 오류 발생\u001b[0m\u001b[0;34m\u001b[0m\u001b[0;34m\u001b[0m\u001b[0m\n\u001b[0m",
            "\u001b[0;31mIndexError\u001b[0m: list index out of range"
          ]
        }
      ]
    }
  ]
}