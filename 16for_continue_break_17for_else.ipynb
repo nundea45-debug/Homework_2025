{
  "nbformat": 4,
  "nbformat_minor": 0,
  "metadata": {
    "colab": {
      "provenance": [],
      "authorship_tag": "ABX9TyMv0b2LTkfQCSimS7XzleiV",
      "include_colab_link": true
    },
    "kernelspec": {
      "name": "python3",
      "display_name": "Python 3"
    },
    "language_info": {
      "name": "python"
    }
  },
  "cells": [
    {
      "cell_type": "markdown",
      "metadata": {
        "id": "view-in-github",
        "colab_type": "text"
      },
      "source": [
        "<a href=\"https://colab.research.google.com/github/nundea45-debug/Homework_2025/blob/main/16for_continue_break_17for_else.ipynb\" target=\"_parent\"><img src=\"https://colab.research.google.com/assets/colab-badge.svg\" alt=\"Open In Colab\"/></a>"
      ]
    },
    {
      "cell_type": "code",
      "execution_count": null,
      "metadata": {
        "id": "BqMgfcppEnJ5"
      },
      "outputs": [],
      "source": [
        "# Unit 16 for문 : for~continue~break\n",
        "\n",
        "for 변수 in 범위 :\n",
        "  반복적으로 실행할 코드 # for문의 기본적인 구문"
      ]
    },
    {
      "cell_type": "code",
      "source": [
        "strData = 'abcdef'\n",
        "for c in strData :\n",
        "  print(c, end = '-')  # 문자열을 범위로 지정한 예"
      ],
      "metadata": {
        "colab": {
          "base_uri": "https://localhost:8080/"
        },
        "id": "ErzMB9NeHi8A",
        "outputId": "a33a808c-4631-45d5-a02f-94f51a044b4f"
      },
      "execution_count": null,
      "outputs": [
        {
          "output_type": "stream",
          "name": "stdout",
          "text": [
            "a-b-c-d-e-f-"
          ]
        }
      ]
    },
    {
      "cell_type": "code",
      "source": [
        "listData = [1,2,3,4,5]\n",
        "for idx in listData :\n",
        "  print(idx, end = '-')  # 리스트를 범위로 지정한 예"
      ],
      "metadata": {
        "colab": {
          "base_uri": "https://localhost:8080/"
        },
        "id": "IPPkUDJmHyF0",
        "outputId": "66e41773-888e-4ae9-e24d-7aec61d7cdab"
      },
      "execution_count": null,
      "outputs": [
        {
          "output_type": "stream",
          "name": "stdout",
          "text": [
            "1-2-3-4-5-"
          ]
        }
      ]
    },
    {
      "cell_type": "code",
      "source": [
        "ascii_codes = {'a' : 97, 'b' : 98, 'c' : 99}\n",
        "for code in ascii_codes.items() :\n",
        "  print(code)  # 딕셔너리를 범위로 지정한 예"
      ],
      "metadata": {
        "colab": {
          "base_uri": "https://localhost:8080/"
        },
        "id": "LoGyZzCOH88z",
        "outputId": "2fafcab2-8364-4d6b-864f-1bf0a8ea7c57"
      },
      "execution_count": null,
      "outputs": [
        {
          "output_type": "stream",
          "name": "stdout",
          "text": [
            "('a', 97)\n",
            "('b', 98)\n",
            "('c', 99)\n"
          ]
        }
      ]
    },
    {
      "cell_type": "code",
      "source": [
        "for i in range(10) :\n",
        "  print(i , end = '#')  # range() 함수를 범위로 지정한 예"
      ],
      "metadata": {
        "colab": {
          "base_uri": "https://localhost:8080/"
        },
        "id": "KVS1bsYINvde",
        "outputId": "8e81b175-58f1-41fb-fd38-382418cfc0fd"
      },
      "execution_count": null,
      "outputs": [
        {
          "output_type": "stream",
          "name": "stdout",
          "text": [
            "0#1#2#3#4#5#6#7#8#9#"
          ]
        }
      ]
    },
    {
      "cell_type": "code",
      "source": [
        "for 변수 in 범위 :\n",
        "  ...\n",
        "    continue  # 다음 반복 실행, continue 아래 코드는 실행하지 않음\n",
        "  ...\n",
        "    break  #  for문 탈출"
      ],
      "metadata": {
        "id": "qfXwsb65N6If"
      },
      "execution_count": null,
      "outputs": []
    },
    {
      "cell_type": "code",
      "source": [
        "# for~continue~break 예 1\n",
        "for i in [1,2,3,4,5] :\n",
        "  print(i)\n",
        "  if i < 2 :\n",
        "    continue\n",
        "  else :\n",
        "    break"
      ],
      "metadata": {
        "colab": {
          "base_uri": "https://localhost:8080/"
        },
        "id": "yPE88STcOQZt",
        "outputId": "669e06af-becd-4f47-9c0d-aad4e162e1c1"
      },
      "execution_count": null,
      "outputs": [
        {
          "output_type": "stream",
          "name": "stdout",
          "text": [
            "1\n",
            "2\n"
          ]
        }
      ]
    },
    {
      "cell_type": "code",
      "source": [
        "# for~continue~break 예 1의 축약\n",
        "for i in [1,2,3,4,5] :\n",
        "  print(i)\n",
        "  if i == 2 :\n",
        "    break"
      ],
      "metadata": {
        "colab": {
          "base_uri": "https://localhost:8080/"
        },
        "id": "2h89WIyjOmL7",
        "outputId": "33525c3a-5ea3-455e-8d69-429968f5222f"
      },
      "execution_count": null,
      "outputs": [
        {
          "output_type": "stream",
          "name": "stdout",
          "text": [
            "1\n",
            "2\n"
          ]
        }
      ]
    },
    {
      "cell_type": "code",
      "source": [
        "# Unit 17 for문 : for~else\n",
        "\n",
        "for 변수 in 범위 :\n",
        "  반복 실행 코드\n",
        "else :\n",
        "  for문의 반복 실행 코드가 빠짐없이 실행되었을 경우 실행할 코드  # for~else 문의 구문"
      ],
      "metadata": {
        "id": "ecnzWzh5O0qC"
      },
      "execution_count": null,
      "outputs": []
    },
    {
      "cell_type": "code",
      "source": [
        "for x in [1,2,3] :\n",
        "  print(x)\n",
        "else :\n",
        "  print('perfect!')  # else :로의 진입은 for문에서 break 등에 의해 코드가 중단됨 없이 정상적으로 실행이 모두 다 되었을 경우"
      ],
      "metadata": {
        "colab": {
          "base_uri": "https://localhost:8080/"
        },
        "id": "ObZZvgSuPDYf",
        "outputId": "4ad9754b-3624-4af9-fd88-e98251ab4ea1"
      },
      "execution_count": null,
      "outputs": [
        {
          "output_type": "stream",
          "name": "stdout",
          "text": [
            "1\n",
            "2\n",
            "3\n",
            "perfect!\n"
          ]
        }
      ]
    },
    {
      "cell_type": "code",
      "source": [
        "for x in [1,2,3] :\n",
        "  print(x)\n",
        "  if x > 1 :\n",
        "    break\n",
        "else :\n",
        "  print('perfect!')"
      ],
      "metadata": {
        "colab": {
          "base_uri": "https://localhost:8080/"
        },
        "id": "fi8Ag1fnPUu3",
        "outputId": "b88bcc0e-6ae2-4abf-d2cc-e6d58fb1d167"
      },
      "execution_count": null,
      "outputs": [
        {
          "output_type": "stream",
          "name": "stdout",
          "text": [
            "1\n",
            "2\n"
          ]
        }
      ]
    }
  ]
}