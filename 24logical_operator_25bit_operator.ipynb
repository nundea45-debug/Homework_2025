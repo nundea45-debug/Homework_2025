{
  "nbformat": 4,
  "nbformat_minor": 0,
  "metadata": {
    "colab": {
      "provenance": [],
      "authorship_tag": "ABX9TyMlLVo3wlDMnCG+9boFeSNI",
      "include_colab_link": true
    },
    "kernelspec": {
      "name": "python3",
      "display_name": "Python 3"
    },
    "language_info": {
      "name": "python"
    }
  },
  "cells": [
    {
      "cell_type": "markdown",
      "metadata": {
        "id": "view-in-github",
        "colab_type": "text"
      },
      "source": [
        "<a href=\"https://colab.research.google.com/github/nundea45-debug/Homework_2025/blob/main/24logical_operator_25bit_operator.ipynb\" target=\"_parent\"><img src=\"https://colab.research.google.com/assets/colab-badge.svg\" alt=\"Open In Colab\"/></a>"
      ]
    },
    {
      "cell_type": "code",
      "execution_count": null,
      "metadata": {
        "id": "QcTsm7P18rOA"
      },
      "outputs": [],
      "source": [
        "# Unit 24 논리연산자 (logical operator) : and, or, not\n",
        "\n",
        "A and B  # A와 B가 모두 참이면 참\n",
        "A or B   # A, B중 하나 이상이 참이면 참\n",
        "not A    # A 논리값의 반대"
      ]
    },
    {
      "cell_type": "code",
      "source": [
        "x = 1 ; y = 2\n",
        "strData1 = 'Hello' ; strData2 = 'python'\n",
        "flag1 = x == y                    # False\n",
        "flag2 = x < y                     # True\n",
        "flag3 = strData1 != strData2      # True\n",
        "flag4 = strData1 > strData2       # False\n",
        "\n",
        "print(flag1 and flag2)\n",
        "print(flag2 and flag3)\n",
        "print(flag3 or flag4)\n",
        "print(flag1 or flag4)\n",
        "print(not flag1)\n",
        "print(not flag2)\n"
      ],
      "metadata": {
        "colab": {
          "base_uri": "https://localhost:8080/"
        },
        "id": "59SwuZQT_lvl",
        "outputId": "12c0e988-9c3d-43f1-c969-95ccfaaf79f0"
      },
      "execution_count": null,
      "outputs": [
        {
          "output_type": "stream",
          "name": "stdout",
          "text": [
            "False\n",
            "True\n",
            "True\n",
            "False\n",
            "True\n",
            "False\n"
          ]
        }
      ]
    },
    {
      "cell_type": "code",
      "source": [
        "# Unit 25 비트연산자 (bit operator) : &, |, ^, >>, <<\n",
        "\n",
        "A & B  # A와 B의 비트 간 and 연산을 수행\n",
        "A | B  # A와 B의 비트 간 or 연산을 수행\n",
        "A ^ B  # A와 B의 비트 간 배타적 논리합 xor 연산을 수행\n",
        "~ A    # A의 비트를 반전시킴, 즉 A의 1의 보수를 만듬\n",
        "A >> n # A의 모튼 비트를 n만큼 오른쪽으로 시프트 시킴\n",
        "A << n # A의 모든 비트를 n만큼 왼쪽으로 시프트 시킴"
      ],
      "metadata": {
        "id": "oSXpcL-8Azw6"
      },
      "execution_count": null,
      "outputs": []
    },
    {
      "cell_type": "code",
      "source": [
        "bit1 = 0x61 ; bit2 = 0x62\n",
        "print(hex(bit1 & bit2))     # 0x60이 출력됨\n",
        "print(hex(bit1 | bit2))     # 0x63이 출력됨\n",
        "print(hex(bit1 ^ bit2))     # 0x3이 출력됨\n",
        "print(hex(bit1 >> 1))       # 0x30이 출력됨\n",
        "print(hex(bit1 << 2))       # 0x184이 출력됨"
      ],
      "metadata": {
        "colab": {
          "base_uri": "https://localhost:8080/"
        },
        "id": "xqHBQg32DWYX",
        "outputId": "147da11f-8cb4-47eb-b1ab-84205d77a394"
      },
      "execution_count": null,
      "outputs": [
        {
          "output_type": "stream",
          "name": "stdout",
          "text": [
            "0x60\n",
            "0x63\n",
            "0x3\n",
            "0x30\n",
            "0x184\n"
          ]
        }
      ]
    },
    {
      "cell_type": "code",
      "source": [
        "byte1 = 0x6b\n",
        "\n",
        "# 하위 4비트 추출\n",
        "lower_4bit = byte1 & 0x0f\n",
        "\n",
        "# 상위 4비크 추출\n",
        "upper_4bit = (byte1 >> 4) & 0x0f\n",
        "\n",
        "print(hex(lower_4bit))\n",
        "print(hex(upper_4bit))"
      ],
      "metadata": {
        "colab": {
          "base_uri": "https://localhost:8080/"
        },
        "id": "gP4rnCaAESwQ",
        "outputId": "0628115c-adc5-4ef8-8c8a-df5b67602d4f"
      },
      "execution_count": null,
      "outputs": [
        {
          "output_type": "stream",
          "name": "stdout",
          "text": [
            "0xb\n",
            "0x6\n"
          ]
        }
      ]
    }
  ]
}