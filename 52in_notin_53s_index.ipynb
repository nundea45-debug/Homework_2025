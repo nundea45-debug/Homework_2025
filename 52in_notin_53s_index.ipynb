{
  "nbformat": 4,
  "nbformat_minor": 0,
  "metadata": {
    "colab": {
      "provenance": [],
      "authorship_tag": "ABX9TyNLeNGoRspvL9nw4PC/OlG9",
      "include_colab_link": true
    },
    "kernelspec": {
      "name": "python3",
      "display_name": "Python 3"
    },
    "language_info": {
      "name": "python"
    }
  },
  "cells": [
    {
      "cell_type": "markdown",
      "metadata": {
        "id": "view-in-github",
        "colab_type": "text"
      },
      "source": [
        "<a href=\"https://colab.research.google.com/github/nundea45-debug/Homework_2025/blob/main/52in_notin_53s_index.ipynb\" target=\"_parent\"><img src=\"https://colab.research.google.com/assets/colab-badge.svg\" alt=\"Open In Colab\"/></a>"
      ]
    },
    {
      "cell_type": "code",
      "source": [
        "# Unit 52 시퀀스 자료에서 요소 체크 : in, not in\n",
        "\n",
        "x in s      # x가 s의 요소로 존재하면 True\n",
        "x not in s  # x가 s의 요소로 존재하지 않으면 True"
      ],
      "metadata": {
        "id": "NMHttIg3o83d"
      },
      "execution_count": null,
      "outputs": []
    },
    {
      "cell_type": "code",
      "source": [
        "lyrics = 'A lof of things occur each day! every day!'\n",
        "flag = 'things' in lyrics\n",
        "print(flag)"
      ],
      "metadata": {
        "colab": {
          "base_uri": "https://localhost:8080/"
        },
        "id": "bMSQ7aWOo9Ur",
        "outputId": "d8954c18-f090-48df-fa7f-522563f14c6c"
      },
      "execution_count": null,
      "outputs": [
        {
          "output_type": "stream",
          "name": "stdout",
          "text": [
            "True\n"
          ]
        }
      ]
    },
    {
      "cell_type": "code",
      "source": [
        "lyrics = 'A lof of things occur each day! every day!'\n",
        "flag = 'today' not in lyrics\n",
        "print(flag)"
      ],
      "metadata": {
        "colab": {
          "base_uri": "https://localhost:8080/"
        },
        "id": "LNUqjiKbpK_Y",
        "outputId": "dfdb39b7-04e2-414a-f87a-e08bb13d9498"
      },
      "execution_count": null,
      "outputs": [
        {
          "output_type": "stream",
          "name": "stdout",
          "text": [
            "True\n"
          ]
        }
      ]
    },
    {
      "cell_type": "code",
      "source": [
        "# if문에서의 in, not in\n",
        "urlList = ['ur11', 'ur12', 'ur13']\n",
        "if 'ur14' in urlList :\n",
        "  print('url14가 urlList의 요소로 존재합니다.')\n",
        "else :\n",
        "  print('ur14가 urlList의 요소로 존재하지 않습니다.')"
      ],
      "metadata": {
        "colab": {
          "base_uri": "https://localhost:8080/"
        },
        "id": "WYy-DgLypW-A",
        "outputId": "5c5c068a-48cb-484b-9e5b-b72a52d23f5f"
      },
      "execution_count": null,
      "outputs": [
        {
          "output_type": "stream",
          "name": "stdout",
          "text": [
            "ur14가 urlList의 요소로 존재하지 않습니다.\n"
          ]
        }
      ]
    },
    {
      "cell_type": "code",
      "source": [
        "# Unit 53 시퀀스 자료의 특정 요소 인덱스 구하기 : s.index()\n",
        "\n",
        "fruits = ('사과', '배', '참외', '수박', '배', '오렌지')\n",
        "pos = fruits.index('배')  # s.index(target)은 시퀀스 자료 s에서 target이 최초로 발견되는 위치의 인덱스 리턴\n",
        "print(f'배는 {pos+1}번째 과일입니다.')"
      ],
      "metadata": {
        "colab": {
          "base_uri": "https://localhost:8080/"
        },
        "id": "LpbkJWz0p2AB",
        "outputId": "71d34dcf-f09b-4eb9-a26b-7bc0be049954"
      },
      "execution_count": null,
      "outputs": [
        {
          "output_type": "stream",
          "name": "stdout",
          "text": [
            "배는 2번째 과일입니다.\n"
          ]
        }
      ]
    },
    {
      "cell_type": "code",
      "source": [
        "fruits = ('사과', '배', '참외', '수박', '배', '오렌지')\n",
        "pos = fruits.index('배',3)  # fruits에서 인덱스가 3 이상인 '배'의 인덱스를 찾으라는 의미 (인덱스가 3 이상인 '배'의 인덱스 => 4)\n",
        "print(f'배는 {pos+1}번째 과일입니다.')"
      ],
      "metadata": {
        "colab": {
          "base_uri": "https://localhost:8080/"
        },
        "id": "7svMaLSRqhpw",
        "outputId": "1643df7e-5770-4724-bf86-9e21456f1236"
      },
      "execution_count": null,
      "outputs": [
        {
          "output_type": "stream",
          "name": "stdout",
          "text": [
            "배는 5번째 과일입니다.\n"
          ]
        }
      ]
    },
    {
      "cell_type": "code",
      "source": [
        "fruits = ('사과', '배', '참외', '수박', '배', '오렌지')\n",
        "pos = fruits.index('사과', 3)  # 존재하지 않는 요소의 인덱스를 찾음 => ValueError 발생\n",
        "print(f'사과는 {pos+1}번째 과일입니다.')"
      ],
      "metadata": {
        "colab": {
          "base_uri": "https://localhost:8080/",
          "height": 180
        },
        "id": "3Vz-udHSq_Jy",
        "outputId": "aafcc770-83da-4a11-b9ad-1e6344e5e604"
      },
      "execution_count": null,
      "outputs": [
        {
          "output_type": "error",
          "ename": "ValueError",
          "evalue": "tuple.index(x): x not in tuple",
          "traceback": [
            "\u001b[0;31m---------------------------------------------------------------------------\u001b[0m",
            "\u001b[0;31mValueError\u001b[0m                                Traceback (most recent call last)",
            "\u001b[0;32m/tmp/ipython-input-3268055961.py\u001b[0m in \u001b[0;36m<cell line: 0>\u001b[0;34m()\u001b[0m\n\u001b[1;32m      1\u001b[0m \u001b[0mfruits\u001b[0m \u001b[0;34m=\u001b[0m \u001b[0;34m(\u001b[0m\u001b[0;34m'사과'\u001b[0m\u001b[0;34m,\u001b[0m \u001b[0;34m'배'\u001b[0m\u001b[0;34m,\u001b[0m \u001b[0;34m'참외'\u001b[0m\u001b[0;34m,\u001b[0m \u001b[0;34m'수박'\u001b[0m\u001b[0;34m,\u001b[0m \u001b[0;34m'배'\u001b[0m\u001b[0;34m,\u001b[0m \u001b[0;34m'오렌지'\u001b[0m\u001b[0;34m)\u001b[0m\u001b[0;34m\u001b[0m\u001b[0;34m\u001b[0m\u001b[0m\n\u001b[0;32m----> 2\u001b[0;31m \u001b[0mpos\u001b[0m \u001b[0;34m=\u001b[0m \u001b[0mfruits\u001b[0m\u001b[0;34m.\u001b[0m\u001b[0mindex\u001b[0m\u001b[0;34m(\u001b[0m\u001b[0;34m'사과'\u001b[0m\u001b[0;34m,\u001b[0m \u001b[0;36m3\u001b[0m\u001b[0;34m)\u001b[0m  \u001b[0;31m# 존재하지 않는 요소의 인덱스를 찾음 => ValueError 발생\u001b[0m\u001b[0;34m\u001b[0m\u001b[0;34m\u001b[0m\u001b[0m\n\u001b[0m\u001b[1;32m      3\u001b[0m \u001b[0mprint\u001b[0m\u001b[0;34m(\u001b[0m\u001b[0;34mf'사과는 {pos+1}번째 과일입니다.'\u001b[0m\u001b[0;34m)\u001b[0m\u001b[0;34m\u001b[0m\u001b[0;34m\u001b[0m\u001b[0m\n",
            "\u001b[0;31mValueError\u001b[0m: tuple.index(x): x not in tuple"
          ]
        }
      ]
    }
  ]
}