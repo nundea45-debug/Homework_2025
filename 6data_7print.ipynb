{
  "nbformat": 4,
  "nbformat_minor": 0,
  "metadata": {
    "colab": {
      "provenance": [],
      "authorship_tag": "ABX9TyNFVacFLHmuoLzoukJ71cDW",
      "include_colab_link": true
    },
    "kernelspec": {
      "name": "python3",
      "display_name": "Python 3"
    },
    "language_info": {
      "name": "python"
    }
  },
  "cells": [
    {
      "cell_type": "markdown",
      "metadata": {
        "id": "view-in-github",
        "colab_type": "text"
      },
      "source": [
        "<a href=\"https://colab.research.google.com/github/nundea45-debug/Homework_2025/blob/main/6data_7print.ipynb\" target=\"_parent\"><img src=\"https://colab.research.google.com/assets/colab-badge.svg\" alt=\"Open In Colab\"/></a>"
      ]
    },
    {
      "cell_type": "code",
      "execution_count": null,
      "metadata": {
        "id": "QbScafcRRTwp"
      },
      "outputs": [],
      "source": [
        "# Unit 6 자료형 개념\n",
        "\n",
        "# 수치 자료\n",
        "intData = 15        # 정수 데이터\n",
        "floatData = 2.5     # 실수 데이터\n",
        "complexData = 1 +1j # 복소수 데이터"
      ]
    },
    {
      "cell_type": "code",
      "source": [
        "# 불리언 자료\n",
        "isTrue = True\n",
        "isFalse = False\n",
        "\n",
        "# 시퀀스 자료 : 리스트, 튜플, 문자열, range 객체, 바이너리 시퀀스 자료"
      ],
      "metadata": {
        "id": "ts4Z2GMaVWNU"
      },
      "execution_count": null,
      "outputs": []
    },
    {
      "cell_type": "code",
      "source": [
        "# set 자료\n",
        "setData = {1, 2, 3, 4, 5}"
      ],
      "metadata": {
        "id": "wzI2u_EsVvFr"
      },
      "execution_count": null,
      "outputs": []
    },
    {
      "cell_type": "code",
      "source": [
        "# 딕셔너리\n",
        "dictData = {0:False, 1:True}"
      ],
      "metadata": {
        "id": "fFtG1vG7WcTH"
      },
      "execution_count": null,
      "outputs": []
    },
    {
      "cell_type": "code",
      "source": [
        "# Unit 7 print()\n",
        "\n",
        "print('안녕하세요 파이썬!')  # 문자열 출력"
      ],
      "metadata": {
        "colab": {
          "base_uri": "https://localhost:8080/"
        },
        "id": "ujlkzy2wWqzF",
        "outputId": "38502686-2ea9-4e23-f46c-1b8609948235"
      },
      "execution_count": null,
      "outputs": [
        {
          "output_type": "stream",
          "name": "stdout",
          "text": [
            "안녕하세요 파이썬!\n"
          ]
        }
      ]
    },
    {
      "cell_type": "code",
      "source": [
        "hello = '안녕하세요 파이썬!'\n",
        "print(hello)  # 변수 hello의 값을 출력"
      ],
      "metadata": {
        "colab": {
          "base_uri": "https://localhost:8080/"
        },
        "id": "AJBL2cJdXAhD",
        "outputId": "669dfec6-eaa2-434e-af35-038bc6583e51"
      },
      "execution_count": null,
      "outputs": [
        {
          "output_type": "stream",
          "name": "stdout",
          "text": [
            "안녕하세요 파이썬!\n"
          ]
        }
      ]
    },
    {
      "cell_type": "code",
      "source": [
        "intData1 = 1\n",
        "intData2 = 2\n",
        "print(intData1 + intData2)  # intData1 과 intData2를 더한 값 출력"
      ],
      "metadata": {
        "colab": {
          "base_uri": "https://localhost:8080/"
        },
        "id": "TNpD7lzwXKSY",
        "outputId": "e518db64-d7b0-4192-ae7f-967b0d32dbcd"
      },
      "execution_count": null,
      "outputs": [
        {
          "output_type": "stream",
          "name": "stdout",
          "text": [
            "3\n"
          ]
        }
      ]
    },
    {
      "cell_type": "code",
      "source": [
        "name = '홍길동'\n",
        "phone = '010-1234-5678'\n",
        "print('이름 :', name, '핸드폰 :', phone)  # 콤마(,)로 구분되어 있으면 입력된 값을 연속으로 출력"
      ],
      "metadata": {
        "colab": {
          "base_uri": "https://localhost:8080/"
        },
        "id": "CXcbOQ_SXepM",
        "outputId": "3f44d22f-1405-4b75-aa54-b8e59dd3da5b"
      },
      "execution_count": null,
      "outputs": [
        {
          "output_type": "stream",
          "name": "stdout",
          "text": [
            "이름 : 홍길동 핸드폰 : 010-1234-5678\n"
          ]
        }
      ]
    },
    {
      "cell_type": "code",
      "source": [
        "print('#', end = '')\n",
        "print('#' * 5)  # 줄바꿈 없이 연속으로 출력하기 위해 print()의 두 번째 인자로 end = ' ' 지정"
      ],
      "metadata": {
        "colab": {
          "base_uri": "https://localhost:8080/"
        },
        "id": "UGAVK4WkYCOH",
        "outputId": "bd93b530-afbc-4b77-acae-1ab9f3d9da55"
      },
      "execution_count": null,
      "outputs": [
        {
          "output_type": "stream",
          "name": "stdout",
          "text": [
            "######\n"
          ]
        }
      ]
    },
    {
      "cell_type": "code",
      "source": [
        "print(name, phone, sep = ';')  # 콤마로 구분되 입력된 값을 특정 문자나 문자열로 구분하여 출력하기 위해 print()의 마지막 인자로 sep=<구분문자/구분문자열>을 지정"
      ],
      "metadata": {
        "colab": {
          "base_uri": "https://localhost:8080/"
        },
        "id": "jzbuSJ_AYwVl",
        "outputId": "ab83d2c2-feab-4e5f-9434-5c438ac8aedf"
      },
      "execution_count": null,
      "outputs": [
        {
          "output_type": "stream",
          "name": "stdout",
          "text": [
            "홍길동;010-1234-5678\n"
          ]
        }
      ]
    }
  ]
}