{
  "nbformat": 4,
  "nbformat_minor": 0,
  "metadata": {
    "colab": {
      "provenance": [],
      "name": "100set.remove()_101set.discard().ipynb",
      "authorship_tag": "ABX9TyO0TI1xHfFZC2gPK5AIVB+A",
      "include_colab_link": true
    },
    "kernelspec": {
      "name": "python3",
      "display_name": "Python 3"
    },
    "language_info": {
      "name": "python"
    }
  },
  "cells": [
    {
      "cell_type": "markdown",
      "metadata": {
        "id": "view-in-github",
        "colab_type": "text"
      },
      "source": [
        "<a href=\"https://colab.research.google.com/github/nundea45-debug/Homework_2025/blob/main/100set_remove()_101set_discard().ipynb\" target=\"_parent\"><img src=\"https://colab.research.google.com/assets/colab-badge.svg\" alt=\"Open In Colab\"/></a>"
      ]
    },
    {
      "cell_type": "code",
      "execution_count": null,
      "metadata": {
        "colab": {
          "base_uri": "https://localhost:8080/"
        },
        "id": "knBmC0j6TMvB",
        "outputId": "d30ea486-d022-4452-f282-d6ceda5a28ed"
      },
      "outputs": [
        {
          "output_type": "stream",
          "name": "stdout",
          "text": [
            "{'오렌지', '수박', '배'}\n"
          ]
        }
      ],
      "source": [
        "# Unit 100 set에서 요소 제거 1 : set.remove()\n",
        "\n",
        "# set.remove(elem) => set에서 elem을 제거\n",
        "fruits = {'사과', '배', '오렌지', '수박'}\n",
        "fruits.remove('사과')\n",
        "print(fruits)"
      ]
    },
    {
      "cell_type": "code",
      "source": [
        "fruits.remove('딸기')  # set 자료에서 없는 자료 제거시 => KeyError 오류 발생"
      ],
      "metadata": {
        "colab": {
          "base_uri": "https://localhost:8080/",
          "height": 145
        },
        "id": "RlmzZlgDVp0v",
        "outputId": "dbf05dc5-ce66-4eeb-ebac-3d7a51acb7e9"
      },
      "execution_count": null,
      "outputs": [
        {
          "output_type": "error",
          "ename": "KeyError",
          "evalue": "'딸기'",
          "traceback": [
            "\u001b[0;31m---------------------------------------------------------------------------\u001b[0m",
            "\u001b[0;31mKeyError\u001b[0m                                  Traceback (most recent call last)",
            "\u001b[0;32m/tmp/ipython-input-474485546.py\u001b[0m in \u001b[0;36m<cell line: 0>\u001b[0;34m()\u001b[0m\n\u001b[0;32m----> 1\u001b[0;31m \u001b[0mfruits\u001b[0m\u001b[0;34m.\u001b[0m\u001b[0mremove\u001b[0m\u001b[0;34m(\u001b[0m\u001b[0;34m'딸기'\u001b[0m\u001b[0;34m)\u001b[0m  \u001b[0;31m# set 자료에서 없는 자료 제거시 => KeyError 오류 발생\u001b[0m\u001b[0;34m\u001b[0m\u001b[0;34m\u001b[0m\u001b[0m\n\u001b[0m",
            "\u001b[0;31mKeyError\u001b[0m: '딸기'"
          ]
        }
      ]
    },
    {
      "cell_type": "code",
      "source": [
        "# Unit 101 set에서 요소 제거 2 : set.discard()\n",
        "\n",
        "# set.discard(elem) => set에서 elem이 있을 때 elem을 제거, elem이 없어도 KeyError 발생 X\n",
        "fruits = {'사과', '배', '오렌지', '수박'}\n",
        "fruits.discard('사과')\n",
        "print(fruits)\n",
        "fruits.discard('딸기')\n",
        "print(fruits)"
      ],
      "metadata": {
        "colab": {
          "base_uri": "https://localhost:8080/"
        },
        "id": "NJK5XLQ-V2U4",
        "outputId": "0d7ae9a8-9245-4db8-be4b-b947c75afbfd"
      },
      "execution_count": null,
      "outputs": [
        {
          "output_type": "stream",
          "name": "stdout",
          "text": [
            "{'오렌지', '수박', '배'}\n",
            "{'오렌지', '수박', '배'}\n"
          ]
        }
      ]
    }
  ]
}