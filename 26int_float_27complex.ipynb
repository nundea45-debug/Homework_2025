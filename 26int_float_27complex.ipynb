{
  "nbformat": 4,
  "nbformat_minor": 0,
  "metadata": {
    "colab": {
      "provenance": [],
      "authorship_tag": "ABX9TyOVcUfnKOXAqgAMRPTstjN/",
      "include_colab_link": true
    },
    "kernelspec": {
      "name": "python3",
      "display_name": "Python 3"
    },
    "language_info": {
      "name": "python"
    }
  },
  "cells": [
    {
      "cell_type": "markdown",
      "metadata": {
        "id": "view-in-github",
        "colab_type": "text"
      },
      "source": [
        "<a href=\"https://colab.research.google.com/github/nundea45-debug/Homework_2025/blob/main/26int_float_27complex.ipynb\" target=\"_parent\"><img src=\"https://colab.research.google.com/assets/colab-badge.svg\" alt=\"Open In Colab\"/></a>"
      ]
    },
    {
      "cell_type": "code",
      "execution_count": null,
      "metadata": {
        "id": "qKpdejGtDvnQ"
      },
      "outputs": [],
      "source": [
        "# Unit 26 정수, 실수 : int, float\n",
        "\n",
        "# 정수형 상수 (int)\n",
        "intData1 = 20  # 10진수 정수로 선언"
      ]
    },
    {
      "cell_type": "code",
      "source": [
        "octData = 0o24  # 정수 20을 8진수로 선언, 0o는 8진수임을 나타냄\n",
        "hexData = 0x14  # 정수 20을 16진수로 선언, 0x는 16진수임을 나타냄"
      ],
      "metadata": {
        "id": "rE27R_3N-wH0"
      },
      "execution_count": null,
      "outputs": []
    },
    {
      "cell_type": "code",
      "source": [
        "# 실수형 상수 (float)\n",
        "fData1 = 1.0\n",
        "fData2 = 2."
      ],
      "metadata": {
        "id": "NBC_lGOqARhp"
      },
      "execution_count": null,
      "outputs": []
    },
    {
      "cell_type": "code",
      "source": [
        "intData1 = 5\n",
        "intData2 = 10\n",
        "ret = intData2 / intData1\n",
        "print(type(ret))"
      ],
      "metadata": {
        "colab": {
          "base_uri": "https://localhost:8080/"
        },
        "id": "5vVLrtzkBJKt",
        "outputId": "6571e879-5a0f-42cc-9f43-b2d2d11c7e5e"
      },
      "execution_count": null,
      "outputs": [
        {
          "output_type": "stream",
          "name": "stdout",
          "text": [
            "<class 'float'>\n"
          ]
        }
      ]
    },
    {
      "cell_type": "code",
      "source": [
        "numData = 2e2  # 200\n",
        "print(type(numData))"
      ],
      "metadata": {
        "colab": {
          "base_uri": "https://localhost:8080/"
        },
        "id": "EhhVNuxTBXGP",
        "outputId": "ec49b3c1-48a3-4d80-a322-7ccb215729ac"
      },
      "execution_count": null,
      "outputs": [
        {
          "output_type": "stream",
          "name": "stdout",
          "text": [
            "<class 'float'>\n"
          ]
        }
      ]
    },
    {
      "cell_type": "code",
      "source": [
        "# Unit 27 복소수 : complex\n",
        "\n",
        "# 복소수형 상수 (실수부 + 허수부)\n",
        "cData1 = 1 + 1j\n",
        "cData2 = complex(1, 1)\n",
        "print(cData1 == cData2)"
      ],
      "metadata": {
        "colab": {
          "base_uri": "https://localhost:8080/"
        },
        "id": "ZDRaCVf3BiFr",
        "outputId": "e3e27710-60c3-454e-8109-a238e8d2bd2c"
      },
      "execution_count": null,
      "outputs": [
        {
          "output_type": "stream",
          "name": "stdout",
          "text": [
            "True\n"
          ]
        }
      ]
    },
    {
      "cell_type": "code",
      "source": [
        "print(cData1.real)  # 복소수 자료 cData1의 실수부 추출\n",
        "print(cData2.imag)  # 복소수 자료 cData2의 허수부 추출"
      ],
      "metadata": {
        "colab": {
          "base_uri": "https://localhost:8080/"
        },
        "id": "y1nOY4xdB_pb",
        "outputId": "45ddfd31-26f0-49d1-fb9b-5463cece4608"
      },
      "execution_count": null,
      "outputs": [
        {
          "output_type": "stream",
          "name": "stdout",
          "text": [
            "1.0\n",
            "1.0\n"
          ]
        }
      ]
    },
    {
      "cell_type": "code",
      "source": [
        "complexData1 = 1 - 5j\n",
        "complexData2 = complex(2, 3)\n",
        "print(complexData1.conjugate())  # 복소수의 켤레복소수 구하기 => conjugate()\n",
        "print(complexData2.conjugate())"
      ],
      "metadata": {
        "colab": {
          "base_uri": "https://localhost:8080/"
        },
        "id": "IWEq2QlqCMsA",
        "outputId": "64943f1c-4372-41e6-c14a-eacfffafaa10"
      },
      "execution_count": null,
      "outputs": [
        {
          "output_type": "stream",
          "name": "stdout",
          "text": [
            "(1+5j)\n",
            "(2-3j)\n"
          ]
        }
      ]
    }
  ]
}