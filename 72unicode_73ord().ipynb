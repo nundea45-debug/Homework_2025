{
  "nbformat": 4,
  "nbformat_minor": 0,
  "metadata": {
    "colab": {
      "provenance": [],
      "name": "72unicode_73ord().ipynb",
      "authorship_tag": "ABX9TyO7Fqba/KgirPFeJvOKOxPy",
      "include_colab_link": true
    },
    "kernelspec": {
      "name": "python3",
      "display_name": "Python 3"
    },
    "language_info": {
      "name": "python"
    }
  },
  "cells": [
    {
      "cell_type": "markdown",
      "metadata": {
        "id": "view-in-github",
        "colab_type": "text"
      },
      "source": [
        "<a href=\"https://colab.research.google.com/github/nundea45-debug/Homework_2025/blob/main/72unicode_73ord().ipynb\" target=\"_parent\"><img src=\"https://colab.research.google.com/assets/colab-badge.svg\" alt=\"Open In Colab\"/></a>"
      ]
    },
    {
      "cell_type": "code",
      "execution_count": null,
      "metadata": {
        "id": "tIbBiz1HuvcJ"
      },
      "outputs": [],
      "source": [
        "# Unit 72 유니코드(unicode) 문자열\n",
        "\n",
        "strData1 = 'I love python!'       # 유니코드 문자열\n",
        "strData2 = \"사랑해요 파이썬!\"      # 유니코드 문자열\n",
        "strData3 = \"\"\"A lot of things\n",
        "occur each day!\"\"\"                # 유니코드 문자열"
      ]
    },
    {
      "cell_type": "code",
      "source": [
        "# Unit 73 문자 코드값 구하기 : ord()\n",
        "\n",
        "while True :\n",
        "  ch = input('문자 1개를 입력하세요[끝내려면 엔터를 치세요] : ')\n",
        "  if len(ch) == 0 :\n",
        "    break\n",
        "  ch = ch[0]\n",
        "  code = ord(ch)  # ord() => 문자를 컴퓨터가 인식하는 코드값으로 변환\n",
        "  print(f'--> 문자 \"{ch}\"의 코드값 : {hex(code)}')"
      ],
      "metadata": {
        "colab": {
          "base_uri": "https://localhost:8080/"
        },
        "id": "v2cVtD8owrlq",
        "outputId": "bc4e5469-4b1e-4406-d42d-33003676ec46"
      },
      "execution_count": null,
      "outputs": [
        {
          "name": "stdout",
          "output_type": "stream",
          "text": [
            "문자 1개를 입력하세요[끝내려면 엔터를 치세요] : 나\n",
            "--> 문자 \"나\"의 코드값 : 0xb098\n",
            "문자 1개를 입력하세요[끝내려면 엔터를 치세요] : \n"
          ]
        }
      ]
    }
  ]
}