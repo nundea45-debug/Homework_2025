{
  "nbformat": 4,
  "nbformat_minor": 0,
  "metadata": {
    "colab": {
      "provenance": [],
      "authorship_tag": "ABX9TyMjf5HULzBQumej0sAmRRUP",
      "include_colab_link": true
    },
    "kernelspec": {
      "name": "python3",
      "display_name": "Python 3"
    },
    "language_info": {
      "name": "python"
    }
  },
  "cells": [
    {
      "cell_type": "markdown",
      "metadata": {
        "id": "view-in-github",
        "colab_type": "text"
      },
      "source": [
        "<a href=\"https://colab.research.google.com/github/nundea45-debug/Homework_2025/blob/main/68stack_69queue.ipynb\" target=\"_parent\"><img src=\"https://colab.research.google.com/assets/colab-badge.svg\" alt=\"Open In Colab\"/></a>"
      ]
    },
    {
      "cell_type": "code",
      "execution_count": null,
      "metadata": {
        "id": "mbWQhnK0KRR4"
      },
      "outputs": [],
      "source": [
        "# Unit 68 리스트로 스택(stack) 구현하기\n",
        "\n",
        "mystack = []  # 스택으로 활용할 리스트를 mystack으로 정의"
      ]
    },
    {
      "cell_type": "code",
      "source": [
        "def putData(data) :  # 스택에 데이터를 저장하는 함수 구현\n",
        "  mystack.append(data)  # append(data) => 리스트 맨 마지막 요소로 data 추가"
      ],
      "metadata": {
        "id": "tdiSwFOqKssZ"
      },
      "execution_count": null,
      "outputs": []
    },
    {
      "cell_type": "code",
      "source": [
        "def popData() :  # mystack에서 데이터를 꺼내는 함수\n",
        "  if len(mystack) == 0 :\n",
        "    return None  # mystack에 요소가 하나도 없을 시 None을 리턴\n",
        "  return mystack.pop()  # pop() => 리스트의 맨 마지막 요소 추출"
      ],
      "metadata": {
        "id": "fotcV_iBLG_d"
      },
      "execution_count": null,
      "outputs": []
    },
    {
      "cell_type": "code",
      "source": [
        "putData('사과')  # putData() => 스택에 데이터 저장\n",
        "putData([1,2,3])\n",
        "putData(3.141592)\n",
        "print(f'스택상태 : {mystack}')"
      ],
      "metadata": {
        "colab": {
          "base_uri": "https://localhost:8080/"
        },
        "id": "a--EiFDKLl7c",
        "outputId": "e8f14943-9750-4150-9860-6586417db380"
      },
      "execution_count": null,
      "outputs": [
        {
          "output_type": "stream",
          "name": "stdout",
          "text": [
            "스택상태 : ['사과', [1, 2, 3], 3.141592]\n"
          ]
        }
      ]
    },
    {
      "cell_type": "code",
      "source": [
        "ret = popData()  # popData() => mystack에 저장되 모든 데이터 추출\n",
        "while ret != None :  # <-> ret == None => mystack에 저장된 데이터가 없다는 뜻\n",
        "  print(f'스택에서 데이터 추출 : {ret}')\n",
        "  print(f'스택상태 : {mystack}')\n",
        "  print('----------------')\n",
        "  ret = popData()"
      ],
      "metadata": {
        "colab": {
          "base_uri": "https://localhost:8080/"
        },
        "id": "XtAlIBSNNOdv",
        "outputId": "d32200c4-71aa-4b63-c773-7ce218061371"
      },
      "execution_count": null,
      "outputs": [
        {
          "output_type": "stream",
          "name": "stdout",
          "text": [
            "스택에서 데이터 추출 : 3.141592\n",
            "스택상태 : ['사과', [1, 2, 3]]\n",
            "----------------\n",
            "스택에서 데이터 추출 : [1, 2, 3]\n",
            "스택상태 : ['사과']\n",
            "----------------\n",
            "스택에서 데이터 추출 : 사과\n",
            "스택상태 : []\n",
            "----------------\n"
          ]
        }
      ]
    },
    {
      "cell_type": "code",
      "source": [
        "# Unit 69 리스트로 큐(queue) 구현하기\n",
        "\n",
        "import collections\n",
        "myqueue = collections.deque([ ])  # 큐로 활용할 자료 myqueue 선언 (deque 객체가 됨)"
      ],
      "metadata": {
        "id": "Ea4ieHGzOG5B"
      },
      "execution_count": null,
      "outputs": []
    },
    {
      "cell_type": "code",
      "source": [
        "def putData(data) :  # 큐에 데이터를 저장하는 함수 구현\n",
        "  myqueue.append(data)  # myqueue의 맨 마지막 요소로 data 추가"
      ],
      "metadata": {
        "id": "4rZWCSHsPmhv"
      },
      "execution_count": null,
      "outputs": []
    },
    {
      "cell_type": "code",
      "source": [
        "def popData() :  # popData() => myqueue에서 데이터를 꺼내는 함수\n",
        "  if len(myqueue) == 0 :\n",
        "    return None  # myqueue에 요소가 하나도 없을 시 None 리턴\n",
        "  return myqueue.popleft()  # popleft() => 맨 첫 번째 요소 추출"
      ],
      "metadata": {
        "id": "NaIiWlsGP3Ii"
      },
      "execution_count": null,
      "outputs": []
    },
    {
      "cell_type": "code",
      "source": [
        "putData('사과')  # putData() => 큐에 데이터 저장\n",
        "putData([1,2,3])\n",
        "putData(3.141592)\n",
        "print(f'큐상태 : {myqueue}')"
      ],
      "metadata": {
        "colab": {
          "base_uri": "https://localhost:8080/"
        },
        "id": "J4M7-Y4TQTrD",
        "outputId": "2838d0f6-06d4-450a-cb88-4de9632afb78"
      },
      "execution_count": null,
      "outputs": [
        {
          "output_type": "stream",
          "name": "stdout",
          "text": [
            "큐상태 : deque(['사과', [1, 2, 3], 3.141592])\n"
          ]
        }
      ]
    },
    {
      "cell_type": "code",
      "source": [
        "ret = popData()  # popData() => myData에 저장된 모든 데이터 추출\n",
        "while ret != None :  # <-> ret == None => myqueue에 저장된 데이터가 없음\n",
        "  print(f'큐에서 데이터 추출 : {ret}')\n",
        "  print(f'큐상태 : {myqueue}')\n",
        "  print('---------------')\n",
        "  ret = popData()"
      ],
      "metadata": {
        "colab": {
          "base_uri": "https://localhost:8080/"
        },
        "id": "wMgPz1QvQlvz",
        "outputId": "324ad966-078e-4d9d-96e1-fc11c3695a02"
      },
      "execution_count": null,
      "outputs": [
        {
          "output_type": "stream",
          "name": "stdout",
          "text": [
            "큐에서 데이터 추출 : 사과\n",
            "큐상태 : deque([[1, 2, 3], 3.141592])\n",
            "---------------\n",
            "큐에서 데이터 추출 : [1, 2, 3]\n",
            "큐상태 : deque([3.141592])\n",
            "---------------\n",
            "큐에서 데이터 추출 : 3.141592\n",
            "큐상태 : deque([])\n",
            "---------------\n"
          ]
        }
      ]
    }
  ]
}