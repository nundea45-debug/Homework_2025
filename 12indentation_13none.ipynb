{
  "nbformat": 4,
  "nbformat_minor": 0,
  "metadata": {
    "colab": {
      "provenance": [],
      "authorship_tag": "ABX9TyOmr63dO1yHDpSecBPxYsZ2",
      "include_colab_link": true
    },
    "kernelspec": {
      "name": "python3",
      "display_name": "Python 3"
    },
    "language_info": {
      "name": "python"
    }
  },
  "cells": [
    {
      "cell_type": "markdown",
      "metadata": {
        "id": "view-in-github",
        "colab_type": "text"
      },
      "source": [
        "<a href=\"https://colab.research.google.com/github/nundea45-debug/Homework_2025/blob/main/12indentation_13none.ipynb\" target=\"_parent\"><img src=\"https://colab.research.google.com/assets/colab-badge.svg\" alt=\"Open In Colab\"/></a>"
      ]
    },
    {
      "cell_type": "code",
      "execution_count": null,
      "metadata": {
        "colab": {
          "base_uri": "https://localhost:8080/"
        },
        "id": "fY6JwDZkR1-Q",
        "outputId": "49d6b25a-4bdb-465e-eb17-8f6afea77baf"
      },
      "outputs": [
        {
          "output_type": "stream",
          "name": "stdout",
          "text": [
            "\"a\"가 listData에 요소로 존재합니다.\n"
          ]
        }
      ],
      "source": [
        "# Unit 12 들여쓰기\n",
        "\n",
        "listData = ['a', 'b', 'c']\n",
        "if 'a' in listData :\n",
        "  print('\"a\"가 listData에 요소로 존재합니다.')\n",
        "else :\n",
        "  print('\"a\"가 listData에 요소로 존재하지 않습니다.')"
      ]
    },
    {
      "cell_type": "code",
      "source": [
        "listData = ['a', 'b', 'c']\n",
        "if 'a' in listData : print('\"a\"가 listData에 요소로 존재합니다.')  # 실행 코드가 한 라인일 경우"
      ],
      "metadata": {
        "colab": {
          "base_uri": "https://localhost:8080/"
        },
        "id": "68f6bqMzSusZ",
        "outputId": "f50b419e-b9a7-49eb-f3fa-9ff17a8c5d12"
      },
      "execution_count": null,
      "outputs": [
        {
          "output_type": "stream",
          "name": "stdout",
          "text": [
            "\"a\"가 listData에 요소로 존재합니다.\n"
          ]
        }
      ]
    },
    {
      "cell_type": "code",
      "source": [
        "if 'a' in listData:\n",
        "  실행코드 # 실행 코드가 한 라인 이상 일 경우 라인 바꿈 후 반드시 들여쓰기 필요"
      ],
      "metadata": {
        "colab": {
          "base_uri": "https://localhost:8080/",
          "height": 109
        },
        "id": "sM2ylWbATOBv",
        "outputId": "2358ead3-806a-44a1-95bf-ddc24f7d0e70"
      },
      "execution_count": null,
      "outputs": [
        {
          "output_type": "error",
          "ename": "SyntaxError",
          "evalue": "invalid syntax (ipython-input-3554320308.py, line 2)",
          "traceback": [
            "\u001b[0;36m  File \u001b[0;32m\"/tmp/ipython-input-3554320308.py\"\u001b[0;36m, line \u001b[0;32m2\u001b[0m\n\u001b[0;31m    실행 코드 # 실행 코드가 한 라인 이상 일 경우 라인 바꿈 후 반드시 들여쓰기 필요\u001b[0m\n\u001b[0m       ^\u001b[0m\n\u001b[0;31mSyntaxError\u001b[0m\u001b[0;31m:\u001b[0m invalid syntax\n"
          ]
        }
      ]
    },
    {
      "cell_type": "code",
      "source": [
        "# 들여쓰기의 잘못된 예 1 = 가장 바깥쪽의 실행 코드는 들여쓰기 없이 시작해야 함\n",
        "\n",
        "  listData = ['a', 'b', 'c']\n",
        "if 'a' in listData :\n",
        "  print('\"a\"가 listData에 요소로 존재합니다.')\n",
        "else :\n",
        "  print('\"a\"가 listData에 요소로 존재하지 않습니다.')"
      ],
      "metadata": {
        "colab": {
          "base_uri": "https://localhost:8080/",
          "height": 109
        },
        "id": "-V1R2vGFTfWZ",
        "outputId": "47467766-b33b-4c87-e9c7-81ed94cb5550"
      },
      "execution_count": null,
      "outputs": [
        {
          "output_type": "error",
          "ename": "IndentationError",
          "evalue": "unexpected indent (ipython-input-1696172533.py, line 2)",
          "traceback": [
            "\u001b[0;36m  File \u001b[0;32m\"/tmp/ipython-input-1696172533.py\"\u001b[0;36m, line \u001b[0;32m2\u001b[0m\n\u001b[0;31m    listData = ['a', 'b', 'c']\u001b[0m\n\u001b[0m    ^\u001b[0m\n\u001b[0;31mIndentationError\u001b[0m\u001b[0;31m:\u001b[0m unexpected indent\n"
          ]
        }
      ]
    },
    {
      "cell_type": "code",
      "source": [
        "# 들여쓰기의 잘못된 예 2 = 콜론 다음 라인부터 시작하는 실행 코드는 들여쓰기 간격이 모두 동일해야 함\n",
        "\n",
        "listData = ['a', 'b', 'c']\n",
        "if 'a' in listData :\n",
        "  print('\"a\"가 listData에 요소로 존재합니다.')\n",
        "   print('프로그램을 종료합니다.')\n",
        "else :\n",
        "  print('\"a\"가 listData에 요소로 존재하지 않습니다.')"
      ],
      "metadata": {
        "colab": {
          "base_uri": "https://localhost:8080/",
          "height": 109
        },
        "id": "5qJdIkWaUDBK",
        "outputId": "cdd5d39a-dbde-4daf-af86-ef3b9f2f4b19"
      },
      "execution_count": null,
      "outputs": [
        {
          "output_type": "error",
          "ename": "IndentationError",
          "evalue": "unexpected indent (ipython-input-1516530610.py, line 6)",
          "traceback": [
            "\u001b[0;36m  File \u001b[0;32m\"/tmp/ipython-input-1516530610.py\"\u001b[0;36m, line \u001b[0;32m6\u001b[0m\n\u001b[0;31m    print('프로그램을 종료합니다.')\u001b[0m\n\u001b[0m    ^\u001b[0m\n\u001b[0;31mIndentationError\u001b[0m\u001b[0;31m:\u001b[0m unexpected indent\n"
          ]
        }
      ]
    },
    {
      "cell_type": "code",
      "source": [
        "# Unit 13 None 상수\n",
        "\n",
        "val = None\n",
        "flag = True\n",
        "if flag :\n",
        "  val = [1,2,3,4,5]\n",
        "else :\n",
        "  val = '안녕하세요 파이썬!'\n",
        "\n",
        "#  None은 아무런 값을 가지지 않는 변수라는 것을 의미 (어떤 변수에 할당할 자료형을 결정하지 않은 상태로 선언, 아무 값도 리턴하지 않고 끝낼 때 사용)"
      ],
      "metadata": {
        "id": "0OOSJFpxUisp"
      },
      "execution_count": null,
      "outputs": []
    }
  ]
}