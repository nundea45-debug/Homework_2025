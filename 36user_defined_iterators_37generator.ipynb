{
  "nbformat": 4,
  "nbformat_minor": 0,
  "metadata": {
    "colab": {
      "provenance": [],
      "authorship_tag": "ABX9TyN/o9ax3kGHl68AHK7P/awx",
      "include_colab_link": true
    },
    "kernelspec": {
      "name": "python3",
      "display_name": "Python 3"
    },
    "language_info": {
      "name": "python"
    }
  },
  "cells": [
    {
      "cell_type": "markdown",
      "metadata": {
        "id": "view-in-github",
        "colab_type": "text"
      },
      "source": [
        "<a href=\"https://colab.research.google.com/github/nundea45-debug/Homework_2025/blob/main/36user_defined_iterators_37generator.ipynb\" target=\"_parent\"><img src=\"https://colab.research.google.com/assets/colab-badge.svg\" alt=\"Open In Colab\"/></a>"
      ]
    },
    {
      "cell_type": "code",
      "execution_count": null,
      "metadata": {
        "colab": {
          "base_uri": "https://localhost:8080/"
        },
        "id": "9q7j2RrKU956",
        "outputId": "9e6f4359-d2a5-4c1c-af8e-9bbb898eb0bd"
      },
      "outputs": [
        {
          "output_type": "stream",
          "name": "stdout",
          "text": [
            "0 1 2 3 4 "
          ]
        }
      ],
      "source": [
        "# Unit 36 사용자 정의 이터레이터 만들기 (User-Defind iterators)\n",
        "\n",
        "class MyRange :\n",
        "  def __init__ (self, n) :\n",
        "    self.maxn = n\n",
        "    self.current = 0\n",
        "\n",
        "  def __iter__ (self) :                # __iter()__  => 자신만의 이터레이터 생성을 위한 메서드\n",
        "    return self\n",
        "\n",
        "  def __next__ (self) :                # __next()__  => 자신만의 이터레이터에서 요소를 추출하기 위한 메서드\n",
        "    if self.current >= self.maxn :\n",
        "      raise StopIteration\n",
        "    else :\n",
        "      ret = self.current\n",
        "      self.current += 1\n",
        "      return ret\n",
        "\n",
        "intList = MyRange(5)\n",
        "for i in intList :\n",
        "  print(i, end = \" \")"
      ]
    },
    {
      "cell_type": "code",
      "source": [
        "# Unit 37 제너레이터 (Generator) 이해하기\n",
        "\n",
        "def MyRange(n) :\n",
        "  current = 0\n",
        "  while current < n :\n",
        "    yield current      # yield => 값을 반환한 후 함수의 현재 상태에서 먼추며 다음 호출 시에 중단된 지점 이후부터 다시 실행함. (제너레이터의 핵심)\n",
        "    current += 1       # 4라인의 current 값을 반환후, 함수 중단 뒤 다음 MyRange() 호출 시 중단된 지점 이후인 5라인부터 실행\n",
        "\n",
        "# 제너레이터 객체 생성\n",
        "intList = MyRange(5)\n",
        "for i in intList :\n",
        "  print(i, end = \" \")"
      ],
      "metadata": {
        "colab": {
          "base_uri": "https://localhost:8080/"
        },
        "id": "ZZ_OEl4nWVIU",
        "outputId": "edd92187-597d-4280-ebe2-1cbcd34b9173"
      },
      "execution_count": null,
      "outputs": [
        {
          "output_type": "stream",
          "name": "stdout",
          "text": [
            "0 1 2 3 4 "
          ]
        }
      ]
    }
  ]
}