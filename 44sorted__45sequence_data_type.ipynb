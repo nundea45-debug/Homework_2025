{
  "nbformat": 4,
  "nbformat_minor": 0,
  "metadata": {
    "colab": {
      "provenance": [],
      "authorship_tag": "ABX9TyM1tmVkV0egO523lY26Qwf+",
      "include_colab_link": true
    },
    "kernelspec": {
      "name": "python3",
      "display_name": "Python 3"
    },
    "language_info": {
      "name": "python"
    }
  },
  "cells": [
    {
      "cell_type": "markdown",
      "metadata": {
        "id": "view-in-github",
        "colab_type": "text"
      },
      "source": [
        "<a href=\"https://colab.research.google.com/github/nundea45-debug/Homework_2025/blob/main/44sorted__45sequence_data_type.ipynb\" target=\"_parent\"><img src=\"https://colab.research.google.com/assets/colab-badge.svg\" alt=\"Open In Colab\"/></a>"
      ]
    },
    {
      "cell_type": "code",
      "execution_count": null,
      "metadata": {
        "colab": {
          "base_uri": "https://localhost:8080/"
        },
        "id": "j_zBoFXYEKhQ",
        "outputId": "f8ca2f5c-8396-4351-dfbd-3481c111831b"
      },
      "outputs": [
        {
          "output_type": "stream",
          "name": "stdout",
          "text": [
            "[1, 8, 27, 39, 42, 44]\n",
            "[44, 42, 39, 27, 8, 1]\n",
            "[42, 1, 39, 27, 44, 8]\n"
          ]
        }
      ],
      "source": [
        "# Unit 44 요소 정렬 : sorted()\n",
        "\n",
        "# sorted(list) 예시\n",
        "listData = [42, 1, 39, 27, 44, 8]\n",
        "ret1 = sorted(listData)                   # listData를 오름차순으로 정렬\n",
        "ret2 = sorted(listData, reverse = True)   # listData를 내림차순으로 정렬\n",
        "print(ret1)\n",
        "print(ret2)\n",
        "print(listData)"
      ]
    },
    {
      "cell_type": "code",
      "source": [
        "# sorted(tuple) 예시\n",
        "tupleData = ('사과', '배', '오렌지', '수박', '참외')\n",
        "ret = sorted(tupleData)\n",
        "print(ret)"
      ],
      "metadata": {
        "colab": {
          "base_uri": "https://localhost:8080/"
        },
        "id": "6KEZfGnmKXpb",
        "outputId": "435b1d91-0791-44b8-a5a2-0d1aaeb47f48"
      },
      "execution_count": null,
      "outputs": [
        {
          "output_type": "stream",
          "name": "stdout",
          "text": [
            "['배', '사과', '수박', '오렌지', '참외']\n"
          ]
        }
      ]
    },
    {
      "cell_type": "code",
      "source": [
        "# sorted(str) 예시\n",
        "strData = 'I love python!'\n",
        "ret = sorted(strData)\n",
        "print(ret)"
      ],
      "metadata": {
        "colab": {
          "base_uri": "https://localhost:8080/"
        },
        "id": "F3n-PcJbKqE5",
        "outputId": "ccea333b-6cca-4b66-be1b-a2f1544ef9e9"
      },
      "execution_count": null,
      "outputs": [
        {
          "output_type": "stream",
          "name": "stdout",
          "text": [
            "[' ', ' ', '!', 'I', 'e', 'h', 'l', 'n', 'o', 'o', 'p', 't', 'v', 'y']\n"
          ]
        }
      ]
    },
    {
      "cell_type": "code",
      "source": [
        "# sorted(dict) 예시\n",
        "population = {'김씨' : 2834, '이씨' : 2288, '박씨' : 1889}\n",
        "ret = sorted(population)\n",
        "print(ret)"
      ],
      "metadata": {
        "colab": {
          "base_uri": "https://localhost:8080/"
        },
        "id": "QAW5_ImqLP8K",
        "outputId": "f8224e71-5f32-4bc1-dcad-0ccbd26c6ab5"
      },
      "execution_count": null,
      "outputs": [
        {
          "output_type": "stream",
          "name": "stdout",
          "text": [
            "['김씨', '박씨', '이씨']\n"
          ]
        }
      ]
    },
    {
      "cell_type": "code",
      "source": [
        "# Unit 45 시퀀스 자료형 종류 및 특성\n",
        "\n",
        "# 리스트(list) -> [] 안에 임의의 객체를 순서 있게 나열한 자료형, 각 요소를 콤마(,)로 구분\n",
        "listData = [1,2,3,4,5]"
      ],
      "metadata": {
        "id": "qo4DNZ8ULyVa"
      },
      "execution_count": null,
      "outputs": []
    },
    {
      "cell_type": "code",
      "source": [
        "# 튜플(tuple) -> 요소 값을 변경할 수 없음, ()안에 요소를 나열함\n",
        "tupleData = (1,2,3,4,5)"
      ],
      "metadata": {
        "id": "9cywXuuyMLzH"
      },
      "execution_count": null,
      "outputs": []
    },
    {
      "cell_type": "code",
      "source": [
        "# 문자열(string) -> 한 글자 이상의 문자, 숫자, 기호로 구성된 자료 (문자 = 알파벳, 한글과 같이 언어를 표현하는 글자). ' '나 \" \"로 둘러싸인 문자열을 변수에 할당함\n",
        "strData1 = '010-1234-5678'\n",
        "strData2 = '사랑해요 파이썬!'\n",
        "strData3 = 'I love python!'"
      ],
      "metadata": {
        "id": "zUE2MowEMhCL"
      },
      "execution_count": null,
      "outputs": []
    },
    {
      "cell_type": "code",
      "source": [
        "# range객체 -> 주어진 범위에서 연속된 정수 수열에 대한 객체, range()로 객체를 생성\n",
        "\n",
        "# 바이너리 시퀀스 자료 -> 바이트(byte) 객체와 bytearry 객체가 존재, 특히 바이트 객체는 1바이트 단위의 값을 순서 있게 나열한 자료\n",
        "bstr = b'Hello Python!'"
      ],
      "metadata": {
        "id": "oEJWBqh3NCsl"
      },
      "execution_count": null,
      "outputs": []
    }
  ]
}