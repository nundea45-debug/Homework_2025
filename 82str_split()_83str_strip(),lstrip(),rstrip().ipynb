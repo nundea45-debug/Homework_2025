{
  "nbformat": 4,
  "nbformat_minor": 0,
  "metadata": {
    "colab": {
      "provenance": [],
      "name": "82str.split()_83str.strip(),lstrip(),rstrip().ipynb",
      "authorship_tag": "ABX9TyOsaLlbc4TnRlR4xt5fyxNI",
      "include_colab_link": true
    },
    "kernelspec": {
      "name": "python3",
      "display_name": "Python 3"
    },
    "language_info": {
      "name": "python"
    }
  },
  "cells": [
    {
      "cell_type": "markdown",
      "metadata": {
        "id": "view-in-github",
        "colab_type": "text"
      },
      "source": [
        "<a href=\"https://colab.research.google.com/github/nundea45-debug/Homework_2025/blob/main/82str_split()_83str_strip()%2Clstrip()%2Crstrip().ipynb\" target=\"_parent\"><img src=\"https://colab.research.google.com/assets/colab-badge.svg\" alt=\"Open In Colab\"/></a>"
      ]
    },
    {
      "cell_type": "code",
      "execution_count": null,
      "metadata": {
        "colab": {
          "base_uri": "https://localhost:8080/"
        },
        "id": "lMf5e-ds3Eft",
        "outputId": "9c46a20a-648e-42f3-a6c0-4d7806047bf5"
      },
      "outputs": [
        {
          "output_type": "stream",
          "name": "stdout",
          "text": [
            "['홍길동', '남자', '18세', '도적', '초능력자']\n"
          ]
        }
      ],
      "source": [
        "# Unit 82 문자열을 구분자로 분리하기 : str.split()\n",
        "\n",
        "logData = '홍길동;남자;18세;도적;초능력자'\n",
        "profile = logData.split(';')  # => logData를 ';'로 분리하고 분리된 문자열을 요소로 한 리스트를 리턴\n",
        "print(profile)"
      ]
    },
    {
      "cell_type": "code",
      "source": [
        "text = '나는 파이썬을 사랑합니다.'\n",
        "print(text.split())  # split()에 인자가 없을 시 공백으로 분리"
      ],
      "metadata": {
        "colab": {
          "base_uri": "https://localhost:8080/"
        },
        "id": "l2Lra9fj3wlZ",
        "outputId": "90d14db6-2cd0-42fd-f2dd-e99a6aec2f98"
      },
      "execution_count": null,
      "outputs": [
        {
          "output_type": "stream",
          "name": "stdout",
          "text": [
            "['나는', '파이썬을', '사랑합니다.']\n"
          ]
        }
      ]
    },
    {
      "cell_type": "code",
      "source": [
        "# 두 가지 이상 구분자를 가진 문자열 파싱 예\n",
        "profile = '이름:홍길동 나이:18세 성별:남자 국적:조선 직업:도적 특기:초능력'\n",
        "for data in profile.split() :  # profile을 공백으로 분리\n",
        "  key, val = data.split(':')   # 분리된 모든 문자열을 ':'로 분리\n",
        "  print(f'{key} --> {val}')"
      ],
      "metadata": {
        "colab": {
          "base_uri": "https://localhost:8080/"
        },
        "id": "UhbcQ1kM35xk",
        "outputId": "4380d005-c59e-4c9a-96be-5c484982bd98"
      },
      "execution_count": null,
      "outputs": [
        {
          "output_type": "stream",
          "name": "stdout",
          "text": [
            "이름 --> 홍길동\n",
            "나이 --> 18세\n",
            "성별 --> 남자\n",
            "국적 --> 조선\n",
            "직업 --> 도적\n",
            "특기 --> 초능력\n"
          ]
        }
      ]
    },
    {
      "cell_type": "code",
      "source": [
        "# Unit 83 문자열에서 좌우 문자 / 공백 제거하기 : str.strip(), str.lstrip(), str.retrip()\n",
        "\n",
        "text = ' 이 문장의 양쪽에는 공백이 있습니다. '\n",
        "print(f'<{text.strip()}>')   # 좌우 공백 제거\n",
        "print(f'<{text.lstrip()}>')  # 왼쪽 공백 제거\n",
        "print(f'<{text.rstrip()}>')  # 오른쪽 공백 제거"
      ],
      "metadata": {
        "colab": {
          "base_uri": "https://localhost:8080/"
        },
        "id": "ICBVm2JL4l0v",
        "outputId": "93d68eb3-5e58-4828-a52c-e3a9361527b9"
      },
      "execution_count": null,
      "outputs": [
        {
          "output_type": "stream",
          "name": "stdout",
          "text": [
            "<이 문장의 양쪽에는 공백이 있습니다.>\n",
            "<이 문장의 양쪽에는 공백이 있습니다. >\n",
            "< 이 문장의 양쪽에는 공백이 있습니다.>\n"
          ]
        }
      ]
    },
    {
      "cell_type": "code",
      "source": [
        "url = 'www.python.com'\n",
        "print(url.strip('cmow.'))  # 문장의 좌우 중 cmow.에 해당된 요소 삭제"
      ],
      "metadata": {
        "colab": {
          "base_uri": "https://localhost:8080/"
        },
        "id": "JcT6hjCN5ukp",
        "outputId": "558542d6-1437-4d3c-9bb8-c29268d0e0fa"
      },
      "execution_count": null,
      "outputs": [
        {
          "output_type": "stream",
          "name": "stdout",
          "text": [
            "python\n"
          ]
        }
      ]
    },
    {
      "cell_type": "code",
      "source": [
        "print(url.lstrip('cmow.')) # 문장의 왼쪽 중 cmow.에 해당된 요소 삭제\n",
        "print(url.rstrip('cmow.')) # 문장의 오른쪽 중 cmow.에 해당된 요소 삭제"
      ],
      "metadata": {
        "colab": {
          "base_uri": "https://localhost:8080/"
        },
        "id": "d2yPbonY6G4r",
        "outputId": "5fe9264b-1852-4b37-d098-fd39da559c91"
      },
      "execution_count": null,
      "outputs": [
        {
          "output_type": "stream",
          "name": "stdout",
          "text": [
            "python.com\n",
            "www.python\n"
          ]
        }
      ]
    }
  ]
}