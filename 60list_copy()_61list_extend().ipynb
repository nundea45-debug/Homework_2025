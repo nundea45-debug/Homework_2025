{
  "nbformat": 4,
  "nbformat_minor": 0,
  "metadata": {
    "colab": {
      "provenance": [],
      "name": "60list-copy()_61list-extend().ipynb",
      "authorship_tag": "ABX9TyNlqcKyQhscwZ/uMZyNvK6x",
      "include_colab_link": true
    },
    "kernelspec": {
      "name": "python3",
      "display_name": "Python 3"
    },
    "language_info": {
      "name": "python"
    }
  },
  "cells": [
    {
      "cell_type": "markdown",
      "metadata": {
        "id": "view-in-github",
        "colab_type": "text"
      },
      "source": [
        "<a href=\"https://colab.research.google.com/github/nundea45-debug/Homework_2025/blob/main/60list_copy()_61list_extend().ipynb\" target=\"_parent\"><img src=\"https://colab.research.google.com/assets/colab-badge.svg\" alt=\"Open In Colab\"/></a>"
      ]
    },
    {
      "cell_type": "code",
      "execution_count": null,
      "metadata": {
        "id": "NqCYQBAWLgKL"
      },
      "outputs": [],
      "source": [
        "# Unit 60 리스트 복사하기 : list.copy()\n",
        "\n",
        "# list.copy() => list의 복사본을 생성"
      ]
    },
    {
      "cell_type": "code",
      "source": [
        "fruits = ['사과', '배', '오렌지', '수박', '참외']\n",
        "buffer = fruits.copy()  # fruits의 복사본을 buffer로 둠\n",
        "del buffer[-1]          # buffer의 마지막 요소 삭제\n",
        "print(f'원본 리스트 : {fruits}')  # 원본 리스트(fruits) 출력\n",
        "print(f'복사본 리스트 : {buffer}')# 복사본 리스트(buffer) 출력"
      ],
      "metadata": {
        "colab": {
          "base_uri": "https://localhost:8080/"
        },
        "id": "OiXXrRiNMvlX",
        "outputId": "304f6c61-1548-43f6-9f58-6712de913a77"
      },
      "execution_count": null,
      "outputs": [
        {
          "output_type": "stream",
          "name": "stdout",
          "text": [
            "원본 리스트 : ['사과', '배', '오렌지', '수박', '참외']\n",
            "복사본 리스트 : ['사과', '배', '오렌지', '수박']\n"
          ]
        }
      ]
    },
    {
      "cell_type": "code",
      "source": [
        "# Unit 61 리스트 확장하기 : list.extend()\n",
        "\n",
        "# list.extend(list1) => list를 인자로 입력된 list1과 연결해 업데이트"
      ],
      "metadata": {
        "id": "CMP2FbfBNjjP"
      },
      "execution_count": null,
      "outputs": []
    },
    {
      "cell_type": "code",
      "source": [
        "world = []\n",
        "asia = ['한국', '중국', '일본']\n",
        "europe = ['독일', '프랑스', '영국']\n",
        "america = ['미국', '캐나다', '멕시코']"
      ],
      "metadata": {
        "id": "6R3W1wCdNv6u"
      },
      "execution_count": null,
      "outputs": []
    },
    {
      "cell_type": "code",
      "source": [
        "world.extend(asia)  # world를 업데이트 함\n",
        "print(world)"
      ],
      "metadata": {
        "colab": {
          "base_uri": "https://localhost:8080/"
        },
        "id": "VaqS_zTkOAzS",
        "outputId": "62c4a1df-6bc5-4979-8576-7153c44fb701"
      },
      "execution_count": null,
      "outputs": [
        {
          "output_type": "stream",
          "name": "stdout",
          "text": [
            "['한국', '중국', '일본', '한국', '중국', '일본', '한국', '중국', '일본', '한국', '중국', '일본', '한국', '중국', '일본', '한국', '중국', '일본']\n"
          ]
        }
      ]
    },
    {
      "cell_type": "code",
      "source": [
        "world.extend(europe)\n",
        "print(world)\n",
        "world.extend(america)\n",
        "print(world)"
      ],
      "metadata": {
        "colab": {
          "base_uri": "https://localhost:8080/"
        },
        "id": "knTjUXfnOLCw",
        "outputId": "f92d8067-327d-4f44-9d99-a1ca35503ef1"
      },
      "execution_count": null,
      "outputs": [
        {
          "output_type": "stream",
          "name": "stdout",
          "text": [
            "['한국', '중국', '일본', '한국', '중국', '일본', '한국', '중국', '일본', '한국', '중국', '일본', '한국', '중국', '일본', '한국', '중국', '일본', '독일', '프랑스', '영국', '미국', '캐나다', '멕시코', '독일', '프랑스', '영국']\n",
            "['한국', '중국', '일본', '한국', '중국', '일본', '한국', '중국', '일본', '한국', '중국', '일본', '한국', '중국', '일본', '한국', '중국', '일본', '독일', '프랑스', '영국', '미국', '캐나다', '멕시코', '독일', '프랑스', '영국', '미국', '캐나다', '멕시코']\n"
          ]
        }
      ]
    },
    {
      "cell_type": "code",
      "source": [
        "# list.extend(list1)는 list += list1과 결과가 같음\n",
        "world.clear()\n",
        "world += asia\n",
        "world += europe\n",
        "print(world)"
      ],
      "metadata": {
        "colab": {
          "base_uri": "https://localhost:8080/"
        },
        "id": "GLW2fVrZOc86",
        "outputId": "0d95691c-b1a4-4078-9889-213313312264"
      },
      "execution_count": null,
      "outputs": [
        {
          "output_type": "stream",
          "name": "stdout",
          "text": [
            "['한국', '중국', '일본', '독일', '프랑스', '영국']\n"
          ]
        }
      ]
    }
  ]
}