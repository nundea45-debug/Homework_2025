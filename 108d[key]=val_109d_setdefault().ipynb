{
  "nbformat": 4,
  "nbformat_minor": 0,
  "metadata": {
    "colab": {
      "provenance": [],
      "name": "108d[key]=val_109d.setdefault().ipynb",
      "authorship_tag": "ABX9TyMcrij0EPHCJAIpeF9d3DXS",
      "include_colab_link": true
    },
    "kernelspec": {
      "name": "python3",
      "display_name": "Python 3"
    },
    "language_info": {
      "name": "python"
    }
  },
  "cells": [
    {
      "cell_type": "markdown",
      "metadata": {
        "id": "view-in-github",
        "colab_type": "text"
      },
      "source": [
        "<a href=\"https://colab.research.google.com/github/nundea45-debug/Homework_2025/blob/main/108d%5Bkey%5D%3Dval_109d_setdefault().ipynb\" target=\"_parent\"><img src=\"https://colab.research.google.com/assets/colab-badge.svg\" alt=\"Open In Colab\"/></a>"
      ]
    },
    {
      "cell_type": "code",
      "execution_count": null,
      "metadata": {
        "colab": {
          "base_uri": "https://localhost:8080/"
        },
        "id": "VPgYfCDdvuV7",
        "outputId": "d2832f53-2b87-4d6d-810e-74df5fd77c82"
      },
      "outputs": [
        {
          "output_type": "stream",
          "name": "stdout",
          "text": [
            "{'Mary': 10999}\n",
            "{'Mary': 10999, 'Cris': 2111}\n",
            "{'Mary': 10999, 'Cris': 2111, 'Aimy': 9778}\n",
            "{'Mary': 10999, 'Cris': 2111, 'Aimy': 9778, 'Tom': 20245}\n",
            "{'Mary': 10999, 'Cris': 2111, 'Aimy': 9778, 'Tom': 20245, 'Bob': 27115}\n"
          ]
        }
      ],
      "source": [
        "# Unit 108 딕셔너리에 요소 추가하기 : d[key] = val\n",
        "\n",
        "# d[key] = val => d에 key:val을 요소로 추가\n",
        "nameList = ['Mary', 'Cris', 'Aimy', 'Tom', 'Bob']  # 이름을 요소로 가진 리스트\n",
        "population = [10999, 2111, 9778, 20245, 27115]     # 인구수를 요소로 가진 리스트\n",
        "names = {}\n",
        "for k, v in zip(nameList, population) :  # names에 \"이름 : 인구수\"를 요소로 추가\n",
        "  names[k] = v\n",
        "  print(names)"
      ]
    },
    {
      "cell_type": "code",
      "source": [
        "# d[key] = val에 d에 이미 key가 있을 경우 => key에 대응하는 값을 val로 업데이트\n",
        "names['Mary'] = 20000  # names에 'Mary'라는 키가 이미 존재 -> 'Mary'에 대응 값 10999를 20000으로 업데이트\n",
        "print(names)"
      ],
      "metadata": {
        "colab": {
          "base_uri": "https://localhost:8080/"
        },
        "id": "ZRmLc7pdxuoH",
        "outputId": "ce4a4839-2e05-490d-b0e1-16eaf09a8331"
      },
      "execution_count": null,
      "outputs": [
        {
          "output_type": "stream",
          "name": "stdout",
          "text": [
            "{'Mary': 20000, 'Cris': 2111, 'Aimy': 9778, 'Tom': 20245, 'Bob': 27115}\n"
          ]
        }
      ]
    },
    {
      "cell_type": "code",
      "source": [
        "# Unit 109 딕셔너리에 요소를 추가하고 값을 얻기 : d.setdefault()\n",
        "\n",
        "# d.setdefault(key,val) => d에서 key가 있을 시 대응되는 값을 리턴 / key가 없을 시 key:val을 요소로 추가한 후 val을 리턴 (val의 디폴트 값 => None)"
      ],
      "metadata": {
        "id": "Ec0O6GxOrp_f"
      },
      "execution_count": null,
      "outputs": []
    },
    {
      "cell_type": "code",
      "source": [
        "names = {'Mary':10999, 'Cris':2111, 'Aimy':9778}\n",
        "population = names.setdefault('Sams')  # names에 'Sams'가 키로 존재 => 대응되는 값 리턴 / 존재 X => names에 'Sams':None을 요소로 추가 후 'Sams'의 대응값인 None을 리턴\n",
        "print(f'names : {names}\\npopulation : {population}')"
      ],
      "metadata": {
        "colab": {
          "base_uri": "https://localhost:8080/"
        },
        "id": "Lem1kVu4sEFx",
        "outputId": "2f682975-e23f-46f8-b424-4cbc8fa5e327"
      },
      "execution_count": null,
      "outputs": [
        {
          "output_type": "stream",
          "name": "stdout",
          "text": [
            "names : {'Mary': 10999, 'Cris': 2111, 'Aimy': 9778, 'Sams': None}\n",
            "population : None\n"
          ]
        }
      ]
    },
    {
      "cell_type": "code",
      "source": [
        "population = names.setdefault('Sams', 100)  # names에 'Sams'가 키로 존재, 그 값은 None => population의 값은 None\n",
        "print(f'names : {names}\\npopulation : {population}')"
      ],
      "metadata": {
        "colab": {
          "base_uri": "https://localhost:8080/"
        },
        "id": "LfH7oEpHsqWt",
        "outputId": "33a9195d-e3f4-4f7a-a845-685c0fe17891"
      },
      "execution_count": null,
      "outputs": [
        {
          "output_type": "stream",
          "name": "stdout",
          "text": [
            "names : {'Mary': 10999, 'Cris': 2111, 'Aimy': 9778, 'Sams': None}\n",
            "population : None\n"
          ]
        }
      ]
    },
    {
      "cell_type": "code",
      "source": [
        "population = names.setdefault('Tom', 1004)  # names에 'Tom'이 키로 존재 X -> 'Tom':1004를 names의 요소로 추가 후 1004를 리턴 => population의 값은 1004\n",
        "print(f'names : {names}\\npopulation : {population}')"
      ],
      "metadata": {
        "colab": {
          "base_uri": "https://localhost:8080/"
        },
        "id": "5kUL2WzZtJ3K",
        "outputId": "016b54b6-0b12-4164-a6b6-6510b964ae5a"
      },
      "execution_count": null,
      "outputs": [
        {
          "output_type": "stream",
          "name": "stdout",
          "text": [
            "names : {'Mary': 10999, 'Cris': 2111, 'Aimy': 9778, 'Sams': None, 'Tom': 1004}\n",
            "population : 1004\n"
          ]
        }
      ]
    }
  ]
}