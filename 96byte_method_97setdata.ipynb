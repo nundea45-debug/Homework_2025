{
  "nbformat": 4,
  "nbformat_minor": 0,
  "metadata": {
    "colab": {
      "provenance": [],
      "authorship_tag": "ABX9TyP4dBeU5TzW68IssomiUsbb",
      "include_colab_link": true
    },
    "kernelspec": {
      "name": "python3",
      "display_name": "Python 3"
    },
    "language_info": {
      "name": "python"
    }
  },
  "cells": [
    {
      "cell_type": "markdown",
      "metadata": {
        "id": "view-in-github",
        "colab_type": "text"
      },
      "source": [
        "<a href=\"https://colab.research.google.com/github/nundea45-debug/Homework_2025/blob/main/96byte_method_97setdata.ipynb\" target=\"_parent\"><img src=\"https://colab.research.google.com/assets/colab-badge.svg\" alt=\"Open In Colab\"/></a>"
      ]
    },
    {
      "cell_type": "code",
      "execution_count": null,
      "metadata": {
        "colab": {
          "base_uri": "https://localhost:8080/"
        },
        "id": "ctUEZt14ArtW",
        "outputId": "16b19762-9d31-40af-902c-0f6d507a9530"
      },
      "outputs": [
        {
          "output_type": "stream",
          "name": "stdout",
          "text": [
            "b'ABcdef'\n"
          ]
        }
      ],
      "source": [
        "# Unit 96 바이트 문자열 주요 메서드들\n",
        "\n",
        "# bytes.replace(b'src', b'target') => 바이트 문자열 bytes에서 src를 target으로 변경\n",
        "bytesData = b'abcdef'\n",
        "data = bytesData.replace(b'ab', b'AB')\n",
        "print(data)"
      ]
    },
    {
      "cell_type": "code",
      "source": [
        "# bytes.find(b'target') => 바이트 문자열 bytes에서 target이 위치하는 인데스를 구함\n",
        "bytesData = b'abcdefabcdef'\n",
        "idx1 = bytesData.find(b'e')  # bytesData의 맨 처음부터 탐색\n",
        "idx2 = bytesData.find(b'e', idex1 + 1)  # bytesData의 ide+1에서 부터 탐색\n",
        "print(idx1, idx2)"
      ],
      "metadata": {
        "colab": {
          "base_uri": "https://localhost:8080/"
        },
        "id": "tPFPRxTfBasZ",
        "outputId": "9485633a-4d30-417b-f37b-f429e3c85656"
      },
      "execution_count": null,
      "outputs": [
        {
          "output_type": "stream",
          "name": "stdout",
          "text": [
            "4 10\n"
          ]
        }
      ]
    },
    {
      "cell_type": "code",
      "source": [
        "# bytes.strip() => 바이트 문자열 bytes에서 좌우 공백 문자 제거 (= bytes.lstrip() -> 좌측 공백 제거, bytes.rstrip() -> 우측 공백 제거)\n",
        "bytesData = b'  abcdef  '\n",
        "bytesData = bytesData.strip()\n",
        "print(bytesData)"
      ],
      "metadata": {
        "colab": {
          "base_uri": "https://localhost:8080/"
        },
        "id": "9KKXo8xCCEuj",
        "outputId": "fd27e213-92ed-4040-f189-c70b8ccf5d15"
      },
      "execution_count": null,
      "outputs": [
        {
          "output_type": "stream",
          "name": "stdout",
          "text": [
            "b'abcdef'\n"
          ]
        }
      ]
    },
    {
      "cell_type": "code",
      "source": [
        "# Unit 97 set 자료 이해하기\n",
        "\n",
        "setData = {'사과','배','사과','수박','오렌지'}  # {}안에 요소를 콤마(,)로 분리, 나열해 정의 (중복 요소는 제거)\n",
        "print(setData)"
      ],
      "metadata": {
        "colab": {
          "base_uri": "https://localhost:8080/"
        },
        "id": "Y-Q4zegdCrh0",
        "outputId": "60476d0b-748e-4066-bb8c-bb816e36652c"
      },
      "execution_count": null,
      "outputs": [
        {
          "output_type": "stream",
          "name": "stdout",
          "text": [
            "{'오렌지', '사과', '수박', '배'}\n"
          ]
        }
      ]
    },
    {
      "cell_type": "code",
      "source": [
        "print(setData)  # 한 번 더 호출 => 요소들의 순서가 다르게 출력될 수 있음 (요소들의 순서가 없기 때문)"
      ],
      "metadata": {
        "colab": {
          "base_uri": "https://localhost:8080/"
        },
        "id": "R0KjvZviC-k7",
        "outputId": "28a6e9cc-637a-41fc-e5b2-12f9dd6c3ef3"
      },
      "execution_count": null,
      "outputs": [
        {
          "output_type": "stream",
          "name": "stdout",
          "text": [
            "{'오렌지', '사과', '수박', '배'}\n"
          ]
        }
      ]
    },
    {
      "cell_type": "code",
      "source": [
        "strData = 'abcabccdef'\n",
        "setData = set(strData)  # set(iterable) => 반복 가능 자료 iterable을 set 자료로 생성\n",
        "print(setData)"
      ],
      "metadata": {
        "colab": {
          "base_uri": "https://localhost:8080/"
        },
        "id": "H5mGIuZtDXfr",
        "outputId": "a93f2485-41a6-4510-b610-bd4ad1dd053a"
      },
      "execution_count": null,
      "outputs": [
        {
          "output_type": "stream",
          "name": "stdout",
          "text": [
            "{'a', 'b', 'e', 'c', 'f', 'd'}\n"
          ]
        }
      ]
    },
    {
      "cell_type": "code",
      "source": [
        "fruits = ('사과', '배', '수박', '배', '사과', '오렌지')\n",
        "setData = set(fruits)  # => 튜블 자료 fruits를 set 자료로 생성 -> set(strData) => 문자열 strData의 개별 문자를 요소로 하는 set 자료 생성\n",
        "print(setData)"
      ],
      "metadata": {
        "colab": {
          "base_uri": "https://localhost:8080/"
        },
        "id": "Ddh3PoyDDqtn",
        "outputId": "94fe4ec5-ea17-4f1b-b731-13a4771b4681"
      },
      "execution_count": null,
      "outputs": [
        {
          "output_type": "stream",
          "name": "stdout",
          "text": [
            "{'오렌지', '사과', '수박', '배'}\n"
          ]
        }
      ]
    }
  ]
}