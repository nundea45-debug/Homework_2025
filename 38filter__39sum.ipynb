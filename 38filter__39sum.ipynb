{
  "nbformat": 4,
  "nbformat_minor": 0,
  "metadata": {
    "colab": {
      "provenance": [],
      "authorship_tag": "ABX9TyNRZ3KwQeqHnXpmlqSOzp5J",
      "include_colab_link": true
    },
    "kernelspec": {
      "name": "python3",
      "display_name": "Python 3"
    },
    "language_info": {
      "name": "python"
    }
  },
  "cells": [
    {
      "cell_type": "markdown",
      "metadata": {
        "id": "view-in-github",
        "colab_type": "text"
      },
      "source": [
        "<a href=\"https://colab.research.google.com/github/nundea45-debug/Homework_2025/blob/main/38filter__39sum.ipynb\" target=\"_parent\"><img src=\"https://colab.research.google.com/assets/colab-badge.svg\" alt=\"Open In Colab\"/></a>"
      ]
    },
    {
      "cell_type": "code",
      "source": [
        "# Unit 38 특정 조건을 만족하는 요소만 추출하기 : filter()\n",
        "\n",
        "filter(func, iterable) # iterable의 요소 중 체크 함수 (func)가 True를 리턴하는 요소들로만 구성된 이터레이터를 리턴함\n",
        "\n",
        "# func => 두 번째 인자인 iterable의 모든 요소에 대해 True 또는 False를 리턴하는 함수"
      ],
      "metadata": {
        "id": "CW8mhLIDHqvG"
      },
      "execution_count": null,
      "outputs": []
    },
    {
      "cell_type": "code",
      "source": [
        "def getPrime(x) :  # x가 소수가 아님 => False 리턴 / x가 소수 => True리턴\n",
        "  if x == 2 :\n",
        "    return True\n",
        "  if x <= 1 or x % 2 == 0 :\n",
        "    return False\n",
        "\n",
        "  for i in range(3, int(x ** (1 / 2)) + 1, 2) :\n",
        "    if x % i == 0 :\n",
        "      return False\n",
        "\n",
        "    else :\n",
        "      return True"
      ],
      "metadata": {
        "id": "HcyOQOCTHws1"
      },
      "execution_count": null,
      "outputs": []
    },
    {
      "cell_type": "code",
      "source": [
        "intList = [x for x in range(1, 101)]  # 1 ~ 100까지 정수 리스트 생성\n",
        "ret = filter(getPrime, intList)  # filter()의 체크 함수 = gerPrime, 반복 가능 자료 = intList # getPrime이 True로 리턴되는 intList의 요소들로만 구성된 이터레이터 리턴\n",
        "for p in ret :\n",
        "  print(p, end = \" \")  # 리턴한 이터레이터의 모든 요소를 출력"
      ],
      "metadata": {
        "colab": {
          "base_uri": "https://localhost:8080/"
        },
        "id": "DnyB14JMMVqR",
        "outputId": "352b6380-51d4-4b7b-9e5b-2cf344c390f7"
      },
      "execution_count": null,
      "outputs": [
        {
          "output_type": "stream",
          "name": "stdout",
          "text": [
            "2 11 13 17 19 23 25 29 31 35 37 41 43 47 49 53 55 59 61 65 67 71 73 77 79 83 85 89 91 95 97 "
          ]
        }
      ]
    },
    {
      "cell_type": "code",
      "source": [
        "# Unit 39 모든 요소 총합 구하기 : sum()\n",
        "\n",
        "numList = [1,3,5,7,9]\n",
        "ret = sum(numList)  # sum(iterable) => iterable의 모든 요소들의 합을 리턴 (단, iterable의 요소들은 모두 숫자 형식)\n",
        "print(ret)"
      ],
      "metadata": {
        "colab": {
          "base_uri": "https://localhost:8080/"
        },
        "id": "p3CORJW4M9zd",
        "outputId": "54735a55-1e1f-47bf-9d0c-9e4e8091efd1"
      },
      "execution_count": null,
      "outputs": [
        {
          "output_type": "stream",
          "name": "stdout",
          "text": [
            "25\n"
          ]
        }
      ]
    },
    {
      "cell_type": "code",
      "source": [
        "ret = sum(numList, 10)  # sum(numList) + 10  # sum()의 결과값에 더해질 수를 인자로 추가할 수 있음\n",
        "print(ret)"
      ],
      "metadata": {
        "colab": {
          "base_uri": "https://localhost:8080/"
        },
        "id": "hVRXd6XpQaW3",
        "outputId": "fc65ff6c-7b70-41e2-c227-a740f0e879c8"
      },
      "execution_count": null,
      "outputs": [
        {
          "output_type": "stream",
          "name": "stdout",
          "text": [
            "35\n"
          ]
        }
      ]
    },
    {
      "cell_type": "code",
      "source": [
        "randomList = [1,2,'SAMSUNG','LG']\n",
        "ret = sum(randomList)   # sum(iterable)에 숫자가 아닌 인자 포함 => TypeError 오류 발생"
      ],
      "metadata": {
        "colab": {
          "base_uri": "https://localhost:8080/",
          "height": 163
        },
        "id": "q3FUer9yRexv",
        "outputId": "06feda70-18b0-4c18-89a8-2aaf9c4dbc7d"
      },
      "execution_count": null,
      "outputs": [
        {
          "output_type": "error",
          "ename": "TypeError",
          "evalue": "unsupported operand type(s) for +: 'int' and 'str'",
          "traceback": [
            "\u001b[0;31m---------------------------------------------------------------------------\u001b[0m",
            "\u001b[0;31mTypeError\u001b[0m                                 Traceback (most recent call last)",
            "\u001b[0;32m/tmp/ipython-input-2915406485.py\u001b[0m in \u001b[0;36m<cell line: 0>\u001b[0;34m()\u001b[0m\n\u001b[1;32m      1\u001b[0m \u001b[0mrandomList\u001b[0m \u001b[0;34m=\u001b[0m \u001b[0;34m[\u001b[0m\u001b[0;36m1\u001b[0m\u001b[0;34m,\u001b[0m\u001b[0;36m2\u001b[0m\u001b[0;34m,\u001b[0m\u001b[0;34m'SAMSUNG'\u001b[0m\u001b[0;34m,\u001b[0m\u001b[0;34m'LG'\u001b[0m\u001b[0;34m]\u001b[0m\u001b[0;34m\u001b[0m\u001b[0;34m\u001b[0m\u001b[0m\n\u001b[0;32m----> 2\u001b[0;31m \u001b[0mret\u001b[0m \u001b[0;34m=\u001b[0m \u001b[0msum\u001b[0m\u001b[0;34m(\u001b[0m\u001b[0mrandomList\u001b[0m\u001b[0;34m)\u001b[0m   \u001b[0;31m# sum(iterable)에 숫자가 아닌 인자 포함 => TypeError 오류 발생\u001b[0m\u001b[0;34m\u001b[0m\u001b[0;34m\u001b[0m\u001b[0m\n\u001b[0m",
            "\u001b[0;31mTypeError\u001b[0m: unsupported operand type(s) for +: 'int' and 'str'"
          ]
        }
      ]
    }
  ]
}