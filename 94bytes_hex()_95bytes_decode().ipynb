{
  "nbformat": 4,
  "nbformat_minor": 0,
  "metadata": {
    "colab": {
      "provenance": [],
      "name": "94bytes.hex()_95bytes.decode().ipynb",
      "authorship_tag": "ABX9TyNAiOVAUXvuflcqWO0TN3w4",
      "include_colab_link": true
    },
    "kernelspec": {
      "name": "python3",
      "display_name": "Python 3"
    },
    "language_info": {
      "name": "python"
    }
  },
  "cells": [
    {
      "cell_type": "markdown",
      "metadata": {
        "id": "view-in-github",
        "colab_type": "text"
      },
      "source": [
        "<a href=\"https://colab.research.google.com/github/nundea45-debug/Homework_2025/blob/main/94bytes_hex()_95bytes_decode().ipynb\" target=\"_parent\"><img src=\"https://colab.research.google.com/assets/colab-badge.svg\" alt=\"Open In Colab\"/></a>"
      ]
    },
    {
      "cell_type": "code",
      "execution_count": null,
      "metadata": {
        "id": "YeVumZJm7qWB"
      },
      "outputs": [],
      "source": [
        "# Unit 94 바이트 문자열을 16진수 표시 문자열로 변환 : bytes.hex()\n",
        "\n",
        "# bytes.hex() => 바이트 문자열 bytes를 1바이트 단위로 표시되는 16진수 문자열로 변환"
      ]
    },
    {
      "cell_type": "code",
      "source": [
        "hexData = b'Python\\xf8\\xfa'.hex()  # => 문자열 b'Python\\xf8\\xfa'를 '507974686f6ef8fa'로 변환\n",
        "print(hexData)"
      ],
      "metadata": {
        "colab": {
          "base_uri": "https://localhost:8080/"
        },
        "id": "12xexv5M8Vxo",
        "outputId": "65b707e5-1512-491c-800a-85f88d36386e"
      },
      "execution_count": null,
      "outputs": [
        {
          "output_type": "stream",
          "name": "stdout",
          "text": [
            "507974686f6ef8fa\n"
          ]
        }
      ]
    },
    {
      "cell_type": "code",
      "source": [
        "hexData = b'Python\\xf8\\xfa\\x80'.hex('-')  # bytes.hex(sep) => bytes의 16진수 표시 결과를 sep(1바이트 단위)로 구분해 생성\n",
        "print(hexData)"
      ],
      "metadata": {
        "colab": {
          "base_uri": "https://localhost:8080/"
        },
        "id": "3XMIzqC19wh4",
        "outputId": "4d942d3b-5c44-4299-98f6-bd698b70eefb"
      },
      "execution_count": null,
      "outputs": [
        {
          "output_type": "stream",
          "name": "stdout",
          "text": [
            "50-79-74-68-6f-6e-f8-fa-80\n"
          ]
        }
      ]
    },
    {
      "cell_type": "code",
      "source": [
        "hexData = b'Python\\xf8\\xfa\\x80'.hex('-', 2)  # hex('-', 2) => 16진수 표시 겨로가를 2바이트 단위로 '-'로 구분해 생성\n",
        "print(hexData)"
      ],
      "metadata": {
        "colab": {
          "base_uri": "https://localhost:8080/"
        },
        "id": "uYdMP0-s-c0l",
        "outputId": "64bd33dd-4d0d-4ad8-c3e4-54c527cd4b3e"
      },
      "execution_count": null,
      "outputs": [
        {
          "output_type": "stream",
          "name": "stdout",
          "text": [
            "50-7974-686f-6ef8-fa80\n"
          ]
        }
      ]
    },
    {
      "cell_type": "code",
      "source": [
        "# Unit 95 바이트 문자열을 유니코드 문자열로 변환 : bytes.decode()\n",
        "\n",
        "# bytes.decode() => bytes를 유니코드 문자열로 변환 (디코딩 방식 UTF-8)"
      ],
      "metadata": {
        "id": "aKlfsIZe-0q0"
      },
      "execution_count": null,
      "outputs": []
    },
    {
      "cell_type": "code",
      "source": [
        "bytesData = b'\\xec\\x82\\xac\\xeb\\x9e\\x91\\xed\\x95\\xb4\\xec\\x9a\\x94'  # bytesData => 한글 '사랑해요'를 UTF-8로 인코딩한 바이트 문자열\n",
        "strData = bytesData.decode()\n",
        "print(strData)"
      ],
      "metadata": {
        "colab": {
          "base_uri": "https://localhost:8080/"
        },
        "id": "aOWsFHFg_COI",
        "outputId": "953849a2-56a0-4ffb-ea55-393312d7b66d"
      },
      "execution_count": null,
      "outputs": [
        {
          "output_type": "stream",
          "name": "stdout",
          "text": [
            "사랑해요\n"
          ]
        }
      ]
    },
    {
      "cell_type": "code",
      "source": [
        "bytesData = b'\\xbb\\xe7\\xb6\\xfb\\xc7\\xd8\\xbf\\xe4' # Unicode DecodeError 발생\n",
        "strData = bytesData.decode()\n",
        "print(strData)"
      ],
      "metadata": {
        "colab": {
          "base_uri": "https://localhost:8080/",
          "height": 180
        },
        "id": "2-t5sW3W_hVk",
        "outputId": "49f629f9-1b9e-41a3-b95e-294d8209a27e"
      },
      "execution_count": null,
      "outputs": [
        {
          "output_type": "error",
          "ename": "UnicodeDecodeError",
          "evalue": "'utf-8' codec can't decode byte 0xbb in position 0: invalid start byte",
          "traceback": [
            "\u001b[0;31m---------------------------------------------------------------------------\u001b[0m",
            "\u001b[0;31mUnicodeDecodeError\u001b[0m                        Traceback (most recent call last)",
            "\u001b[0;32m/tmp/ipython-input-2283047423.py\u001b[0m in \u001b[0;36m<cell line: 0>\u001b[0;34m()\u001b[0m\n\u001b[1;32m      1\u001b[0m \u001b[0mbytesData\u001b[0m \u001b[0;34m=\u001b[0m \u001b[0;34mb'\\xbb\\xe7\\xb6\\xfb\\xc7\\xd8\\xbf\\xe4'\u001b[0m \u001b[0;31m# Unicode DecodeError 발생\u001b[0m\u001b[0;34m\u001b[0m\u001b[0;34m\u001b[0m\u001b[0m\n\u001b[0;32m----> 2\u001b[0;31m \u001b[0mstrData\u001b[0m \u001b[0;34m=\u001b[0m \u001b[0mbytesData\u001b[0m\u001b[0;34m.\u001b[0m\u001b[0mdecode\u001b[0m\u001b[0;34m(\u001b[0m\u001b[0;34m)\u001b[0m\u001b[0;34m\u001b[0m\u001b[0;34m\u001b[0m\u001b[0m\n\u001b[0m\u001b[1;32m      3\u001b[0m \u001b[0mprint\u001b[0m\u001b[0;34m(\u001b[0m\u001b[0mstrData\u001b[0m\u001b[0;34m)\u001b[0m\u001b[0;34m\u001b[0m\u001b[0;34m\u001b[0m\u001b[0m\n",
            "\u001b[0;31mUnicodeDecodeError\u001b[0m: 'utf-8' codec can't decode byte 0xbb in position 0: invalid start byte"
          ]
        }
      ]
    },
    {
      "cell_type": "code",
      "source": [
        "bytesData = b'\\xbb\\xe7\\xb6\\xfb\\xc7\\xd8\\xbf\\xe4'\n",
        "strData = bytesData.decode('cp949')  # Unicode DecodeError => decode()인자로 한글 인코딩 방식을 명시하고 변환 (ex.decode('cp949'), decode('euc_kr'))\n",
        "print(strData)"
      ],
      "metadata": {
        "colab": {
          "base_uri": "https://localhost:8080/"
        },
        "id": "XpzphzQq_2z_",
        "outputId": "614763c0-6b8c-41fd-a5b8-25504beac018"
      },
      "execution_count": null,
      "outputs": [
        {
          "output_type": "stream",
          "name": "stdout",
          "text": [
            "사랑해요\n"
          ]
        }
      ]
    }
  ]
}