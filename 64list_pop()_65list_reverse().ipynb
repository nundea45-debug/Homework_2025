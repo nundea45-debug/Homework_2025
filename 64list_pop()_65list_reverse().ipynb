{
  "nbformat": 4,
  "nbformat_minor": 0,
  "metadata": {
    "colab": {
      "provenance": [],
      "name": "64list-pop()_65list-reverse().ipynb",
      "authorship_tag": "ABX9TyMx63A/8rQB6jZFL4R50ZU6",
      "include_colab_link": true
    },
    "kernelspec": {
      "name": "python3",
      "display_name": "Python 3"
    },
    "language_info": {
      "name": "python"
    }
  },
  "cells": [
    {
      "cell_type": "markdown",
      "metadata": {
        "id": "view-in-github",
        "colab_type": "text"
      },
      "source": [
        "<a href=\"https://colab.research.google.com/github/nundea45-debug/Homework_2025/blob/main/64list_pop()_65list_reverse().ipynb\" target=\"_parent\"><img src=\"https://colab.research.google.com/assets/colab-badge.svg\" alt=\"Open In Colab\"/></a>"
      ]
    },
    {
      "cell_type": "code",
      "execution_count": null,
      "metadata": {
        "id": "fsui77qvh8P0"
      },
      "outputs": [],
      "source": [
        "# Unit 64 리스트에서 특정 위치 요소 추출 후 삭제 : list.pop()\n",
        "\n",
        "# list.pop() => 리스트 자료 list에서 마지막 요소 추출 후 해당 요소를 삭제"
      ]
    },
    {
      "cell_type": "code",
      "source": [
        "numbers = [14,5,18,45,10,43]\n",
        "for _ in range(len(numbers)) :\n",
        "  ret = numbers.pop()\n",
        "  print(f'pop()으로 추출된 값 : {ret}, numbers = {numbers}')"
      ],
      "metadata": {
        "colab": {
          "base_uri": "https://localhost:8080/"
        },
        "id": "Xlww_SVHig4S",
        "outputId": "bce689e7-62f3-4c00-9845-7201de9fa97d"
      },
      "execution_count": null,
      "outputs": [
        {
          "output_type": "stream",
          "name": "stdout",
          "text": [
            "pop()으로 추출된 값 : 43, numbers = [14, 5, 18, 45, 10]\n",
            "pop()으로 추출된 값 : 10, numbers = [14, 5, 18, 45]\n",
            "pop()으로 추출된 값 : 45, numbers = [14, 5, 18]\n",
            "pop()으로 추출된 값 : 18, numbers = [14, 5]\n",
            "pop()으로 추출된 값 : 5, numbers = [14]\n",
            "pop()으로 추출된 값 : 14, numbers = []\n"
          ]
        }
      ]
    },
    {
      "cell_type": "code",
      "source": [
        "# list.pop(index) => list에서 list[index]를 추출하고 해당 요소를 삭제\n",
        "\n",
        "numbers = [14,5,18,45,10,43]\n",
        "ret = numbers.pop(3)  # numbers에서 인덱스 3인 요소 45를 리턴후, 삭제\n",
        "print(f'pop()으로 추출된 값 : {ret}, numbers = {numbers}')"
      ],
      "metadata": {
        "colab": {
          "base_uri": "https://localhost:8080/"
        },
        "id": "m0W72CQpjTOU",
        "outputId": "e84feb5e-1d6d-48c9-87df-982e6f948f08"
      },
      "execution_count": null,
      "outputs": [
        {
          "output_type": "stream",
          "name": "stdout",
          "text": [
            "pop()으로 추출된 값 : 45, numbers = [14, 5, 18, 10, 43]\n"
          ]
        }
      ]
    },
    {
      "cell_type": "code",
      "source": [
        "# Unit 65 리스트 요소를 역순으로 만들기 : list.reverse()\n",
        "\n",
        "# list.reverse() => list 요소를 역순으로 만듦"
      ],
      "metadata": {
        "id": "TsSTbsPFkeGF"
      },
      "execution_count": null,
      "outputs": []
    },
    {
      "cell_type": "code",
      "source": [
        "numbers = [1,2,3,4,5]\n",
        "ret = reversed(numbers)  # reversed()를 이용해 리스트 요소를 역순으로 만드는 코드 # numbers의 변경 없이 요소를 역순으로 함\n",
        "print(list(ret))\n",
        "print(numbers)"
      ],
      "metadata": {
        "colab": {
          "base_uri": "https://localhost:8080/"
        },
        "id": "n7lpyQ0YknQs",
        "outputId": "df6b0af3-610f-4867-ce89-b7880030cc76"
      },
      "execution_count": null,
      "outputs": [
        {
          "output_type": "stream",
          "name": "stdout",
          "text": [
            "[5, 4, 3, 2, 1]\n",
            "[1, 2, 3, 4, 5]\n"
          ]
        }
      ]
    },
    {
      "cell_type": "code",
      "source": [
        "numbers = [1,2,3,4,5]\n",
        "numbers.reverse()  # numbers 요소를 역순으로 배열하여 numbrse 자체를 업데이트함\n",
        "print(numbers)"
      ],
      "metadata": {
        "colab": {
          "base_uri": "https://localhost:8080/"
        },
        "id": "J6_6tzZblETa",
        "outputId": "8a539980-4cb4-41b9-99de-dd43f204219a"
      },
      "execution_count": null,
      "outputs": [
        {
          "output_type": "stream",
          "name": "stdout",
          "text": [
            "[5, 4, 3, 2, 1]\n"
          ]
        }
      ]
    }
  ]
}