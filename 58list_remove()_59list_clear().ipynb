{
  "nbformat": 4,
  "nbformat_minor": 0,
  "metadata": {
    "colab": {
      "provenance": [],
      "name": "58list-remove()_59list-clear().ipynb",
      "authorship_tag": "ABX9TyOEONsENCz7a3mo5rapBAG0",
      "include_colab_link": true
    },
    "kernelspec": {
      "name": "python3",
      "display_name": "Python 3"
    },
    "language_info": {
      "name": "python"
    }
  },
  "cells": [
    {
      "cell_type": "markdown",
      "metadata": {
        "id": "view-in-github",
        "colab_type": "text"
      },
      "source": [
        "<a href=\"https://colab.research.google.com/github/nundea45-debug/Homework_2025/blob/main/58list_remove()_59list_clear().ipynb\" target=\"_parent\"><img src=\"https://colab.research.google.com/assets/colab-badge.svg\" alt=\"Open In Colab\"/></a>"
      ]
    },
    {
      "cell_type": "code",
      "execution_count": null,
      "metadata": {
        "id": "fPax2kzfww2a"
      },
      "outputs": [],
      "source": [
        "# Unit 58 리스트에서 요소 삭제하기 2 : list.remove()\n",
        "\n",
        "# list.remove(target) => list에서 최초로 발견되는 target을 삭제"
      ]
    },
    {
      "cell_type": "code",
      "source": [
        "numbers = [1, 1, 3, 1, 1, 5 ,6 ,2, 0, 7]\n",
        "if 1 in numbers :\n",
        "  numbers.remove(1)  # numbers에 1이 있는지 체크 -> 1이 있으면 최초로 발견되는 1 삭제\n",
        "print(numbers)"
      ],
      "metadata": {
        "colab": {
          "base_uri": "https://localhost:8080/"
        },
        "id": "syrLocHrxNVK",
        "outputId": "ff3fbfd4-ba9b-4e35-e648-9692c5d8c855"
      },
      "execution_count": null,
      "outputs": [
        {
          "output_type": "stream",
          "name": "stdout",
          "text": [
            "[1, 3, 1, 1, 5, 6, 2, 0, 7]\n"
          ]
        }
      ]
    },
    {
      "cell_type": "code",
      "source": [
        "numbers = [1,1,3,1,1,5,6,2,0,7]\n",
        "while 1 in numbers :  # numbers에 있는 모든 1을 삭제\n",
        "  numbers.remove(1)\n",
        "print(numbers)"
      ],
      "metadata": {
        "colab": {
          "base_uri": "https://localhost:8080/"
        },
        "id": "kiLjWc_Dxwhb",
        "outputId": "752dc695-bcb6-4a7d-9ac0-f3e9035a7c31"
      },
      "execution_count": null,
      "outputs": [
        {
          "output_type": "stream",
          "name": "stdout",
          "text": [
            "[3, 5, 6, 2, 0, 7]\n"
          ]
        }
      ]
    },
    {
      "cell_type": "code",
      "source": [
        "fruits = ['사과', '배', '오렌지', '수박', '참외']\n",
        "fruits.remove('딸기')  # list.remove(target)에서 target이 list에 존재하지 않음 => ValueError 발생"
      ],
      "metadata": {
        "colab": {
          "base_uri": "https://localhost:8080/",
          "height": 163
        },
        "id": "hFYrVVSSyBQw",
        "outputId": "ab07ccc8-cc15-425d-8bee-fdd1822285f2"
      },
      "execution_count": null,
      "outputs": [
        {
          "output_type": "error",
          "ename": "ValueError",
          "evalue": "list.remove(x): x not in list",
          "traceback": [
            "\u001b[0;31m---------------------------------------------------------------------------\u001b[0m",
            "\u001b[0;31mValueError\u001b[0m                                Traceback (most recent call last)",
            "\u001b[0;32m/tmp/ipython-input-3794226126.py\u001b[0m in \u001b[0;36m<cell line: 0>\u001b[0;34m()\u001b[0m\n\u001b[1;32m      1\u001b[0m \u001b[0mfruits\u001b[0m \u001b[0;34m=\u001b[0m \u001b[0;34m[\u001b[0m\u001b[0;34m'사과'\u001b[0m\u001b[0;34m,\u001b[0m \u001b[0;34m'배'\u001b[0m\u001b[0;34m,\u001b[0m \u001b[0;34m'오렌지'\u001b[0m\u001b[0;34m,\u001b[0m \u001b[0;34m'수박'\u001b[0m\u001b[0;34m,\u001b[0m \u001b[0;34m'참외'\u001b[0m\u001b[0;34m]\u001b[0m\u001b[0;34m\u001b[0m\u001b[0;34m\u001b[0m\u001b[0m\n\u001b[0;32m----> 2\u001b[0;31m \u001b[0mfruits\u001b[0m\u001b[0;34m.\u001b[0m\u001b[0mremove\u001b[0m\u001b[0;34m(\u001b[0m\u001b[0;34m'딸기'\u001b[0m\u001b[0;34m)\u001b[0m  \u001b[0;31m# list.remove(target)에서 target이 list에 존재하지 않음 => ValueError 발생\u001b[0m\u001b[0;34m\u001b[0m\u001b[0;34m\u001b[0m\u001b[0m\n\u001b[0m",
            "\u001b[0;31mValueError\u001b[0m: list.remove(x): x not in list"
          ]
        }
      ]
    },
    {
      "cell_type": "code",
      "source": [
        "# Unit 59 리스트의 모든 요소 삭제하기 : list.clear()\n",
        "\n",
        "# list.clear() => list의 모든 요소 삭제 (빈 리스트로 만듦)"
      ],
      "metadata": {
        "id": "T8jGzRkCySVT"
      },
      "execution_count": null,
      "outputs": []
    },
    {
      "cell_type": "code",
      "source": [
        "fruits = ['사과', '배', '오렌지', '수박', '참외']\n",
        "fruits.clear()\n",
        "print(fruits)"
      ],
      "metadata": {
        "colab": {
          "base_uri": "https://localhost:8080/"
        },
        "id": "jF44k_mSyde2",
        "outputId": "1c85077c-af1d-4d82-9f36-5c6f8d311b45"
      },
      "execution_count": null,
      "outputs": [
        {
          "output_type": "stream",
          "name": "stdout",
          "text": [
            "[]\n"
          ]
        }
      ]
    },
    {
      "cell_type": "code",
      "source": [
        "fruits = ['사과', '배', '오렌지', '수박', '참외']\n",
        "del fruits[:]  # list.clear()는 del list{:}와 동일한 기능 수행\n",
        "print(fruits)"
      ],
      "metadata": {
        "colab": {
          "base_uri": "https://localhost:8080/"
        },
        "id": "k9-TgGbayq7V",
        "outputId": "0b37b60e-d3ee-4216-f777-028869d1acbd"
      },
      "execution_count": null,
      "outputs": [
        {
          "output_type": "stream",
          "name": "stdout",
          "text": [
            "[]\n"
          ]
        }
      ]
    }
  ]
}