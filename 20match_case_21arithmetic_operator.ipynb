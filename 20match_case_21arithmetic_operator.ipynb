{
  "nbformat": 4,
  "nbformat_minor": 0,
  "metadata": {
    "colab": {
      "provenance": [],
      "authorship_tag": "ABX9TyOcxnNLAQ/ceYGI8Yy85GzE",
      "include_colab_link": true
    },
    "kernelspec": {
      "name": "python3",
      "display_name": "Python 3"
    },
    "language_info": {
      "name": "python"
    }
  },
  "cells": [
    {
      "cell_type": "markdown",
      "metadata": {
        "id": "view-in-github",
        "colab_type": "text"
      },
      "source": [
        "<a href=\"https://colab.research.google.com/github/nundea45-debug/Homework_2025/blob/main/20match_case_21arithmetic_operator.ipynb\" target=\"_parent\"><img src=\"https://colab.research.google.com/assets/colab-badge.svg\" alt=\"Open In Colab\"/></a>"
      ]
    },
    {
      "cell_type": "code",
      "execution_count": null,
      "metadata": {
        "colab": {
          "base_uri": "https://localhost:8080/"
        },
        "id": "O5k9AMMWPQlb",
        "outputId": "4c386fcc-eab9-42e8-e92f-b41b7cb53647"
      },
      "outputs": [
        {
          "output_type": "stream",
          "name": "stdout",
          "text": [
            "Bad Request\n"
          ]
        }
      ],
      "source": [
        "# Unit 20 match문 : match~case\n",
        "\n",
        "# match문 : 어떤 식이나 값을 case별로 비교하고 각각에 맞게 실행하고자 할 때 사용\n",
        "\n",
        "http_status = 400  # http_status 값에 따라 출력하는 내용 결정\n",
        "match http_status :\n",
        "  case 400 :\n",
        "    print('Bad Request')  # http_status 400이므로 case 400에 해당되어 Bad Request를 출력하고 match문을 탈출 => match문은 최초로 일치하는 case를 만나면 해당 코드 실행 후 탈출\n",
        "  case 401 :\n",
        "    print('Unauthorized')\n",
        "  case 403 :\n",
        "    print('Forbidden')\n",
        "  case 404 :\n",
        "    print('Not Found')\n",
        "  case _ :  # \"_\" => case로 비교하는 값(ex. 400, 401 등)이 아닌 모든 값에 대한 wildcard로 해당하는 http_status가 없을 시 출력 (ex. 407)\n",
        "    print('기타 인터넷 문제로 뭔가 잘못됨')"
      ]
    },
    {
      "cell_type": "code",
      "source": [
        "# \" | \" 연산자를 이용해 여러 개의 값에 대해 적용 가능\n",
        "\n",
        "http_status = 302\n",
        "match http_status :\n",
        "  case 200 | 202 | 203 :\n",
        "    print('Success')\n",
        "  case 301 | 302 | 303 :\n",
        "    print('Redirection')\n",
        "  case 400 | 401 | 403 | 404 :\n",
        "    print('Client Errors')\n",
        "  case _ :\n",
        "    print('기타 HTTP 응답 코드')"
      ],
      "metadata": {
        "colab": {
          "base_uri": "https://localhost:8080/"
        },
        "id": "fz6_Epr2Y8vb",
        "outputId": "3e3324a4-7cf4-4f02-eb9c-2c87b1e5d760"
      },
      "execution_count": null,
      "outputs": [
        {
          "output_type": "stream",
          "name": "stdout",
          "text": [
            "Redirection\n"
          ]
        }
      ]
    },
    {
      "cell_type": "code",
      "source": [
        "#point = (0, 0)  # 2차원 평면 좌표를 나타내는 튜플\n",
        "point = (1, 0)\n",
        "#point = (0, 1)\n",
        "#point = (1, 1)\n",
        "match point :\n",
        "  case (0, 0) :  # point가 (0, 0)인 경우 '원점 좌표'를 출력하고 match문을 탈출\n",
        "    print('원점 좌표')\n",
        "  case (x, 0) :\n",
        "    print(f'x축 위의 점이며 x의 값은 {x}')  # 1라인을 주석 처리 후, 2라인의 point = (1, 0)의 주석을 해제할 시 출력 됨\n",
        "  case (0, y) :\n",
        "    print(f'y축 위의 점이며 y의 값은 {y}')\n",
        "  case (x, y) :\n",
        "    print(f'(x, y) = ({x}, {y})')\n",
        "  case _ :\n",
        "    print('오류 2차원 좌표가 아님')"
      ],
      "metadata": {
        "colab": {
          "base_uri": "https://localhost:8080/"
        },
        "id": "DgvRKga1ZrVa",
        "outputId": "50267e7e-64e4-46f9-8e48-5b845b57a50b"
      },
      "execution_count": null,
      "outputs": [
        {
          "output_type": "stream",
          "name": "stdout",
          "text": [
            "x축 위의 점이며 x의 값은 1\n"
          ]
        }
      ]
    },
    {
      "cell_type": "code",
      "source": [
        "# Unit 21 수치연산자(arithmetic operator) : +, -, *, /, **, //, %\n",
        "\n",
        "x = 2\n",
        "y = 4\n",
        "print(x * y)  # * => 곱셈\n",
        "print(x / y)  # / => 나눗셈\n",
        "print(x ** y) # ** => 거듭제곱"
      ],
      "metadata": {
        "colab": {
          "base_uri": "https://localhost:8080/"
        },
        "id": "18PTk3NubNLD",
        "outputId": "4f84b38f-41e2-43d2-9dd1-9366a28a1642"
      },
      "execution_count": null,
      "outputs": [
        {
          "output_type": "stream",
          "name": "stdout",
          "text": [
            "8\n",
            "0.5\n",
            "16\n"
          ]
        }
      ]
    },
    {
      "cell_type": "code",
      "source": [
        "x = 5\n",
        "y = 2\n",
        "print(x // y)  # // => 몫  # 5를 2로 나눈 몫\n",
        "print(x % y)   # % => 나머지 # 5를 2로 나눈 나머지"
      ],
      "metadata": {
        "colab": {
          "base_uri": "https://localhost:8080/"
        },
        "id": "_7ojkuWkbqOz",
        "outputId": "880cd4ae-494b-4e5e-bc52-afd01704df8a"
      },
      "execution_count": null,
      "outputs": [
        {
          "output_type": "stream",
          "name": "stdout",
          "text": [
            "2\n",
            "1\n"
          ]
        }
      ]
    }
  ]
}