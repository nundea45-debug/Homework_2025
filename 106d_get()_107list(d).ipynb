{
  "nbformat": 4,
  "nbformat_minor": 0,
  "metadata": {
    "colab": {
      "provenance": [],
      "name": "106d.get()_107list(d).ipynb",
      "authorship_tag": "ABX9TyNti6DC3zn/88iuS1AYf4lN",
      "include_colab_link": true
    },
    "kernelspec": {
      "name": "python3",
      "display_name": "Python 3"
    },
    "language_info": {
      "name": "python"
    }
  },
  "cells": [
    {
      "cell_type": "markdown",
      "metadata": {
        "id": "view-in-github",
        "colab_type": "text"
      },
      "source": [
        "<a href=\"https://colab.research.google.com/github/nundea45-debug/Homework_2025/blob/main/106d_get()_107list(d).ipynb\" target=\"_parent\"><img src=\"https://colab.research.google.com/assets/colab-badge.svg\" alt=\"Open In Colab\"/></a>"
      ]
    },
    {
      "cell_type": "code",
      "execution_count": null,
      "metadata": {
        "colab": {
          "base_uri": "https://localhost:8080/"
        },
        "id": "rXVY9ooDq8EN",
        "outputId": "e097934d-beac-4549-c3e1-797a6e247715"
      },
      "outputs": [
        {
          "output_type": "stream",
          "name": "stdout",
          "text": [
            "ret1 = 2111, ret2 = None\n"
          ]
        }
      ],
      "source": [
        "# Unit 106 딕셔너리에서 값 추출하기 2 : d.get()\n",
        "\n",
        "# d.get(key) => 딕셔너리 d의 요소에 key가 있을 시 해당 요소의 값을 리턴 / key가 없을 시 None을 리턴 (KeyError 오류 발생 X)\n",
        "names = {'Mary':10999, 'Cris':2111, 'Aimy':9778, 'Tom':20245}\n",
        "ret1 = names.get('Cris')\n",
        "ret2 = names.get('Sams')\n",
        "print(f'ret1 = {ret1}, ret2 = {ret2}')"
      ]
    },
    {
      "cell_type": "code",
      "source": [
        "# d.get(key, default) => d의 요소에 key가 있으면 해당 요소의 값을 리턴 / key가 없을 시 defalut 리턴\n",
        "ret1 = names.get('Cris', 0)\n",
        "ret2 = names.get('Sams', 0)  # names에 존재하지 않는 자료 'Sams'에 대한 값으로 0을 리턴\n",
        "print(f'ret1 = {ret1}, ret2 = {ret2}')"
      ],
      "metadata": {
        "colab": {
          "base_uri": "https://localhost:8080/"
        },
        "id": "lgCumvbwuW4l",
        "outputId": "39d990f0-5051-4f01-e378-e845f76a2fac"
      },
      "execution_count": null,
      "outputs": [
        {
          "output_type": "stream",
          "name": "stdout",
          "text": [
            "ret1 = 2111, ret2 = 0\n"
          ]
        }
      ]
    },
    {
      "cell_type": "code",
      "source": [
        "# Unit 107 딕셔너리의 모든 키를 리스트로 만들기 : list(d)\n",
        "\n",
        "# list()의 인자로 딕셔너리 입력 => 딕셔너리의 모든 키로 리스트를 생성"
      ],
      "metadata": {
        "id": "s8j75iW9u_wk"
      },
      "execution_count": null,
      "outputs": []
    },
    {
      "cell_type": "code",
      "source": [
        "names = {'Mary':10999, 'Cris':2111, 'Aimy':9778, 'Tom':20245}\n",
        "nameList = list(names)  # list(d) == list(d, keys())\n",
        "print(nameList)"
      ],
      "metadata": {
        "colab": {
          "base_uri": "https://localhost:8080/"
        },
        "id": "d7krdm9YvnRl",
        "outputId": "2a6c5bd2-9f85-4bb2-d22a-afd18102db4d"
      },
      "execution_count": null,
      "outputs": [
        {
          "output_type": "stream",
          "name": "stdout",
          "text": [
            "['Mary', 'Cris', 'Aimy', 'Tom']\n"
          ]
        }
      ]
    }
  ]
}