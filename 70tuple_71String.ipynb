{
  "nbformat": 4,
  "nbformat_minor": 0,
  "metadata": {
    "colab": {
      "provenance": [],
      "name": "70tuple_71String.ipynb",
      "authorship_tag": "ABX9TyN7ia4Z4WVhP1kUItHiH01u",
      "include_colab_link": true
    },
    "kernelspec": {
      "name": "python3",
      "display_name": "Python 3"
    },
    "language_info": {
      "name": "python"
    }
  },
  "cells": [
    {
      "cell_type": "markdown",
      "metadata": {
        "id": "view-in-github",
        "colab_type": "text"
      },
      "source": [
        "<a href=\"https://colab.research.google.com/github/nundea45-debug/Homework_2025/blob/main/70tuple_71String.ipynb\" target=\"_parent\"><img src=\"https://colab.research.google.com/assets/colab-badge.svg\" alt=\"Open In Colab\"/></a>"
      ]
    },
    {
      "cell_type": "code",
      "execution_count": null,
      "metadata": {
        "colab": {
          "base_uri": "https://localhost:8080/"
        },
        "id": "W1q34OiURm-T",
        "outputId": "5d4535e3-fa5f-4843-f5ff-8de6bfe4c501"
      },
      "outputs": [
        {
          "output_type": "stream",
          "name": "stdout",
          "text": [
            "(1, 'two', '셋')\n"
          ]
        }
      ],
      "source": [
        "# Unit 70 튜플(tuple) 이해하기\n",
        "\n",
        "tupleData = 1, 'two', '셋'  # tuple => 콤마로 구분된 값들이 괄호로 묶어 표현된 것\n",
        "print(tupleData)"
      ]
    },
    {
      "cell_type": "code",
      "source": [
        "tupleData = (1, 'two', '셋')\n",
        "print(tupleData)"
      ],
      "metadata": {
        "colab": {
          "base_uri": "https://localhost:8080/"
        },
        "id": "hfuNleU9R_v0",
        "outputId": "c0f2bf0a-1091-45b4-9473-8ae05ac62012"
      },
      "execution_count": null,
      "outputs": [
        {
          "output_type": "stream",
          "name": "stdout",
          "text": [
            "(1, 'two', '셋')\n"
          ]
        }
      ]
    },
    {
      "cell_type": "code",
      "source": [
        "x, y, z = tupleData  # 튜플 요소 개수에 맞게 변수에 할당\n",
        "print(f'x = {x}, y = {y}, z = {z}')"
      ],
      "metadata": {
        "colab": {
          "base_uri": "https://localhost:8080/"
        },
        "id": "jS-XevzpSGxx",
        "outputId": "da0ccf76-f3d3-4121-c7c9-e98ba4102bcf"
      },
      "execution_count": null,
      "outputs": [
        {
          "output_type": "stream",
          "name": "stdout",
          "text": [
            "x = 1, y = two, z = 셋\n"
          ]
        }
      ]
    },
    {
      "cell_type": "code",
      "source": [
        "tupleData = (0,1,2,3,4)\n",
        "tupleData[3] = 'Three'  # 튜플은 요소 변경이 불가능한 시퀀스 자료 => TypeError 발생"
      ],
      "metadata": {
        "colab": {
          "base_uri": "https://localhost:8080/",
          "height": 163
        },
        "id": "QcwHtWSkST6-",
        "outputId": "e837f47f-bb8e-4e86-f01c-fd370eb86aae"
      },
      "execution_count": null,
      "outputs": [
        {
          "output_type": "error",
          "ename": "TypeError",
          "evalue": "'tuple' object does not support item assignment",
          "traceback": [
            "\u001b[0;31m---------------------------------------------------------------------------\u001b[0m",
            "\u001b[0;31mTypeError\u001b[0m                                 Traceback (most recent call last)",
            "\u001b[0;32m/tmp/ipython-input-238370129.py\u001b[0m in \u001b[0;36m<cell line: 0>\u001b[0;34m()\u001b[0m\n\u001b[1;32m      1\u001b[0m \u001b[0mtupleData\u001b[0m \u001b[0;34m=\u001b[0m \u001b[0;34m(\u001b[0m\u001b[0;36m0\u001b[0m\u001b[0;34m,\u001b[0m\u001b[0;36m1\u001b[0m\u001b[0;34m,\u001b[0m\u001b[0;36m2\u001b[0m\u001b[0;34m,\u001b[0m\u001b[0;36m3\u001b[0m\u001b[0;34m,\u001b[0m\u001b[0;36m4\u001b[0m\u001b[0;34m)\u001b[0m\u001b[0;34m\u001b[0m\u001b[0;34m\u001b[0m\u001b[0m\n\u001b[0;32m----> 2\u001b[0;31m \u001b[0mtupleData\u001b[0m\u001b[0;34m[\u001b[0m\u001b[0;36m3\u001b[0m\u001b[0;34m]\u001b[0m \u001b[0;34m=\u001b[0m \u001b[0;34m'Three'\u001b[0m  \u001b[0;31m# 튜플은 요소 변경이 불가능한 시퀀스 자료 => TypeError 발생\u001b[0m\u001b[0;34m\u001b[0m\u001b[0;34m\u001b[0m\u001b[0m\n\u001b[0m",
            "\u001b[0;31mTypeError\u001b[0m: 'tuple' object does not support item assignment"
          ]
        }
      ]
    },
    {
      "cell_type": "code",
      "source": [
        "# Unit 71 문자열(String) 객체\n",
        "\n",
        "# 작은따옴표('')로 문자열 선언\n",
        "strData1 = '안녕하세요'\n",
        "strData2 = '작은따옴표는 \"큰따옴표\"를 포함하는 문자열이 가능합니다.'\n",
        "print(strData1)\n",
        "print(strData2)"
      ],
      "metadata": {
        "colab": {
          "base_uri": "https://localhost:8080/"
        },
        "id": "23bCBaEXSjFY",
        "outputId": "2ea5acc3-a2ad-4ff2-fbd2-fbaff464086c"
      },
      "execution_count": null,
      "outputs": [
        {
          "output_type": "stream",
          "name": "stdout",
          "text": [
            "안녕하세요\n",
            "작은따옴표는 \"큰따옴표\"를 포함하는 문자열이 가능합니다.\n"
          ]
        }
      ]
    },
    {
      "cell_type": "code",
      "source": [
        "# 큰따옴표(\"\")로 문자열 선언\n",
        "strData3 = \"안녕하세요\"\n",
        "strData4 = \"큰따옴표는 '작은따옴표'를 포함하는 문자열이 가능합니다.\"\n",
        "print(strData3)\n",
        "print(strData4)"
      ],
      "metadata": {
        "colab": {
          "base_uri": "https://localhost:8080/"
        },
        "id": "0UgbST_ATIKT",
        "outputId": "5f263834-1b27-4322-8b1c-1851ed8bfe80"
      },
      "execution_count": null,
      "outputs": [
        {
          "output_type": "stream",
          "name": "stdout",
          "text": [
            "안녕하세요\n",
            "큰따옴표는 '작은따옴표'를 포함하는 문자열이 가능합니다.\n"
          ]
        }
      ]
    },
    {
      "cell_type": "code",
      "source": [
        "# 삼중 작은따옴표로 문자열 선언\n",
        "strData5 = '''3중 작은 따옴표는\n",
        "              여러 줄에 걸친 문자열이 가능합니다.'''\n",
        "print(strData5)"
      ],
      "metadata": {
        "colab": {
          "base_uri": "https://localhost:8080/"
        },
        "id": "syOpZx6GTXxo",
        "outputId": "97d3848a-f191-4cc6-a4d2-4734d123f987"
      },
      "execution_count": null,
      "outputs": [
        {
          "output_type": "stream",
          "name": "stdout",
          "text": [
            "3중 작은 따옴표는\n",
            "              여러 줄에 걸친 문자열이 가능합니다.\n"
          ]
        }
      ]
    },
    {
      "cell_type": "code",
      "source": [
        "# 삼중 큰따옴표로 문자열 선언\n",
        "strData6 = \"\"\"3중 큰따옴표 역시\n",
        "여러줄에 걸친 문자열이 가능합니다.\"\"\"\n",
        "print(strData6)"
      ],
      "metadata": {
        "colab": {
          "base_uri": "https://localhost:8080/"
        },
        "id": "AXFaj5obTh7s",
        "outputId": "bb5dff14-248c-4343-c942-00b8ae4580e7"
      },
      "execution_count": null,
      "outputs": [
        {
          "output_type": "stream",
          "name": "stdout",
          "text": [
            "3중 큰따옴표 역시\n",
            "여러줄에 걸친 문자열이 가능합니다.\n"
          ]
        }
      ]
    },
    {
      "cell_type": "code",
      "source": [
        "# 주석처리를 위한 삼중따옴표\n",
        "while ret != None :\n",
        "  \"\"\"print(f'큐에서 데이터 추출 : {ret}')\n",
        "  print(f'큐상태 : {myqueue}')\n",
        "  print('---------------')\"\"\"            # 여러 줄의 주석처리 예\n",
        "  ret = popData()"
      ],
      "metadata": {
        "colab": {
          "base_uri": "https://localhost:8080/",
          "height": 216
        },
        "id": "DtRJXkqLT7VL",
        "outputId": "cf3efeb0-7c16-40c9-a977-09043d325750"
      },
      "execution_count": null,
      "outputs": [
        {
          "output_type": "error",
          "ename": "NameError",
          "evalue": "name 'ret' is not defined",
          "traceback": [
            "\u001b[0;31m---------------------------------------------------------------------------\u001b[0m",
            "\u001b[0;31mNameError\u001b[0m                                 Traceback (most recent call last)",
            "\u001b[0;32m/tmp/ipython-input-2013685520.py\u001b[0m in \u001b[0;36m<cell line: 0>\u001b[0;34m()\u001b[0m\n\u001b[1;32m      1\u001b[0m \u001b[0;31m# 주석처리를 위한 삼중따옴표\u001b[0m\u001b[0;34m\u001b[0m\u001b[0;34m\u001b[0m\u001b[0m\n\u001b[0;32m----> 2\u001b[0;31m \u001b[0;32mwhile\u001b[0m \u001b[0mret\u001b[0m \u001b[0;34m!=\u001b[0m \u001b[0;32mNone\u001b[0m \u001b[0;34m:\u001b[0m\u001b[0;34m\u001b[0m\u001b[0;34m\u001b[0m\u001b[0m\n\u001b[0m\u001b[1;32m      3\u001b[0m   \"\"\"print(f'큐에서 데이터 추출 : {ret}')\n\u001b[1;32m      4\u001b[0m   \u001b[0mprint\u001b[0m\u001b[0;34m(\u001b[0m\u001b[0;34mf'큐상태 : {myqueue}'\u001b[0m\u001b[0;34m)\u001b[0m\u001b[0;34m\u001b[0m\u001b[0;34m\u001b[0m\u001b[0m\n\u001b[1;32m      5\u001b[0m   print('---------------')\"\"\"            # 여러 줄의 주석처리 예\n",
            "\u001b[0;31mNameError\u001b[0m: name 'ret' is not defined"
          ]
        }
      ]
    }
  ]
}