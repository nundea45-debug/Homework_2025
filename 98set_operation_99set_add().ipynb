{
  "nbformat": 4,
  "nbformat_minor": 0,
  "metadata": {
    "colab": {
      "provenance": [],
      "name": "98set-operation_99set.add().ipynb",
      "authorship_tag": "ABX9TyPOiv0kGVsglmXsEVGszLCB",
      "include_colab_link": true
    },
    "kernelspec": {
      "name": "python3",
      "display_name": "Python 3"
    },
    "language_info": {
      "name": "python"
    }
  },
  "cells": [
    {
      "cell_type": "markdown",
      "metadata": {
        "id": "view-in-github",
        "colab_type": "text"
      },
      "source": [
        "<a href=\"https://colab.research.google.com/github/nundea45-debug/Homework_2025/blob/main/98set_operation_99set_add().ipynb\" target=\"_parent\"><img src=\"https://colab.research.google.com/assets/colab-badge.svg\" alt=\"Open In Colab\"/></a>"
      ]
    },
    {
      "cell_type": "code",
      "execution_count": null,
      "metadata": {
        "id": "vV8_R911BnFK"
      },
      "outputs": [],
      "source": [
        "# Unit 98 set 연산 : |, &, -, ^\n",
        "\n",
        "set1 = set('abradacabra')  # set 자료 정의\n",
        "set2 = set('abbreviation')"
      ]
    },
    {
      "cell_type": "code",
      "source": [
        "ret = set1|set2  # set 자료의 합집합 추출 => A | B\n",
        "print(ret)"
      ],
      "metadata": {
        "colab": {
          "base_uri": "https://localhost:8080/"
        },
        "id": "4OSe_WXKCRsV",
        "outputId": "2d03e40c-f306-4da3-a8cf-03e8f05a2d63"
      },
      "execution_count": null,
      "outputs": [
        {
          "output_type": "stream",
          "name": "stdout",
          "text": [
            "{'o', 'r', 'i', 'c', 'd', 'b', 'e', 'a', 'n', 'v', 't'}\n"
          ]
        }
      ]
    },
    {
      "cell_type": "code",
      "source": [
        "ret = set1&set2  # set 자료의 교집합 추출 => A & B\n",
        "print(ret)"
      ],
      "metadata": {
        "colab": {
          "base_uri": "https://localhost:8080/"
        },
        "id": "ekLTx6XPCguH",
        "outputId": "79418095-348b-4f87-dc2a-a74a02ab5d71"
      },
      "execution_count": null,
      "outputs": [
        {
          "output_type": "stream",
          "name": "stdout",
          "text": [
            "{'a', 'r', 'b'}\n"
          ]
        }
      ]
    },
    {
      "cell_type": "code",
      "source": [
        "ret = set1-set2  # set 자료의 차집합 추출 => A - B\n",
        "print(ret)"
      ],
      "metadata": {
        "colab": {
          "base_uri": "https://localhost:8080/"
        },
        "id": "on8NTFYrCtkT",
        "outputId": "3a1e0997-f298-4deb-91c3-773d8df0aefc"
      },
      "execution_count": null,
      "outputs": [
        {
          "output_type": "stream",
          "name": "stdout",
          "text": [
            "{'c', 'd'}\n"
          ]
        }
      ]
    },
    {
      "cell_type": "code",
      "source": [
        "ret = set1^set2  # set 자료의 교집합의 여집합 추출 => A ^ B (교집합의 여집합 => A, B 중 어느 한 곳에만 있는 요소로 이루어진 집합)\n",
        "print(ret)"
      ],
      "metadata": {
        "colab": {
          "base_uri": "https://localhost:8080/"
        },
        "id": "GJmyVJphC2oB",
        "outputId": "a33b2e44-de11-4896-fc11-3585ab985434"
      },
      "execution_count": null,
      "outputs": [
        {
          "output_type": "stream",
          "name": "stdout",
          "text": [
            "{'o', 'i', 'd', 'c', 'e', 'n', 'v', 't'}\n"
          ]
        }
      ]
    },
    {
      "cell_type": "code",
      "source": [
        "ret = set1 <= set2  # set 자료에서 A가 B의 부분집합인 경우 => A <= B의 값이 True\n",
        "print(ret)"
      ],
      "metadata": {
        "colab": {
          "base_uri": "https://localhost:8080/"
        },
        "id": "5dCmZb04DMhw",
        "outputId": "51429362-12cc-4369-adb6-94ed11962449"
      },
      "execution_count": null,
      "outputs": [
        {
          "output_type": "stream",
          "name": "stdout",
          "text": [
            "False\n"
          ]
        }
      ]
    },
    {
      "cell_type": "code",
      "source": [
        "set1 =| set2  # set1 | set2의 결과를 set1으로 업데이트\n",
        "set1 &= set2  # set1 & set2의 결과를 set1으로 업데이트\n",
        "set1 -= set2  # set1 - set2의 결과를 set1으로 업데이트\n",
        "set1 ^= set2  # set1 ^ set2의 결과를 set1으로 업데이트"
      ],
      "metadata": {
        "colab": {
          "base_uri": "https://localhost:8080/",
          "height": 109
        },
        "id": "pFk3CwyuDPDf",
        "outputId": "defdcc7f-edec-4820-f640-c53f9c7418eb"
      },
      "execution_count": null,
      "outputs": [
        {
          "output_type": "error",
          "ename": "SyntaxError",
          "evalue": "invalid syntax (ipython-input-3026053923.py, line 1)",
          "traceback": [
            "\u001b[0;36m  File \u001b[0;32m\"/tmp/ipython-input-3026053923.py\"\u001b[0;36m, line \u001b[0;32m1\u001b[0m\n\u001b[0;31m    set1 =| set2  # set1 | set2의 결과를 set1으로 업데이트\u001b[0m\n\u001b[0m          ^\u001b[0m\n\u001b[0;31mSyntaxError\u001b[0m\u001b[0;31m:\u001b[0m invalid syntax\n"
          ]
        }
      ]
    },
    {
      "cell_type": "code",
      "source": [
        "# Unit 99 set에 요소 추가 : set.add()\n",
        "\n",
        "# set.add(elem) => set에 elem을 추가\n",
        "fruits = {'사과', '배', '오렌지', '수박'}\n",
        "fruits.add('딸기')\n",
        "print(fruits)"
      ],
      "metadata": {
        "colab": {
          "base_uri": "https://localhost:8080/"
        },
        "id": "MHeMkGqwEDYf",
        "outputId": "fdedaffb-e8da-45d6-9180-2dfaa3a31469"
      },
      "execution_count": null,
      "outputs": [
        {
          "output_type": "stream",
          "name": "stdout",
          "text": [
            "{'수박', '오렌지', '딸기', '배', '사과'}\n"
          ]
        }
      ]
    },
    {
      "cell_type": "code",
      "source": [
        "fruits.add('배')  # fruits에 이미 존재하는 요소를 추가해도 오류 X\n",
        "print(fruits)"
      ],
      "metadata": {
        "colab": {
          "base_uri": "https://localhost:8080/"
        },
        "id": "znD_JsFWEVFY",
        "outputId": "3478c3eb-3810-4fa5-8135-cdae54af9ebb"
      },
      "execution_count": null,
      "outputs": [
        {
          "output_type": "stream",
          "name": "stdout",
          "text": [
            "{'수박', '오렌지', '딸기', '배', '사과'}\n"
          ]
        }
      ]
    }
  ]
}