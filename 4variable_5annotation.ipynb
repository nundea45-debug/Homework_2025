{
  "nbformat": 4,
  "nbformat_minor": 0,
  "metadata": {
    "colab": {
      "provenance": [],
      "authorship_tag": "ABX9TyOFnJNgmz6qliNu0g3bWjY1",
      "include_colab_link": true
    },
    "kernelspec": {
      "name": "python3",
      "display_name": "Python 3"
    },
    "language_info": {
      "name": "python"
    }
  },
  "cells": [
    {
      "cell_type": "markdown",
      "metadata": {
        "id": "view-in-github",
        "colab_type": "text"
      },
      "source": [
        "<a href=\"https://colab.research.google.com/github/nundea45-debug/Homework_2025/blob/main/4variable_5annotation.ipynb\" target=\"_parent\"><img src=\"https://colab.research.google.com/assets/colab-badge.svg\" alt=\"Open In Colab\"/></a>"
      ]
    },
    {
      "cell_type": "code",
      "source": [
        "#Unit 4 변수\n",
        "_myname = 'sansjang'\n",
        "my_name = '홍길동'\n",
        "MyName3 = 'Hong gil-dong'\n",
        "country = '대한민국'"
      ],
      "metadata": {
        "id": "p55j3ZJQG7Ms"
      },
      "execution_count": null,
      "outputs": []
    },
    {
      "cell_type": "code",
      "source": [
        "1_str = '안녕하세요 파이썬!' #변수의 잘못된 예 1 = 변수명의 첫 문자는 _ 또는 영문자로 시작해야함"
      ],
      "metadata": {
        "colab": {
          "base_uri": "https://localhost:8080/",
          "height": 109
        },
        "id": "Ptaz1Ky0IgVh",
        "outputId": "1cb0b334-9374-4fc2-a1c3-f0167883448c"
      },
      "execution_count": null,
      "outputs": [
        {
          "output_type": "error",
          "ename": "SyntaxError",
          "evalue": "invalid decimal literal (ipython-input-4293204162.py, line 1)",
          "traceback": [
            "\u001b[0;36m  File \u001b[0;32m\"/tmp/ipython-input-4293204162.py\"\u001b[0;36m, line \u001b[0;32m1\u001b[0m\n\u001b[0;31m    1_str = '안녕하세요 파이썬!' #변수의 잘못된 예 1 = 변수명의 첫 문자는 _ 또는 영문자로 시작해야함\u001b[0m\n\u001b[0m     ^\u001b[0m\n\u001b[0;31mSyntaxError\u001b[0m\u001b[0;31m:\u001b[0m invalid decimal literal\n"
          ]
        }
      ]
    },
    {
      "cell_type": "code",
      "source": [
        "_%var = 'Temp Variables' #변수의 잘못된 예 2 = 특수 기호 사용\n",
        "@address = 'sansjang@naver.com'"
      ],
      "metadata": {
        "colab": {
          "base_uri": "https://localhost:8080/",
          "height": 109
        },
        "id": "7hE1tzCUI8dI",
        "outputId": "9d0751e9-3797-435a-fcbd-e26fafd837b7"
      },
      "execution_count": null,
      "outputs": [
        {
          "output_type": "error",
          "ename": "SyntaxError",
          "evalue": "cannot assign to expression here. Maybe you meant '==' instead of '='? (ipython-input-3128059425.py, line 1)",
          "traceback": [
            "\u001b[0;36m  File \u001b[0;32m\"/tmp/ipython-input-3128059425.py\"\u001b[0;36m, line \u001b[0;32m1\u001b[0m\n\u001b[0;31m    _%var = 'Temp Variables' #잘못된 예 2 = 특수 기호 사용\u001b[0m\n\u001b[0m    ^\u001b[0m\n\u001b[0;31mSyntaxError\u001b[0m\u001b[0;31m:\u001b[0m cannot assign to expression here. Maybe you meant '==' instead of '='?\n"
          ]
        }
      ]
    },
    {
      "cell_type": "code",
      "source": [
        "counter = 1\n",
        "Counter = 2  #counter와는 다른 변수임 #변수는 대소문자를 구분함"
      ],
      "metadata": {
        "id": "FXaJOMIDJr6J"
      },
      "execution_count": null,
      "outputs": []
    },
    {
      "cell_type": "code",
      "source": [
        "and = 1 #변수의 잘못된 예 3 = 파이썬 예약어 사용"
      ],
      "metadata": {
        "colab": {
          "base_uri": "https://localhost:8080/",
          "height": 109
        },
        "id": "v3E4G-S3KIUy",
        "outputId": "6cfa9f41-e9c3-4d0e-8df0-124036ccab5c"
      },
      "execution_count": null,
      "outputs": [
        {
          "output_type": "error",
          "ename": "SyntaxError",
          "evalue": "invalid syntax (ipython-input-1696421978.py, line 1)",
          "traceback": [
            "\u001b[0;36m  File \u001b[0;32m\"/tmp/ipython-input-1696421978.py\"\u001b[0;36m, line \u001b[0;32m1\u001b[0m\n\u001b[0;31m    and = 1 #변수의 잘못된 예 3 = 파이썬 예약어 사용\u001b[0m\n\u001b[0m    ^\u001b[0m\n\u001b[0;31mSyntaxError\u001b[0m\u001b[0;31m:\u001b[0m invalid syntax\n"
          ]
        }
      ]
    },
    {
      "cell_type": "code",
      "source": [
        "import keyword #파이썬 예약어 확인\n",
        "keyword.kwlist"
      ],
      "metadata": {
        "colab": {
          "base_uri": "https://localhost:8080/"
        },
        "id": "JyI_R7NaKe_I",
        "outputId": "dcedb32c-3b46-4797-a30d-9f82a2ca8074"
      },
      "execution_count": null,
      "outputs": [
        {
          "output_type": "execute_result",
          "data": {
            "text/plain": [
              "['False',\n",
              " 'None',\n",
              " 'True',\n",
              " 'and',\n",
              " 'as',\n",
              " 'assert',\n",
              " 'async',\n",
              " 'await',\n",
              " 'break',\n",
              " 'class',\n",
              " 'continue',\n",
              " 'def',\n",
              " 'del',\n",
              " 'elif',\n",
              " 'else',\n",
              " 'except',\n",
              " 'finally',\n",
              " 'for',\n",
              " 'from',\n",
              " 'global',\n",
              " 'if',\n",
              " 'import',\n",
              " 'in',\n",
              " 'is',\n",
              " 'lambda',\n",
              " 'nonlocal',\n",
              " 'not',\n",
              " 'or',\n",
              " 'pass',\n",
              " 'raise',\n",
              " 'return',\n",
              " 'try',\n",
              " 'while',\n",
              " 'with',\n",
              " 'yield']"
            ]
          },
          "metadata": {},
          "execution_count": 9
        }
      ]
    },
    {
      "cell_type": "code",
      "source": [
        "abs = 1 #변수의 잘못된 예 4 = 파이썬 내장 함수 이름과 동일한 이름의 변수를 사용한뒤 변수를 함수처럼 호출하여 발생한 오류\n",
        "abs(-1)"
      ],
      "metadata": {
        "colab": {
          "base_uri": "https://localhost:8080/",
          "height": 163
        },
        "id": "AWN7t_TSKoa4",
        "outputId": "c2672937-77d0-4bfb-a4fe-6633f746aeeb"
      },
      "execution_count": null,
      "outputs": [
        {
          "output_type": "error",
          "ename": "TypeError",
          "evalue": "'int' object is not callable",
          "traceback": [
            "\u001b[0;31m---------------------------------------------------------------------------\u001b[0m",
            "\u001b[0;31mTypeError\u001b[0m                                 Traceback (most recent call last)",
            "\u001b[0;32m/tmp/ipython-input-933630893.py\u001b[0m in \u001b[0;36m<cell line: 0>\u001b[0;34m()\u001b[0m\n\u001b[1;32m      1\u001b[0m \u001b[0mabs\u001b[0m \u001b[0;34m=\u001b[0m \u001b[0;36m1\u001b[0m\u001b[0;34m\u001b[0m\u001b[0;34m\u001b[0m\u001b[0m\n\u001b[0;32m----> 2\u001b[0;31m \u001b[0mabs\u001b[0m\u001b[0;34m(\u001b[0m\u001b[0;34m-\u001b[0m\u001b[0;36m1\u001b[0m\u001b[0;34m)\u001b[0m\u001b[0;34m\u001b[0m\u001b[0;34m\u001b[0m\u001b[0m\n\u001b[0m",
            "\u001b[0;31mTypeError\u001b[0m: 'int' object is not callable"
          ]
        }
      ]
    },
    {
      "cell_type": "code",
      "source": [
        "intData = 1 #정수 자료\n",
        "pi = 3.14  #실수 자료"
      ],
      "metadata": {
        "id": "mgV1SihsM0Or"
      },
      "execution_count": null,
      "outputs": []
    },
    {
      "cell_type": "code",
      "source": [
        "flag = True #flag에 True를 할당해 참, 거짓을 나타내는 불리언(boolean) 자료로 활용"
      ],
      "metadata": {
        "id": "DK13tA_VNL-I"
      },
      "execution_count": null,
      "outputs": []
    },
    {
      "cell_type": "code",
      "source": [
        "ch = 'x' #한 개의 문자 할당\n",
        "strData = '사랑해요 파이썬!' #문자열 할당"
      ],
      "metadata": {
        "id": "BL23-YQzNgXc"
      },
      "execution_count": null,
      "outputs": []
    },
    {
      "cell_type": "code",
      "source": [
        "buffer = 1 #buffer에 정수 1을 할당, buffer는 정수 데이터임\n",
        "buffer += 2\n",
        "print(buffer)\n",
        "\n",
        "buffer = 'three' #buffer에 문자열 three를 할당, buffer는 문자열 데이터임\n",
        "print(buffer)"
      ],
      "metadata": {
        "colab": {
          "base_uri": "https://localhost:8080/"
        },
        "id": "7uEksHg3NpUe",
        "outputId": "0804758c-2ce3-4513-c3a8-cff838d8ff64"
      },
      "execution_count": null,
      "outputs": [
        {
          "output_type": "stream",
          "name": "stdout",
          "text": [
            "3\n",
            "three\n"
          ]
        }
      ]
    },
    {
      "cell_type": "code",
      "source": [
        "#Unit 5 주석\n",
        "#코드 한 라인을 주석 처리하기 위해서는 문자 '#'으로 문장을 시작하면 됨, '#'이전의 문자들은 주석 처리 되지 않음\n",
        "\n",
        "### 주석처리 예시\n",
        "### 만든 날짜 : 2025.09.09\n",
        "\n",
        "a = 1 #a에 1을 할당\n",
        "b = 5 #b에 5를 할당\n",
        "print(a+b) #a+b의 값을 출력"
      ],
      "metadata": {
        "colab": {
          "base_uri": "https://localhost:8080/"
        },
        "id": "OJJlvC_sOTIz",
        "outputId": "88a7b65e-9ff6-467a-cefd-9aa6dab3677d"
      },
      "execution_count": null,
      "outputs": [
        {
          "output_type": "stream",
          "name": "stdout",
          "text": [
            "6\n"
          ]
        }
      ]
    },
    {
      "cell_type": "code",
      "source": [
        "comment = 'Result = '\n",
        "# 삼중 따옴표로 특정 영역 주석 처리 예시\n",
        "\"\"\"a = 1\n",
        "b = 100\n",
        "print(a+b)\"\"\"\n",
        "a = 5\n",
        "b = 50\n",
        "print(comment, a+b)"
      ],
      "metadata": {
        "colab": {
          "base_uri": "https://localhost:8080/"
        },
        "id": "EzH5hgbXOzdC",
        "outputId": "1ef2c0f2-711b-4af8-f6e1-97f4bfe1a3c0"
      },
      "execution_count": null,
      "outputs": [
        {
          "output_type": "stream",
          "name": "stdout",
          "text": [
            "Result =  55\n"
          ]
        }
      ]
    }
  ]
}