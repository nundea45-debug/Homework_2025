{
  "nbformat": 4,
  "nbformat_minor": 0,
  "metadata": {
    "colab": {
      "provenance": [],
      "name": "80str-isdecimal(),isdigit(),isnumeric()_81str-join().ipynb",
      "authorship_tag": "ABX9TyO6Fq+uby8B2lUpEQ+ba4yP",
      "include_colab_link": true
    },
    "kernelspec": {
      "name": "python3",
      "display_name": "Python 3"
    },
    "language_info": {
      "name": "python"
    }
  },
  "cells": [
    {
      "cell_type": "markdown",
      "metadata": {
        "id": "view-in-github",
        "colab_type": "text"
      },
      "source": [
        "<a href=\"https://colab.research.google.com/github/nundea45-debug/Homework_2025/blob/main/80str_isdecimal()%2Cisdigit()%2Cisnumeric()_81str_join().ipynb\" target=\"_parent\"><img src=\"https://colab.research.google.com/assets/colab-badge.svg\" alt=\"Open In Colab\"/></a>"
      ]
    },
    {
      "cell_type": "code",
      "execution_count": null,
      "metadata": {
        "id": "-4fIpdbPwKYy"
      },
      "outputs": [],
      "source": [
        "# Unit 80 문자와 숫자로만 구성되었는지 확인 : str.isdecimal(), str.isdigit(), str.isnumeric()\n",
        "\n",
        "numbers = ['1004', '-1', '3.14', 'Ⅳ', '⅞', '5²', '50%']"
      ]
    },
    {
      "cell_type": "code",
      "source": [
        "for number in numbers :\n",
        "  print(f'\"{number}\" \\t--> {number.isdecimal()}')  # str.isdecimal() => str이 10진수로만 구성되었는지 체크 (int()에 의해 정수 자료로 변환 가능 문자 => True)"
      ],
      "metadata": {
        "colab": {
          "base_uri": "https://localhost:8080/"
        },
        "id": "D_WiG69Mw4v1",
        "outputId": "4e6b0997-47de-49c3-a2b8-9e0d8c32fbe7"
      },
      "execution_count": null,
      "outputs": [
        {
          "output_type": "stream",
          "name": "stdout",
          "text": [
            "\"1004\" \t--> True\n",
            "\"-1\" \t--> False\n",
            "\"3.14\" \t--> False\n",
            "\"Ⅳ\" \t--> False\n",
            "\"⅞\" \t--> False\n",
            "\"5²\" \t--> False\n",
            "\"50%\" \t--> False\n"
          ]
        }
      ]
    },
    {
      "cell_type": "code",
      "source": [
        "for number in numbers :\n",
        "  print(f'\"{number}\" \\t--> {number.isdigit()}')  # str.isdigit() => 십진수 숫자와 지수 형태의 숫자에 대해 True 리턴"
      ],
      "metadata": {
        "colab": {
          "base_uri": "https://localhost:8080/"
        },
        "id": "0BCIKaDhz7F0",
        "outputId": "59ac43d5-27db-4890-80f8-8466132dde20"
      },
      "execution_count": null,
      "outputs": [
        {
          "output_type": "stream",
          "name": "stdout",
          "text": [
            "\"1004\" \t--> True\n",
            "\"-1\" \t--> False\n",
            "\"3.14\" \t--> False\n",
            "\"Ⅳ\" \t--> False\n",
            "\"⅞\" \t--> False\n",
            "\"5²\" \t--> True\n",
            "\"50%\" \t--> False\n"
          ]
        }
      ]
    },
    {
      "cell_type": "code",
      "source": [
        "for number in numbers :\n",
        "  print(f'\"{number}\" \\t--> {number.isnumeric()}')  # str.isnumeric() => 숫자형태의 모든 문자에 대해 True 리턴 (음수 기호, 소수점, 숫자 이외의 문자 => False)"
      ],
      "metadata": {
        "colab": {
          "base_uri": "https://localhost:8080/"
        },
        "id": "p78zHErR0do2",
        "outputId": "4a28ead7-8068-414b-fd18-6ca2ebabf013"
      },
      "execution_count": null,
      "outputs": [
        {
          "output_type": "stream",
          "name": "stdout",
          "text": [
            "\"1004\" \t--> True\n",
            "\"-1\" \t--> False\n",
            "\"3.14\" \t--> False\n",
            "\"Ⅳ\" \t--> True\n",
            "\"⅞\" \t--> True\n",
            "\"5²\" \t--> True\n",
            "\"50%\" \t--> False\n"
          ]
        }
      ]
    },
    {
      "cell_type": "code",
      "source": [
        "# Unit 81 문자열로 리스트 요소 연결하기 : str,join()\n",
        "\n",
        "profile = ['홍길동', '남자', '18세', '도적', '초능력자']\n",
        "logData = ';'.join(profile)  # => profile의 모든 요소를 ;를 연결해 새로운 문자열 생성\n",
        "print(logData)"
      ],
      "metadata": {
        "colab": {
          "base_uri": "https://localhost:8080/"
        },
        "id": "TMJz9NlY1_ZR",
        "outputId": "c0173e37-5c49-44ba-a136-d690dd1e7de9"
      },
      "execution_count": null,
      "outputs": [
        {
          "output_type": "stream",
          "name": "stdout",
          "text": [
            "홍길동;남자;18세;도적;초능력자\n"
          ]
        }
      ]
    },
    {
      "cell_type": "code",
      "source": [
        "profile = ['홍길동', '남자', 18, '도적', '초능력자']  # list에 문자열이 아닌 요소가 있음 => TypeError 발생\n",
        "logData = ';'.join(profile)"
      ],
      "metadata": {
        "colab": {
          "base_uri": "https://localhost:8080/",
          "height": 163
        },
        "id": "w7EOBB2q2aRn",
        "outputId": "718869b9-fded-4202-9817-5c812cc8102f"
      },
      "execution_count": null,
      "outputs": [
        {
          "output_type": "error",
          "ename": "TypeError",
          "evalue": "sequence item 2: expected str instance, int found",
          "traceback": [
            "\u001b[0;31m---------------------------------------------------------------------------\u001b[0m",
            "\u001b[0;31mTypeError\u001b[0m                                 Traceback (most recent call last)",
            "\u001b[0;32m/tmp/ipython-input-2042644159.py\u001b[0m in \u001b[0;36m<cell line: 0>\u001b[0;34m()\u001b[0m\n\u001b[1;32m      1\u001b[0m \u001b[0mprofile\u001b[0m \u001b[0;34m=\u001b[0m \u001b[0;34m[\u001b[0m\u001b[0;34m'홍길동'\u001b[0m\u001b[0;34m,\u001b[0m \u001b[0;34m'남자'\u001b[0m\u001b[0;34m,\u001b[0m \u001b[0;36m18\u001b[0m\u001b[0;34m,\u001b[0m \u001b[0;34m'도적'\u001b[0m\u001b[0;34m,\u001b[0m \u001b[0;34m'초능력자'\u001b[0m\u001b[0;34m]\u001b[0m  \u001b[0;31m# list에 문자열이 아닌 요소가 있음 => TypeError 발생\u001b[0m\u001b[0;34m\u001b[0m\u001b[0;34m\u001b[0m\u001b[0m\n\u001b[0;32m----> 2\u001b[0;31m \u001b[0mlogData\u001b[0m \u001b[0;34m=\u001b[0m \u001b[0;34m';'\u001b[0m\u001b[0;34m.\u001b[0m\u001b[0mjoin\u001b[0m\u001b[0;34m(\u001b[0m\u001b[0mprofile\u001b[0m\u001b[0;34m)\u001b[0m\u001b[0;34m\u001b[0m\u001b[0;34m\u001b[0m\u001b[0m\n\u001b[0m",
            "\u001b[0;31mTypeError\u001b[0m: sequence item 2: expected str instance, int found"
          ]
        }
      ]
    }
  ]
}