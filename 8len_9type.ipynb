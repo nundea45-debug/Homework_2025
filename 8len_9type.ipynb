{
  "nbformat": 4,
  "nbformat_minor": 0,
  "metadata": {
    "colab": {
      "provenance": [],
      "authorship_tag": "ABX9TyOfH+aNtkFGYKiKEnFua92a",
      "include_colab_link": true
    },
    "kernelspec": {
      "name": "python3",
      "display_name": "Python 3"
    },
    "language_info": {
      "name": "python"
    }
  },
  "cells": [
    {
      "cell_type": "markdown",
      "metadata": {
        "id": "view-in-github",
        "colab_type": "text"
      },
      "source": [
        "<a href=\"https://colab.research.google.com/github/nundea45-debug/Homework_2025/blob/main/8len_9type.ipynb\" target=\"_parent\"><img src=\"https://colab.research.google.com/assets/colab-badge.svg\" alt=\"Open In Colab\"/></a>"
      ]
    },
    {
      "cell_type": "code",
      "execution_count": null,
      "metadata": {
        "colab": {
          "base_uri": "https://localhost:8080/"
        },
        "id": "1jyBUx9LyQga",
        "outputId": "f70e6d4a-462d-4f63-d49e-469ca17a59c4"
      },
      "outputs": [
        {
          "output_type": "stream",
          "name": "stdout",
          "text": [
            "14\n"
          ]
        }
      ],
      "source": [
        "# Unit 8 자료형 크기 : len()\n",
        "\n",
        "strData = 'I love python!'\n",
        "print(len(strData))  # 문자열의 길이 출력"
      ]
    },
    {
      "cell_type": "code",
      "source": [
        "listData = [1,2,3,4,5]\n",
        "print(len(listData))  # 리스트 구성 요소의 개수 출력"
      ],
      "metadata": {
        "colab": {
          "base_uri": "https://localhost:8080/"
        },
        "id": "2yETnsQS7Yg5",
        "outputId": "e1f1b420-122a-4276-e18c-20e8ad8594cd"
      },
      "execution_count": null,
      "outputs": [
        {
          "output_type": "stream",
          "name": "stdout",
          "text": [
            "5\n"
          ]
        }
      ]
    },
    {
      "cell_type": "code",
      "source": [
        "tupleData = ('a','bc','def')\n",
        "print(len(tupleData))  # 튜플 구성 요소의 개수 출력"
      ],
      "metadata": {
        "colab": {
          "base_uri": "https://localhost:8080/"
        },
        "id": "hQFoGXiW7mBG",
        "outputId": "70374209-de8e-4abf-ff40-e086105eb68d"
      },
      "execution_count": null,
      "outputs": [
        {
          "output_type": "stream",
          "name": "stdout",
          "text": [
            "3\n"
          ]
        }
      ]
    },
    {
      "cell_type": "code",
      "source": [
        "setData = {'cup', 'shoes', 'shirts', 'pants'}\n",
        "print(len(setData))  # set 자료 구성 요소의 개수 출력"
      ],
      "metadata": {
        "colab": {
          "base_uri": "https://localhost:8080/"
        },
        "id": "EXwFd6Du73y6",
        "outputId": "7ff88dfb-268f-4800-8462-87811340e734"
      },
      "execution_count": null,
      "outputs": [
        {
          "output_type": "stream",
          "name": "stdout",
          "text": [
            "4\n"
          ]
        }
      ]
    },
    {
      "cell_type": "code",
      "source": [
        "dictData = {1:True, 0:False}\n",
        "print(len(dictData))  # 딕셔너리 구성 요소 (키 : 값 쌍)의 개수 출력"
      ],
      "metadata": {
        "colab": {
          "base_uri": "https://localhost:8080/"
        },
        "id": "2NzzDRyo8IS6",
        "outputId": "6c4ff73b-55b9-4808-f199-67964eb87171"
      },
      "execution_count": null,
      "outputs": [
        {
          "output_type": "stream",
          "name": "stdout",
          "text": [
            "2\n"
          ]
        }
      ]
    },
    {
      "cell_type": "code",
      "source": [
        "# Unit 9 자료형 확인 : type()\n",
        "\n",
        "intData = 1\n",
        "print(type(intData))  # 객체의 자료형 확인, int = 정수, floar = 실수, complex = 복소수"
      ],
      "metadata": {
        "colab": {
          "base_uri": "https://localhost:8080/"
        },
        "id": "93UVL3_5EREo",
        "outputId": "0acc7283-5906-419e-cb47-a5175d4f6091"
      },
      "execution_count": null,
      "outputs": [
        {
          "output_type": "stream",
          "name": "stdout",
          "text": [
            "<class 'int'>\n"
          ]
        }
      ]
    },
    {
      "cell_type": "code",
      "source": [
        "strData = 'I love python!'\n",
        "print(type(strData))  # 객체의 자료형 확인, str = 문자"
      ],
      "metadata": {
        "colab": {
          "base_uri": "https://localhost:8080/"
        },
        "id": "vrPDdCK_Es7g",
        "outputId": "e0868eda-74df-432f-871f-09242eb3df1f"
      },
      "execution_count": null,
      "outputs": [
        {
          "output_type": "stream",
          "name": "stdout",
          "text": [
            "<class 'str'>\n"
          ]
        }
      ]
    }
  ]
}