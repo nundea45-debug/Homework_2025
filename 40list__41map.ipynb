{
  "nbformat": 4,
  "nbformat_minor": 0,
  "metadata": {
    "colab": {
      "provenance": [],
      "authorship_tag": "ABX9TyNb9YPpfr2Gc8qvqEVRYEBU",
      "include_colab_link": true
    },
    "kernelspec": {
      "name": "python3",
      "display_name": "Python 3"
    },
    "language_info": {
      "name": "python"
    }
  },
  "cells": [
    {
      "cell_type": "markdown",
      "metadata": {
        "id": "view-in-github",
        "colab_type": "text"
      },
      "source": [
        "<a href=\"https://colab.research.google.com/github/nundea45-debug/Homework_2025/blob/main/40list__41map.ipynb\" target=\"_parent\"><img src=\"https://colab.research.google.com/assets/colab-badge.svg\" alt=\"Open In Colab\"/></a>"
      ]
    },
    {
      "cell_type": "code",
      "execution_count": null,
      "metadata": {
        "colab": {
          "base_uri": "https://localhost:8080/"
        },
        "id": "ySUd1fWx9Q3v",
        "outputId": "0e91e85f-137e-48da-efa7-2b0c1c72d3dd"
      },
      "outputs": [
        {
          "output_type": "stream",
          "name": "stdout",
          "text": [
            "[1, 2, 3, 4, 5]\n"
          ]
        }
      ],
      "source": [
        "# Unit 40 반복 가능 자료를 리스트로 변환 : list()\n",
        "\n",
        "tupleData = (1,2,3,4,5)\n",
        "print(list(tupleData))   # list(iterable) => 반복 가능 자료 iterable을 리스트로 변환"
      ]
    },
    {
      "cell_type": "code",
      "source": [
        "strData = 'I Love python!'\n",
        "print(list(strData))  # 문자열 리스트 변환"
      ],
      "metadata": {
        "colab": {
          "base_uri": "https://localhost:8080/"
        },
        "id": "PbqXAsNONzKw",
        "outputId": "2aed5ff6-de63-4716-ee52-ac60932302a8"
      },
      "execution_count": null,
      "outputs": [
        {
          "output_type": "stream",
          "name": "stdout",
          "text": [
            "['I', ' ', 'L', 'o', 'v', 'e', ' ', 'p', 'y', 't', 'h', 'o', 'n', '!']\n"
          ]
        }
      ]
    },
    {
      "cell_type": "code",
      "source": [
        "def MyRange(n) :\n",
        "  current = 0\n",
        "  while current < n :\n",
        "    yield current\n",
        "    current += 1\n",
        "\n",
        "intList = MyRange(5)\n",
        "print(list(intList))  # 제너레이터 리스트 변환"
      ],
      "metadata": {
        "colab": {
          "base_uri": "https://localhost:8080/"
        },
        "id": "xn1GvQNMN-dl",
        "outputId": "a16fc7df-9233-41c1-9f87-5ca288dfeaa1"
      },
      "execution_count": null,
      "outputs": [
        {
          "output_type": "stream",
          "name": "stdout",
          "text": [
            "[0, 1, 2, 3, 4]\n"
          ]
        }
      ]
    },
    {
      "cell_type": "code",
      "source": [
        "# Unit 41 모든 요소들에 대해 함수 리턴값 얻기 :  map()\n",
        "\n",
        "# map() : 두 개의 인자를 입력받음 -> 첫 번째 인자 => 호출할 함수 / 두 번째 인자 => 반복 가능 자료\n",
        "map(func, iterable) # iterable의 모든 요소를 func의 인자로 차례로 전달해 처리한 각각의 결과들을 이터레이터로 리턴"
      ],
      "metadata": {
        "id": "4KrVysGdOsU_"
      },
      "execution_count": null,
      "outputs": []
    },
    {
      "cell_type": "code",
      "source": [
        "def myfunc(x) :\n",
        "  return x ** 2\n",
        "\n",
        "resultrs = map(myfunc, [0,1,2,3])\n",
        "print(list(resultrs))"
      ],
      "metadata": {
        "colab": {
          "base_uri": "https://localhost:8080/"
        },
        "id": "qi8pL_nQOs0e",
        "outputId": "3ec1007e-e6f3-4e0c-db50-955a780c5f4d"
      },
      "execution_count": null,
      "outputs": [
        {
          "output_type": "stream",
          "name": "stdout",
          "text": [
            "[0, 1, 4, 9]\n"
          ]
        }
      ]
    },
    {
      "cell_type": "code",
      "source": [
        "results = map(lambda x : x ** 2, range(4))\n",
        "print(list(results))"
      ],
      "metadata": {
        "colab": {
          "base_uri": "https://localhost:8080/"
        },
        "id": "9kZgu9_1Qhv8",
        "outputId": "6eeaab24-38c9-4d81-fd49-b1e769a62f18"
      },
      "execution_count": null,
      "outputs": [
        {
          "output_type": "stream",
          "name": "stdout",
          "text": [
            "[0, 1, 4, 9]\n"
          ]
        }
      ]
    },
    {
      "cell_type": "code",
      "source": [
        "x = [1,2,3,4,5]\n",
        "y = [10,9,8,7,6]\n",
        "ret = map(lambda x, y : x ** 2 + y, x, y)\n",
        "print(list(ret))"
      ],
      "metadata": {
        "colab": {
          "base_uri": "https://localhost:8080/"
        },
        "id": "agsBIc9wQrxZ",
        "outputId": "a718b1c1-16f1-4099-dce0-63d7be0dbb0e"
      },
      "execution_count": null,
      "outputs": [
        {
          "output_type": "stream",
          "name": "stdout",
          "text": [
            "[11, 13, 17, 23, 31]\n"
          ]
        }
      ]
    }
  ]
}