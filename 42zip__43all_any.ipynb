{
  "nbformat": 4,
  "nbformat_minor": 0,
  "metadata": {
    "colab": {
      "provenance": [],
      "authorship_tag": "ABX9TyPrUMWyCxCLjZ/O5okWD1Jh",
      "include_colab_link": true
    },
    "kernelspec": {
      "name": "python3",
      "display_name": "Python 3"
    },
    "language_info": {
      "name": "python"
    }
  },
  "cells": [
    {
      "cell_type": "markdown",
      "metadata": {
        "id": "view-in-github",
        "colab_type": "text"
      },
      "source": [
        "<a href=\"https://colab.research.google.com/github/nundea45-debug/Homework_2025/blob/main/42zip__43all_any.ipynb\" target=\"_parent\"><img src=\"https://colab.research.google.com/assets/colab-badge.svg\" alt=\"Open In Colab\"/></a>"
      ]
    },
    {
      "cell_type": "code",
      "source": [
        "# Unit 42 인덱스가 같은 요소끼리 짝짓기 : zip()\n",
        "\n",
        "zip(iterable, iterable2, ...)  # zip() => 두 개 이상의 반복 가능 자료를 인자로 입력받고 같으 인덱스의 요소들끼리 묶은 튜플을 요소로하는 이터레이터를 리턴함"
      ],
      "metadata": {
        "id": "7Rxz2_Psbhxt"
      },
      "execution_count": null,
      "outputs": []
    },
    {
      "cell_type": "code",
      "source": [
        "male = ['슈퍼맨', '심봉사', '로미오', '이몽룡', '마루치']\n",
        "female = ['원더우먼', '뺑덕어멈', '줄리엣', '성춘향', '아라치']\n",
        "couples = zip(male, female)  # male, female의 같은 인덱스의 요소들을 묶은 튜플을 요소로 하는 이터레이터를 리턴\n",
        "for couple in couples :\n",
        "  print(couple)"
      ],
      "metadata": {
        "colab": {
          "base_uri": "https://localhost:8080/"
        },
        "id": "D4IX3OmGbiO6",
        "outputId": "ac5cfb02-4d37-4ed4-f68f-52a2d045c0f2"
      },
      "execution_count": null,
      "outputs": [
        {
          "output_type": "stream",
          "name": "stdout",
          "text": [
            "('슈퍼맨', '원더우먼')\n",
            "('심봉사', '뺑덕어멈')\n",
            "('로미오', '줄리엣')\n",
            "('이몽룡', '성춘향')\n",
            "('마루치', '아라치')\n"
          ]
        }
      ]
    },
    {
      "cell_type": "code",
      "source": [
        "male = ['슈퍼맨', '심봉사', '로미오']\n",
        "female = ['원더우먼', '뺑덕어멈', '줄리엣', '성춘향', '아라치']\n",
        "for couple in zip(male, female) :\n",
        "  print(couple)  # 반복 가능 자료의 크기가 다름 -> 크기가 작은 자료를 기준으로 짝을 생성"
      ],
      "metadata": {
        "colab": {
          "base_uri": "https://localhost:8080/"
        },
        "id": "G_I4-4EecUED",
        "outputId": "bc3f55ee-5e34-49fb-fe8a-8feaa9c4563a"
      },
      "execution_count": null,
      "outputs": [
        {
          "output_type": "stream",
          "name": "stdout",
          "text": [
            "('슈퍼맨', '원더우먼')\n",
            "('심봉사', '뺑덕어멈')\n",
            "('로미오', '줄리엣')\n"
          ]
        }
      ]
    },
    {
      "cell_type": "code",
      "source": [
        "male = ['슈퍼맨', '심봉사', '로미오']\n",
        "female = ['원더우먼', '뺑덕어멈', '줄리엣', '성춘향', '아라치']\n",
        "for couple in zip(male, female, strict = True) :  # strict = True를 추가해 자료의 크기가 다를 시 ValueError가 발생하게 할 수 있음 ( 반복 가능 자료의 크기가 반드시 같아야 할 경우)\n",
        "  print(couple)"
      ],
      "metadata": {
        "colab": {
          "base_uri": "https://localhost:8080/",
          "height": 252
        },
        "id": "ljxOoS4EdumR",
        "outputId": "84ffd36d-cfa1-4e15-fe13-31930655560e"
      },
      "execution_count": null,
      "outputs": [
        {
          "output_type": "stream",
          "name": "stdout",
          "text": [
            "('슈퍼맨', '원더우먼')\n",
            "('심봉사', '뺑덕어멈')\n",
            "('로미오', '줄리엣')\n"
          ]
        },
        {
          "output_type": "error",
          "ename": "ValueError",
          "evalue": "zip() argument 2 is longer than argument 1",
          "traceback": [
            "\u001b[0;31m---------------------------------------------------------------------------\u001b[0m",
            "\u001b[0;31mValueError\u001b[0m                                Traceback (most recent call last)",
            "\u001b[0;32m/tmp/ipython-input-1072851037.py\u001b[0m in \u001b[0;36m<cell line: 0>\u001b[0;34m()\u001b[0m\n\u001b[1;32m      1\u001b[0m \u001b[0mmale\u001b[0m \u001b[0;34m=\u001b[0m \u001b[0;34m[\u001b[0m\u001b[0;34m'슈퍼맨'\u001b[0m\u001b[0;34m,\u001b[0m \u001b[0;34m'심봉사'\u001b[0m\u001b[0;34m,\u001b[0m \u001b[0;34m'로미오'\u001b[0m\u001b[0;34m]\u001b[0m\u001b[0;34m\u001b[0m\u001b[0;34m\u001b[0m\u001b[0m\n\u001b[1;32m      2\u001b[0m \u001b[0mfemale\u001b[0m \u001b[0;34m=\u001b[0m \u001b[0;34m[\u001b[0m\u001b[0;34m'원더우먼'\u001b[0m\u001b[0;34m,\u001b[0m \u001b[0;34m'뺑덕어멈'\u001b[0m\u001b[0;34m,\u001b[0m \u001b[0;34m'줄리엣'\u001b[0m\u001b[0;34m,\u001b[0m \u001b[0;34m'성춘향'\u001b[0m\u001b[0;34m,\u001b[0m \u001b[0;34m'아라치'\u001b[0m\u001b[0;34m]\u001b[0m\u001b[0;34m\u001b[0m\u001b[0;34m\u001b[0m\u001b[0m\n\u001b[0;32m----> 3\u001b[0;31m \u001b[0;32mfor\u001b[0m \u001b[0mcouple\u001b[0m \u001b[0;32min\u001b[0m \u001b[0mzip\u001b[0m\u001b[0;34m(\u001b[0m\u001b[0mmale\u001b[0m\u001b[0;34m,\u001b[0m \u001b[0mfemale\u001b[0m\u001b[0;34m,\u001b[0m \u001b[0mstrict\u001b[0m \u001b[0;34m=\u001b[0m \u001b[0;32mTrue\u001b[0m\u001b[0;34m)\u001b[0m \u001b[0;34m:\u001b[0m  \u001b[0;31m# strict = True를 추가해 자료의 크기가 다를 시 ValueError가 발생하게 할 수 있음 ( 반복 가능 자료의 크기가 반드시 같아야 할 경우)\u001b[0m\u001b[0;34m\u001b[0m\u001b[0;34m\u001b[0m\u001b[0m\n\u001b[0m\u001b[1;32m      4\u001b[0m   \u001b[0mprint\u001b[0m\u001b[0;34m(\u001b[0m\u001b[0mcouple\u001b[0m\u001b[0;34m)\u001b[0m\u001b[0;34m\u001b[0m\u001b[0;34m\u001b[0m\u001b[0m\n",
            "\u001b[0;31mValueError\u001b[0m: zip() argument 2 is longer than argument 1"
          ]
        }
      ]
    },
    {
      "cell_type": "code",
      "source": [
        "# Unit 43 모든 요소가 참인지 확인하기 : all(), any()\n",
        "\n",
        "# 숫자 0, 빈 문자열 ' ', \" \", 빈 리스트 [], 빈 튜플 (), 빈 딕셔너리 {}, None => 거짓 자료들"
      ],
      "metadata": {
        "id": "F_DzW5sZeOzK"
      },
      "execution_count": null,
      "outputs": []
    },
    {
      "cell_type": "code",
      "source": [
        "listData = [0,1,2,3,4]\n",
        "print(all(listData))  # False (listData에 포함된 0 때문)\n",
        "print(any(listData))  # True (listData의 요소 중 0을 제외하면 모두 참인 값이기 때문)"
      ],
      "metadata": {
        "colab": {
          "base_uri": "https://localhost:8080/"
        },
        "id": "e2hkfp8neona",
        "outputId": "940e0bca-c65c-4b4e-a2bb-ab6049e726d6"
      },
      "execution_count": null,
      "outputs": [
        {
          "output_type": "stream",
          "name": "stdout",
          "text": [
            "False\n",
            "True\n"
          ]
        }
      ]
    },
    {
      "cell_type": "code",
      "source": [
        "tupleData = (0, False, '', [], (), {}, None)\n",
        "print(all(tupleData))  # all(tupleData), any(tupleData) 모두 False (tupleData의 모든 요소가 거짓이기 때문)\n",
        "print(any(tupleData))"
      ],
      "metadata": {
        "colab": {
          "base_uri": "https://localhost:8080/"
        },
        "id": "UmyATGeEfFCJ",
        "outputId": "3f05ca9b-592a-44ff-96ab-876a9971fd62"
      },
      "execution_count": null,
      "outputs": [
        {
          "output_type": "stream",
          "name": "stdout",
          "text": [
            "False\n",
            "False\n"
          ]
        }
      ]
    }
  ]
}