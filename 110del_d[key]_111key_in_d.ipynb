{
  "nbformat": 4,
  "nbformat_minor": 0,
  "metadata": {
    "colab": {
      "provenance": [],
      "name": "110del-d[key]_111key-in-d.ipynb",
      "authorship_tag": "ABX9TyM/zWs1bL/bvE1cSGue+7Tg",
      "include_colab_link": true
    },
    "kernelspec": {
      "name": "python3",
      "display_name": "Python 3"
    },
    "language_info": {
      "name": "python"
    }
  },
  "cells": [
    {
      "cell_type": "markdown",
      "metadata": {
        "id": "view-in-github",
        "colab_type": "text"
      },
      "source": [
        "<a href=\"https://colab.research.google.com/github/nundea45-debug/Homework_2025/blob/main/110del_d%5Bkey%5D_111key_in_d.ipynb\" target=\"_parent\"><img src=\"https://colab.research.google.com/assets/colab-badge.svg\" alt=\"Open In Colab\"/></a>"
      ]
    },
    {
      "cell_type": "code",
      "execution_count": null,
      "metadata": {
        "id": "C9ItN6Ks49yu"
      },
      "outputs": [],
      "source": [
        "# Unit 110 딕셔너리의 특정 요소 제거하기 : del d[key]\n",
        "\n",
        "# del d[key] => 딕셔너리 d에서 키가 key인 요소를 제거"
      ]
    },
    {
      "cell_type": "code",
      "source": [
        "names = {'Mary':10999, 'Cris':2111, 'Aimy':9778, 'Tom':20245}\n",
        "del names['Mary']  # names에서 키가 'Mary'인 요소를 제거\n",
        "print(names)"
      ],
      "metadata": {
        "colab": {
          "base_uri": "https://localhost:8080/"
        },
        "id": "xez9gv0_56lO",
        "outputId": "828eed2f-ca6c-4bc3-c4d0-fec4a30e82d9"
      },
      "execution_count": null,
      "outputs": [
        {
          "output_type": "stream",
          "name": "stdout",
          "text": [
            "{'Cris': 2111, 'Aimy': 9778, 'Tom': 20245}\n"
          ]
        }
      ]
    },
    {
      "cell_type": "code",
      "source": [
        "# del d[key]에서 key가 딕셔너리의 d의 키로 존재 X => KeyError 오류 발생\n",
        "del names['Sams']"
      ],
      "metadata": {
        "colab": {
          "base_uri": "https://localhost:8080/",
          "height": 163
        },
        "id": "aQ2h-IBv6RId",
        "outputId": "203dd0b3-77f0-484c-aa2d-555366b10d49"
      },
      "execution_count": null,
      "outputs": [
        {
          "output_type": "error",
          "ename": "KeyError",
          "evalue": "'Sams'",
          "traceback": [
            "\u001b[0;31m---------------------------------------------------------------------------\u001b[0m",
            "\u001b[0;31mKeyError\u001b[0m                                  Traceback (most recent call last)",
            "\u001b[0;32m/tmp/ipython-input-31022830.py\u001b[0m in \u001b[0;36m<cell line: 0>\u001b[0;34m()\u001b[0m\n\u001b[1;32m      1\u001b[0m \u001b[0;31m# del d[key]에서 key가 딕셔너리의 d의 키로 존재 X => KeyError 오류 발생\u001b[0m\u001b[0;34m\u001b[0m\u001b[0;34m\u001b[0m\u001b[0m\n\u001b[0;32m----> 2\u001b[0;31m \u001b[0;32mdel\u001b[0m \u001b[0mnames\u001b[0m\u001b[0;34m[\u001b[0m\u001b[0;34m'Sams'\u001b[0m\u001b[0;34m]\u001b[0m\u001b[0;34m\u001b[0m\u001b[0;34m\u001b[0m\u001b[0m\n\u001b[0m",
            "\u001b[0;31mKeyError\u001b[0m: 'Sams'"
          ]
        }
      ]
    },
    {
      "cell_type": "code",
      "source": [
        "# Unit 111 딕셔너리에 특정 키가 존재하는지 확인 : key in d\n",
        "\n",
        "# key in d => 어떤 값이 딕셔너리의 키로 존재하는지 확인 (key가 딕셔너리 d의 키로 존재 => True)"
      ],
      "metadata": {
        "id": "nHxCuWO16eYJ"
      },
      "execution_count": null,
      "outputs": []
    },
    {
      "cell_type": "code",
      "source": [
        "names = {'Mary':10999, 'Cris':2111, 'Aimy':9778, 'Tom':20245}\n",
        "name = input('이름을 입력하세요')\n",
        "if name in names :  # 사용자로부터 입력받은 name이 키로 존재할 시 => True, 다음 라인 수행\n",
        "  print(f'이름이 <{name}>인 출생하수는 <{names[name]:,d}>명입니다.')\n",
        "else :  # 사용자의 입력이 name의 키로 존재 X => False, 6라인 수행\n",
        "  print(f'딕셔너리 names에 <{name}>인 이름이 존재하지 않습니다.')"
      ],
      "metadata": {
        "colab": {
          "base_uri": "https://localhost:8080/"
        },
        "id": "8LO26fSl6wyk",
        "outputId": "8f211747-9419-4200-b614-c60de0e35ad6"
      },
      "execution_count": null,
      "outputs": [
        {
          "output_type": "stream",
          "name": "stdout",
          "text": [
            "이름을 입력하세요Sams\n",
            "딕셔너리 names에 <Sams>인 이름이 존재하지 않습니다.\n"
          ]
        }
      ]
    }
  ]
}