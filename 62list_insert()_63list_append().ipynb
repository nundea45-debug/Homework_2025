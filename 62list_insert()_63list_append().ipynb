{
  "nbformat": 4,
  "nbformat_minor": 0,
  "metadata": {
    "colab": {
      "provenance": [],
      "name": "62list-insert()_63list-append().ipynb",
      "authorship_tag": "ABX9TyO0707RgFJXLQWRAZovsJKy",
      "include_colab_link": true
    },
    "kernelspec": {
      "name": "python3",
      "display_name": "Python 3"
    },
    "language_info": {
      "name": "python"
    }
  },
  "cells": [
    {
      "cell_type": "markdown",
      "metadata": {
        "id": "view-in-github",
        "colab_type": "text"
      },
      "source": [
        "<a href=\"https://colab.research.google.com/github/nundea45-debug/Homework_2025/blob/main/62list_insert()_63list_append().ipynb\" target=\"_parent\"><img src=\"https://colab.research.google.com/assets/colab-badge.svg\" alt=\"Open In Colab\"/></a>"
      ]
    },
    {
      "cell_type": "code",
      "execution_count": null,
      "metadata": {
        "id": "p1jlZX8hqWtz"
      },
      "outputs": [],
      "source": [
        "# Unit 62 리스트에 요소 삽입하기 : list.insert()\n",
        "\n",
        "# list.insert(index, trarget) => list의 인덱스 index인요소로 target을 삽입"
      ]
    },
    {
      "cell_type": "code",
      "source": [
        "outer_planets = ['목성', '천왕성', '해왕성']\n",
        "pos = outer_planets.index('천왕성')  # outer_planets에서 '천왕성'의 인덱스를 찾음\n",
        "outer_planets.insert(pos, '토성')    # insert()를 통해 해당 인덱스에 '토성'을 삽입\n",
        "print(outer_planets)"
      ],
      "metadata": {
        "colab": {
          "base_uri": "https://localhost:8080/"
        },
        "id": "olS3NmxWq2fD",
        "outputId": "400efc3c-55d2-4555-d5b9-f8cca35df4ab"
      },
      "execution_count": null,
      "outputs": [
        {
          "output_type": "stream",
          "name": "stdout",
          "text": [
            "['목성', '토성', '천왕성', '해왕성']\n"
          ]
        }
      ]
    },
    {
      "cell_type": "code",
      "source": [
        "outer_planets.insert(-1, '명왕성') # insert()에서 삽입할 위치를 음수로 지정한 예 (ex. -1은 뒤에서 첫번째 위치에 삽입하라는 의미)\n",
        "print(outer_planets)"
      ],
      "metadata": {
        "colab": {
          "base_uri": "https://localhost:8080/"
        },
        "id": "w-qvU31GsLqR",
        "outputId": "531e55f5-c782-43d0-db07-d654213b2cd5"
      },
      "execution_count": null,
      "outputs": [
        {
          "output_type": "stream",
          "name": "stdout",
          "text": [
            "['목성', '토성', '천왕성', '명왕성', '해왕성']\n"
          ]
        }
      ]
    },
    {
      "cell_type": "code",
      "source": [
        "outer_planets = ['목성', '토성', '천왕성', '해왕성']\n",
        "outer_planets.insert(len(outer_planets), '명왕성')  # 리스트의 마지막에 요소 삽입 (보통은 list.append() 사용)\n",
        "print(outer_planets)"
      ],
      "metadata": {
        "colab": {
          "base_uri": "https://localhost:8080/"
        },
        "id": "_L4Ouv27sYL-",
        "outputId": "7cd42778-9db4-491e-d80a-2ce8789e77f2"
      },
      "execution_count": null,
      "outputs": [
        {
          "output_type": "stream",
          "name": "stdout",
          "text": [
            "['목성', '토성', '천왕성', '해왕성', '명왕성']\n"
          ]
        }
      ]
    },
    {
      "cell_type": "code",
      "source": [
        "# Unit 63 리스트 맨 마지막에 요소 추가하기 : list.append()\n",
        "\n",
        "# list.append(target) => list의 맨 마지막 요소로 target을 추가"
      ],
      "metadata": {
        "id": "p3hxGVB2suYo"
      },
      "execution_count": null,
      "outputs": []
    },
    {
      "cell_type": "code",
      "source": [
        "fileList = []\n",
        "for i in range(3) :\n",
        "  fname = input(f'파일 이름을 입력하세요[{i+1}/3] :')  # 사용자 입력을 총 세 번 받음\n",
        "  if fname not in fileList :  # -> 입력된 내용을 무조건 추가할 시 삭제 (if문)\n",
        "    fileList.append(fname)  # 각 입력된 내용을 fileList의 마지막 요소로 추가 (단, 추가하려는 내용이 fileList의 요소가 아닌 경우에만 추가됨)\n",
        "  print(f'현재 저장된 파일들 : {fileList}')"
      ],
      "metadata": {
        "colab": {
          "base_uri": "https://localhost:8080/"
        },
        "id": "jmvw5TRus7LN",
        "outputId": "9ee57fe8-399c-41a5-9979-467f0dcc49f7"
      },
      "execution_count": null,
      "outputs": [
        {
          "output_type": "stream",
          "name": "stdout",
          "text": [
            "파일 이름을 입력하세요[1/3] :a.jpg\n",
            "현재 저장된 파일들 : ['a.jpg']\n",
            "파일 이름을 입력하세요[2/3] :b.jpg\n",
            "현재 저장된 파일들 : ['a.jpg', 'b.jpg']\n",
            "파일 이름을 입력하세요[3/3] :b.jpg\n",
            "현재 저장된 파일들 : ['a.jpg', 'b.jpg']\n"
          ]
        }
      ]
    }
  ]
}