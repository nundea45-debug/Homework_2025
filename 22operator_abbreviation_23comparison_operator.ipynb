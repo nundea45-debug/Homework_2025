{
  "nbformat": 4,
  "nbformat_minor": 0,
  "metadata": {
    "colab": {
      "provenance": [],
      "authorship_tag": "ABX9TyMo6+k45Q0sBtalaUNQ2plD",
      "include_colab_link": true
    },
    "kernelspec": {
      "name": "python3",
      "display_name": "Python 3"
    },
    "language_info": {
      "name": "python"
    }
  },
  "cells": [
    {
      "cell_type": "markdown",
      "metadata": {
        "id": "view-in-github",
        "colab_type": "text"
      },
      "source": [
        "<a href=\"https://colab.research.google.com/github/nundea45-debug/Homework_2025/blob/main/22operator_abbreviation_23comparison_operator.ipynb\" target=\"_parent\"><img src=\"https://colab.research.google.com/assets/colab-badge.svg\" alt=\"Open In Colab\"/></a>"
      ]
    },
    {
      "cell_type": "code",
      "execution_count": null,
      "metadata": {
        "id": "0_ADXTwGyIPQ"
      },
      "outputs": [],
      "source": [
        "# Unit 22 연산자 축약 (operator abbreviation) : +=, -=, *=, /=\n",
        "\n",
        "a = a + 1  # 변수 a에 1을 더하고 그 결과를다시 변수 a에 할당하는 코드\n",
        "a += 1  # 위의 연산자 축약"
      ]
    },
    {
      "cell_type": "code",
      "source": [
        "a -= 1  # a에서 1을 뺀 결과를 a에 할당\n",
        "a *= 2  # a와 2를 곱한 결과를 a에 할당\n",
        "a /= 2  # a에서 2를 나눈결과를 a에 할당"
      ],
      "metadata": {
        "colab": {
          "base_uri": "https://localhost:8080/",
          "height": 180
        },
        "id": "8m6Bdkd8Ia5Y",
        "outputId": "b12cae92-5d1e-4a63-cef5-46cda6387b80"
      },
      "execution_count": null,
      "outputs": [
        {
          "output_type": "error",
          "ename": "NameError",
          "evalue": "name 'a' is not defined",
          "traceback": [
            "\u001b[0;31m---------------------------------------------------------------------------\u001b[0m",
            "\u001b[0;31mNameError\u001b[0m                                 Traceback (most recent call last)",
            "\u001b[0;32m/tmp/ipython-input-2665681128.py\u001b[0m in \u001b[0;36m<cell line: 0>\u001b[0;34m()\u001b[0m\n\u001b[0;32m----> 1\u001b[0;31m \u001b[0ma\u001b[0m \u001b[0;34m-=\u001b[0m \u001b[0;36m1\u001b[0m  \u001b[0;31m# a에서 1을 뺀 결과를 a에 할당\u001b[0m\u001b[0;34m\u001b[0m\u001b[0;34m\u001b[0m\u001b[0m\n\u001b[0m\u001b[1;32m      2\u001b[0m \u001b[0ma\u001b[0m \u001b[0;34m*=\u001b[0m \u001b[0;36m2\u001b[0m  \u001b[0;31m# a와 2를 곱한 결과를 a에 할당\u001b[0m\u001b[0;34m\u001b[0m\u001b[0;34m\u001b[0m\u001b[0m\n\u001b[1;32m      3\u001b[0m \u001b[0ma\u001b[0m \u001b[0;34m/=\u001b[0m \u001b[0;36m2\u001b[0m  \u001b[0;31m# a에서 2를 나눈결과를 a에 할당\u001b[0m\u001b[0;34m\u001b[0m\u001b[0;34m\u001b[0m\u001b[0m\n",
            "\u001b[0;31mNameError\u001b[0m: name 'a' is not defined"
          ]
        }
      ]
    },
    {
      "cell_type": "code",
      "source": [
        "# Unit 23 비교연산자 (comparison operatior) : ==, !=, <, <=, >, >=\n",
        "\n",
        "A == B  # A와 B가 같으면 참\n",
        "A != B  # A와 B가 다르면 참\n",
        "A < B   # A가 B보다 작으면 참\n",
        "A <= B  # A가 B보다 작거나 같으면 참\n",
        "A > B   # A가 B보다 크면 참\n",
        "A >= B  # A기 B보다 크거나 같으면 참"
      ],
      "metadata": {
        "colab": {
          "base_uri": "https://localhost:8080/",
          "height": 216
        },
        "id": "q66l-qG9KJtE",
        "outputId": "791ae07d-33d0-4f39-f537-bb5e9bb9dccc"
      },
      "execution_count": null,
      "outputs": [
        {
          "output_type": "error",
          "ename": "NameError",
          "evalue": "name 'A' is not defined",
          "traceback": [
            "\u001b[0;31m---------------------------------------------------------------------------\u001b[0m",
            "\u001b[0;31mNameError\u001b[0m                                 Traceback (most recent call last)",
            "\u001b[0;32m/tmp/ipython-input-3706431858.py\u001b[0m in \u001b[0;36m<cell line: 0>\u001b[0;34m()\u001b[0m\n\u001b[1;32m      1\u001b[0m \u001b[0;31m# Unit 23 비교연산자 (comparison operatior) : ==, !=, <, <=, >, >=\u001b[0m\u001b[0;34m\u001b[0m\u001b[0;34m\u001b[0m\u001b[0m\n\u001b[1;32m      2\u001b[0m \u001b[0;34m\u001b[0m\u001b[0m\n\u001b[0;32m----> 3\u001b[0;31m \u001b[0mA\u001b[0m \u001b[0;34m==\u001b[0m \u001b[0mB\u001b[0m  \u001b[0;31m# A와 B가 같으면 참\u001b[0m\u001b[0;34m\u001b[0m\u001b[0;34m\u001b[0m\u001b[0m\n\u001b[0m\u001b[1;32m      4\u001b[0m \u001b[0mA\u001b[0m \u001b[0;34m!=\u001b[0m \u001b[0mB\u001b[0m  \u001b[0;31m# A와 B가 다르면 참\u001b[0m\u001b[0;34m\u001b[0m\u001b[0;34m\u001b[0m\u001b[0m\n\u001b[1;32m      5\u001b[0m \u001b[0mA\u001b[0m \u001b[0;34m<\u001b[0m \u001b[0mB\u001b[0m   \u001b[0;31m# A가 B보다 작으면 참\u001b[0m\u001b[0;34m\u001b[0m\u001b[0;34m\u001b[0m\u001b[0m\n",
            "\u001b[0;31mNameError\u001b[0m: name 'A' is not defined"
          ]
        }
      ]
    },
    {
      "cell_type": "code",
      "source": [
        "x = 1; y = 2\n",
        "strData1 = 'Hello' ; strData2 = 'python'\n",
        "print(x == y)\n",
        "print(x != y)\n",
        "print(strData1 == strData2)\n",
        "print(strData2 == 'python')\n",
        "print(strData1 < strData2)   # 문자열의 크기 비교 => 문자열의 사전 순서로 비교 (ex. 'Hello'가 'python'보다 순서가 앞이기에 True 출력)"
      ],
      "metadata": {
        "colab": {
          "base_uri": "https://localhost:8080/"
        },
        "id": "h5ok6oF9MFPE",
        "outputId": "f5fcb1d4-bf98-4c2a-cec5-db7e6d05dac8"
      },
      "execution_count": null,
      "outputs": [
        {
          "output_type": "stream",
          "name": "stdout",
          "text": [
            "False\n",
            "True\n",
            "False\n",
            "True\n",
            "True\n"
          ]
        }
      ]
    }
  ]
}