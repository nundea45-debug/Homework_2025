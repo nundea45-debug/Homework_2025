{
  "nbformat": 4,
  "nbformat_minor": 0,
  "metadata": {
    "colab": {
      "provenance": [],
      "name": "66list-sort()_67random-shuffle().ipynb",
      "authorship_tag": "ABX9TyNoBKVPpHgYYV5uzkKz2uUb",
      "include_colab_link": true
    },
    "kernelspec": {
      "name": "python3",
      "display_name": "Python 3"
    },
    "language_info": {
      "name": "python"
    }
  },
  "cells": [
    {
      "cell_type": "markdown",
      "metadata": {
        "id": "view-in-github",
        "colab_type": "text"
      },
      "source": [
        "<a href=\"https://colab.research.google.com/github/nundea45-debug/Homework_2025/blob/main/66list_sort()_67random_shuffle().ipynb\" target=\"_parent\"><img src=\"https://colab.research.google.com/assets/colab-badge.svg\" alt=\"Open In Colab\"/></a>"
      ]
    },
    {
      "cell_type": "code",
      "execution_count": null,
      "metadata": {
        "id": "-85JRljSd51l"
      },
      "outputs": [],
      "source": [
        "# Unit 66 리스트 요소 정렬 : list.sort()\n",
        "\n",
        "# list.sort() => list 요소를 정렬 (원본 list의 내용을 정렬된 형태로 변경)"
      ]
    },
    {
      "cell_type": "code",
      "source": [
        "nameList = ['Mary', 'Sams', 'Aemy', 'Tom', 'Michale', 'Bob', 'Kelly']\n",
        "nameList.sort()  # sort() => 기본적으로 오름차순 정렬 수행\n",
        "print(nameList)"
      ],
      "metadata": {
        "colab": {
          "base_uri": "https://localhost:8080/"
        },
        "id": "2nB-8t0jgpE1",
        "outputId": "9708bc04-24e4-4881-f305-18a1291a3a00"
      },
      "execution_count": null,
      "outputs": [
        {
          "output_type": "stream",
          "name": "stdout",
          "text": [
            "['Aemy', 'Bob', 'Kelly', 'Mary', 'Michale', 'Sams', 'Tom']\n"
          ]
        }
      ]
    },
    {
      "cell_type": "code",
      "source": [
        "nameList = ['Mary', 'Sams', 'Aemy', 'Tom', 'Michale', 'Bob', 'Kelly']\n",
        "nameList.sort(reverse = True)  # 내림차순 정렬 (reverse = True)\n",
        "print(nameList)"
      ],
      "metadata": {
        "colab": {
          "base_uri": "https://localhost:8080/"
        },
        "id": "qdBXPhZrhCVR",
        "outputId": "95680bdb-fd16-4191-bce2-65fbdbaadbbc"
      },
      "execution_count": null,
      "outputs": [
        {
          "output_type": "stream",
          "name": "stdout",
          "text": [
            "['Tom', 'Sams', 'Michale', 'Mary', 'Kelly', 'Bob', 'Aemy']\n"
          ]
        }
      ]
    },
    {
      "cell_type": "code",
      "source": [
        "# Unit 67 리스트 요소 무작위로 섞기 : random.shuffle()\n",
        "\n",
        "# random.shuffle() => 리스트의 요소들을 무작위로 배열"
      ],
      "metadata": {
        "id": "L8uKDxLKhdrM"
      },
      "execution_count": null,
      "outputs": []
    },
    {
      "cell_type": "code",
      "source": [
        "import random\n",
        "numList = list(range(1, 11))\n",
        "random.shuffle(numList)  # ramdom.shuffle(list) => list 자체를 변경함\n",
        "print(numList)"
      ],
      "metadata": {
        "colab": {
          "base_uri": "https://localhost:8080/"
        },
        "id": "LtvCK5zRhv66",
        "outputId": "6d017598-8df1-48a4-ffae-0b3b0195d3cd"
      },
      "execution_count": null,
      "outputs": [
        {
          "output_type": "stream",
          "name": "stdout",
          "text": [
            "[8, 2, 5, 1, 4, 6, 3, 10, 7, 9]\n"
          ]
        }
      ]
    },
    {
      "cell_type": "code",
      "source": [
        "numList = list(range(1, 11))\n",
        "copied = numList.copy()  # copy() => 원본 내용의 변경 없이 요소가 무작위로 섞인 새로운 리스트를 생성\n",
        "random.shuffle(copied)\n",
        "print(f'numList : {numList}')\n",
        "print(f'copied : {copied}')"
      ],
      "metadata": {
        "colab": {
          "base_uri": "https://localhost:8080/"
        },
        "id": "KO1RffbdiDU_",
        "outputId": "81ae7b15-64cc-46a5-aeb6-18d9eeb3274f"
      },
      "execution_count": null,
      "outputs": [
        {
          "output_type": "stream",
          "name": "stdout",
          "text": [
            "numList : [1, 2, 3, 4, 5, 6, 7, 8, 9, 10]\n",
            "copied : [6, 9, 10, 5, 4, 1, 3, 8, 7, 2]\n"
          ]
        }
      ]
    }
  ]
}