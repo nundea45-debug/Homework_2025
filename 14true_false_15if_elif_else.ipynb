{
  "nbformat": 4,
  "nbformat_minor": 0,
  "metadata": {
    "colab": {
      "provenance": [],
      "authorship_tag": "ABX9TyOF5XHKbNiykJ2XejWkziw9",
      "include_colab_link": true
    },
    "kernelspec": {
      "name": "python3",
      "display_name": "Python 3"
    },
    "language_info": {
      "name": "python"
    }
  },
  "cells": [
    {
      "cell_type": "markdown",
      "metadata": {
        "id": "view-in-github",
        "colab_type": "text"
      },
      "source": [
        "<a href=\"https://colab.research.google.com/github/nundea45-debug/Homework_2025/blob/main/14true_false_15if_elif_else.ipynb\" target=\"_parent\"><img src=\"https://colab.research.google.com/assets/colab-badge.svg\" alt=\"Open In Colab\"/></a>"
      ]
    },
    {
      "cell_type": "code",
      "execution_count": null,
      "metadata": {
        "colab": {
          "base_uri": "https://localhost:8080/"
        },
        "id": "DE-phtncVhSl",
        "outputId": "1f876b52-758a-4123-f1ad-be9aa9a7e268"
      },
      "outputs": [
        {
          "output_type": "stream",
          "name": "stdout",
          "text": [
            "True\n",
            "False\n"
          ]
        }
      ],
      "source": [
        "# Unit 14 True, False\n",
        "\n",
        "flag1 = True\n",
        "flag2 = False\n",
        "print(flag1 == 1)\n",
        "print(flag2 != 0)  # True는 1 False는 0의 값을 가짐"
      ]
    },
    {
      "cell_type": "code",
      "source": [
        "while True :\n",
        "  flag1 = True\n",
        "  flag2 = False\n",
        "  print(flag1 == 1)\n",
        "  print(flag2 != 0) # 무한 반복 로직 구현"
      ],
      "metadata": {
        "colab": {
          "base_uri": "https://localhost:8080/",
          "height": 109
        },
        "id": "xVAxSGl1WGMn",
        "outputId": "0b774269-648f-467b-aa0c-cc48fd30487c"
      },
      "execution_count": null,
      "outputs": [
        {
          "output_type": "error",
          "ename": "SyntaxError",
          "evalue": "incomplete input (ipython-input-1532137411.py, line 5)",
          "traceback": [
            "\u001b[0;36m  File \u001b[0;32m\"/tmp/ipython-input-1532137411.py\"\u001b[0;36m, line \u001b[0;32m5\u001b[0m\n\u001b[0;31m    #print(flag2 != 0)\u001b[0m\n\u001b[0m                       ^\u001b[0m\n\u001b[0;31mSyntaxError\u001b[0m\u001b[0;31m:\u001b[0m incomplete input\n"
          ]
        }
      ]
    },
    {
      "cell_type": "code",
      "source": [
        "while True :\n",
        "  flag1 = True\n",
        "  flag2 = False\n",
        "  print(flag1 == 1)\n",
        "  print(flag2 != 0)\n",
        "  if flag1 == True :\n",
        "    break  # 무한 반복 코드에서특정 조건을 만족하는 경우 무한 루프를 탈출 == break"
      ],
      "metadata": {
        "colab": {
          "base_uri": "https://localhost:8080/"
        },
        "id": "8DvxUtlUWhdu",
        "outputId": "3f0e35e2-142a-4d78-babd-2ce6e0fcf283"
      },
      "execution_count": null,
      "outputs": [
        {
          "output_type": "stream",
          "name": "stdout",
          "text": [
            "True\n",
            "False\n"
          ]
        }
      ]
    },
    {
      "cell_type": "code",
      "source": [
        "# Unit 15 if문 : if ~ elif ~ else\n",
        "\n",
        "if 조건 :\n",
        "  조건이 참일 경우 실행하는 코드"
      ],
      "metadata": {
        "id": "yHku0gAeWzah"
      },
      "execution_count": null,
      "outputs": []
    },
    {
      "cell_type": "code",
      "source": [
        "if 조건 :\n",
        "  조건이 참일 경우 실행하는 코드\n",
        "\n",
        "else :\n",
        "  조건이 거짓일 경우 실행하는 코드"
      ],
      "metadata": {
        "id": "mShDKEE4W_Tx"
      },
      "execution_count": null,
      "outputs": []
    },
    {
      "cell_type": "code",
      "source": [
        "x = 1\n",
        "y = 2\n",
        "if x < y :\n",
        "  print('x가 y보다 작습니다.')\n",
        "else :\n",
        "  print('x가 y보다 작지 않습니다.')  # if ~ else문 예시"
      ],
      "metadata": {
        "colab": {
          "base_uri": "https://localhost:8080/"
        },
        "id": "8wqPZNlNXFme",
        "outputId": "ce3ecf9a-7ee4-4909-cfd6-3e6475fe3e78"
      },
      "execution_count": null,
      "outputs": [
        {
          "output_type": "stream",
          "name": "stdout",
          "text": [
            "x가 y보다 작습니다.\n"
          ]
        }
      ]
    },
    {
      "cell_type": "code",
      "source": [
        "if 조건 1 :\n",
        "  조건 1이 참일 경우 실행하는 코드\n",
        "elif 조건 2 :\n",
        "  조건 1이 거짓이고 조건 2가 참일 경우 실행하는 코드\n",
        "else :\n",
        "  조건 1, 조건 2가 모두 거짓일 경우 실행하는 코드"
      ],
      "metadata": {
        "id": "BzyrmlXKXlnB"
      },
      "execution_count": null,
      "outputs": []
    },
    {
      "cell_type": "code",
      "source": [
        "x = 1\n",
        "y = 2\n",
        "if x < y :\n",
        "  print('x가 y보다 작습니다.')\n",
        "elif x > y :\n",
        "  print('x가 y보다 큽니다.')\n",
        "else :\n",
        "  print('x와 y가 같습니다.')  # if ~ elif ~ else문 예시"
      ],
      "metadata": {
        "colab": {
          "base_uri": "https://localhost:8080/"
        },
        "id": "S8XDFIzSXmsO",
        "outputId": "5a991fe9-d7e5-4867-8c7c-49996cc92bbb"
      },
      "execution_count": null,
      "outputs": [
        {
          "output_type": "stream",
          "name": "stdout",
          "text": [
            "x가 y보다 작습니다.\n"
          ]
        }
      ]
    }
  ]
}