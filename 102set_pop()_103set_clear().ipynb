{
  "nbformat": 4,
  "nbformat_minor": 0,
  "metadata": {
    "colab": {
      "provenance": [],
      "name": "102set.pop()_103set.clear().ipynb",
      "authorship_tag": "ABX9TyMWBDif2a8cgDlN2gttp26u",
      "include_colab_link": true
    },
    "kernelspec": {
      "name": "python3",
      "display_name": "Python 3"
    },
    "language_info": {
      "name": "python"
    }
  },
  "cells": [
    {
      "cell_type": "markdown",
      "metadata": {
        "id": "view-in-github",
        "colab_type": "text"
      },
      "source": [
        "<a href=\"https://colab.research.google.com/github/nundea45-debug/Homework_2025/blob/main/102set_pop()_103set_clear().ipynb\" target=\"_parent\"><img src=\"https://colab.research.google.com/assets/colab-badge.svg\" alt=\"Open In Colab\"/></a>"
      ]
    },
    {
      "cell_type": "code",
      "execution_count": null,
      "metadata": {
        "colab": {
          "base_uri": "https://localhost:8080/"
        },
        "id": "MGTBJuZKv2EP",
        "outputId": "fea0659d-0cfe-407d-ec67-42305bb50365"
      },
      "outputs": [
        {
          "output_type": "stream",
          "name": "stdout",
          "text": [
            "++ 추출한 요소 : 사과\n",
            "++ fruits: {'오렌지', '배', '수박'}\n"
          ]
        }
      ],
      "source": [
        "# Unit 102 set에서 랜덤 요소 추출 : set.pop()\n",
        "\n",
        "# set.pop() => set에서 무작위로 요소 추출 후 해당 요소 삭제\n",
        "fruits = {'사과', '배', '오렌지', '수박'}\n",
        "choise = fruits.pop()\n",
        "print(f'++ 추출한 요소 : {choise}\\n++ fruits: {fruits}')"
      ]
    },
    {
      "cell_type": "code",
      "source": [
        "# set 자료에 요소가 하나도 없을 시 set.pop() => KeyError 오류 발생\n",
        "for _ in range(len(fruits)) :\n",
        "  choise = fruits.pop()\n",
        "  print(f'++ 추출한 요소 : {choise}\\n++ fruits: {fruits}')\n",
        "choise = fruits.pop()"
      ],
      "metadata": {
        "colab": {
          "base_uri": "https://localhost:8080/",
          "height": 180
        },
        "id": "Bk6a34uowf_R",
        "outputId": "c4a2c4c6-8e8a-4079-9ded-076dd6e5cab0"
      },
      "execution_count": null,
      "outputs": [
        {
          "output_type": "error",
          "ename": "KeyError",
          "evalue": "'pop from an empty set'",
          "traceback": [
            "\u001b[0;31m---------------------------------------------------------------------------\u001b[0m",
            "\u001b[0;31mKeyError\u001b[0m                                  Traceback (most recent call last)",
            "\u001b[0;32m/tmp/ipython-input-1537193647.py\u001b[0m in \u001b[0;36m<cell line: 0>\u001b[0;34m()\u001b[0m\n\u001b[1;32m      3\u001b[0m   \u001b[0mchoise\u001b[0m \u001b[0;34m=\u001b[0m \u001b[0mfruits\u001b[0m\u001b[0;34m.\u001b[0m\u001b[0mpop\u001b[0m\u001b[0;34m(\u001b[0m\u001b[0;34m)\u001b[0m\u001b[0;34m\u001b[0m\u001b[0;34m\u001b[0m\u001b[0m\n\u001b[1;32m      4\u001b[0m   \u001b[0mprint\u001b[0m\u001b[0;34m(\u001b[0m\u001b[0;34mf'++ 추출한 요소 : {choise}\\n++ fruits: {fruits}'\u001b[0m\u001b[0;34m)\u001b[0m\u001b[0;34m\u001b[0m\u001b[0;34m\u001b[0m\u001b[0m\n\u001b[0;32m----> 5\u001b[0;31m \u001b[0mchoise\u001b[0m \u001b[0;34m=\u001b[0m \u001b[0mfruits\u001b[0m\u001b[0;34m.\u001b[0m\u001b[0mpop\u001b[0m\u001b[0;34m(\u001b[0m\u001b[0;34m)\u001b[0m\u001b[0;34m\u001b[0m\u001b[0;34m\u001b[0m\u001b[0m\n\u001b[0m",
            "\u001b[0;31mKeyError\u001b[0m: 'pop from an empty set'"
          ]
        }
      ]
    },
    {
      "cell_type": "code",
      "source": [
        "# Unit 103 set의 모든 요소 제거 : set.clear()\n",
        "\n",
        "# set.clear() => set의 모든 요소 제거\n",
        "set1 = set('abradacabra')\n",
        "set2 = set('arirangsong')\n",
        "set1 &= set2\n",
        "set2.clear()\n",
        "print(f'set1={set1}, set2={set2}')  # set1과 set2를 적절하게 처리 후 set2를 초기화하는 코드"
      ],
      "metadata": {
        "colab": {
          "base_uri": "https://localhost:8080/"
        },
        "id": "MxGGGf4M5uSE",
        "outputId": "3b4c4838-3178-4486-dc76-02e9b047ec18"
      },
      "execution_count": null,
      "outputs": [
        {
          "output_type": "stream",
          "name": "stdout",
          "text": [
            "set1={'a', 'r'}, set2=set()\n"
          ]
        }
      ]
    }
  ]
}