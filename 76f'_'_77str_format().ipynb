{
  "nbformat": 4,
  "nbformat_minor": 0,
  "metadata": {
    "colab": {
      "provenance": [],
      "name": "76f' '_77str-format().ipynb",
      "authorship_tag": "ABX9TyPdarMQughAH67IKqW9V/W3",
      "include_colab_link": true
    },
    "kernelspec": {
      "name": "python3",
      "display_name": "Python 3"
    },
    "language_info": {
      "name": "python"
    }
  },
  "cells": [
    {
      "cell_type": "markdown",
      "metadata": {
        "id": "view-in-github",
        "colab_type": "text"
      },
      "source": [
        "<a href=\"https://colab.research.google.com/github/nundea45-debug/Homework_2025/blob/main/76f'_'_77str_format().ipynb\" target=\"_parent\"><img src=\"https://colab.research.google.com/assets/colab-badge.svg\" alt=\"Open In Colab\"/></a>"
      ]
    },
    {
      "cell_type": "code",
      "execution_count": null,
      "metadata": {
        "colab": {
          "base_uri": "https://localhost:8080/"
        },
        "id": "YHRZDuS9d5J1",
        "outputId": "9249a479-9b41-4184-a501-6c7b73ae6b63"
      },
      "outputs": [
        {
          "output_type": "stream",
          "name": "stdout",
          "text": [
            "원주율의 근사값은 3.141592입니다.\n"
          ]
        }
      ],
      "source": [
        "# Unit 76 문자열 포맷팅 방법 (1) : f ' '\n",
        "\n",
        "title = '원주율'\n",
        "pi = 3.141592\n",
        "print(f'{title}의 근사값은 {pi}입니다.')  # {} => 변수값 출력"
      ]
    },
    {
      "cell_type": "code",
      "source": [
        "print(f'{title}의 근사값은 {pi : .2f}입니다.')  # 콜론(:) => 부가 처리 정보가 있음을 나타냄 (ex. {pi : .2f} => 변수 pi를 소수점 2자리까지 표현하라)"
      ],
      "metadata": {
        "colab": {
          "base_uri": "https://localhost:8080/"
        },
        "id": "rs6U5JerjfIS",
        "outputId": "c2d584db-d180-4b3a-c7ff-7d75b7450a9b"
      },
      "execution_count": null,
      "outputs": [
        {
          "output_type": "stream",
          "name": "stdout",
          "text": [
            "원주율의 근사값은  3.14입니다.\n"
          ]
        }
      ]
    },
    {
      "cell_type": "code",
      "source": [
        "city = '서울'\n",
        "population = 8789911\n",
        "print(f'{city} : {population :,d}명')  # ,d => 정수 자료를 3자리마다 ,를 붙여서 출력함"
      ],
      "metadata": {
        "colab": {
          "base_uri": "https://localhost:8080/"
        },
        "id": "UnWeFvXzj46T",
        "outputId": "912c1014-f71d-4653-f434-4a9ef90c2712"
      },
      "execution_count": null,
      "outputs": [
        {
          "output_type": "stream",
          "name": "stdout",
          "text": [
            "서울 : 8,789,911명\n"
          ]
        }
      ]
    },
    {
      "cell_type": "code",
      "source": [
        "print(f'{city} : {population = :,d}명')  # \"=\" => 변수명 = 변수값으로 출력하라는 의미"
      ],
      "metadata": {
        "colab": {
          "base_uri": "https://localhost:8080/"
        },
        "id": "wy5kr1iykbgn",
        "outputId": "771cc3f6-2c41-49f3-9c0c-4f82671865fd"
      },
      "execution_count": null,
      "outputs": [
        {
          "output_type": "stream",
          "name": "stdout",
          "text": [
            "서울 : population = 8,789,911명\n"
          ]
        }
      ]
    },
    {
      "cell_type": "code",
      "source": [
        "# Unit 문자열 포맷팅 방법 (2) : str.format()\n",
        "\n",
        "pi = 3.141592\n",
        "text = '{}의 근사값은 {}입니다.'.format('원주율', pi)  # {}에 대응하는 값 또는 변수를 입력해 문자열 포맷팅을 수행\n",
        "print(text)"
      ],
      "metadata": {
        "colab": {
          "base_uri": "https://localhost:8080/"
        },
        "id": "LGo82BeMkuWA",
        "outputId": "5c5d2631-3e7b-41d9-d981-69b449fc62b5"
      },
      "execution_count": null,
      "outputs": [
        {
          "output_type": "stream",
          "name": "stdout",
          "text": [
            "원주율의 근사값은 3.141592입니다.\n"
          ]
        }
      ]
    },
    {
      "cell_type": "code",
      "source": [
        "print('{}의 근사값은 {:.2f}입니다.'.format('원주율',pi))  # {:.2f} => 실수 자료를 소수점 2자리까지 출력"
      ],
      "metadata": {
        "colab": {
          "base_uri": "https://localhost:8080/"
        },
        "id": "rlXsCEM-lt0r",
        "outputId": "ae88e901-034a-451d-a806-986d4934dac7"
      },
      "execution_count": null,
      "outputs": [
        {
          "output_type": "stream",
          "name": "stdout",
          "text": [
            "원주율의 근사값은 3.14입니다.\n"
          ]
        }
      ]
    },
    {
      "cell_type": "code",
      "source": [
        "population = 8789911\n",
        "text = '{} : {:,d}명'.format('서울',population)  # {:,d} => 정수 3자리마다 ,로 구분해 출력\n",
        "print(text)"
      ],
      "metadata": {
        "colab": {
          "base_uri": "https://localhost:8080/"
        },
        "id": "xDAq7XRBmXcw",
        "outputId": "7a2d52d4-ce2c-4331-bf19-6660643b4c76"
      },
      "execution_count": null,
      "outputs": [
        {
          "output_type": "stream",
          "name": "stdout",
          "text": [
            "서울 : 8,789,911명\n"
          ]
        }
      ]
    }
  ]
}