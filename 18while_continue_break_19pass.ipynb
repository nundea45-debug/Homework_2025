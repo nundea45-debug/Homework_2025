{
  "nbformat": 4,
  "nbformat_minor": 0,
  "metadata": {
    "colab": {
      "provenance": [],
      "authorship_tag": "ABX9TyPQzRzXRhuawafzdG4C4PMk",
      "include_colab_link": true
    },
    "kernelspec": {
      "name": "python3",
      "display_name": "Python 3"
    },
    "language_info": {
      "name": "python"
    }
  },
  "cells": [
    {
      "cell_type": "markdown",
      "metadata": {
        "id": "view-in-github",
        "colab_type": "text"
      },
      "source": [
        "<a href=\"https://colab.research.google.com/github/nundea45-debug/Homework_2025/blob/main/18while_continue_break_19pass.ipynb\" target=\"_parent\"><img src=\"https://colab.research.google.com/assets/colab-badge.svg\" alt=\"Open In Colab\"/></a>"
      ]
    },
    {
      "cell_type": "code",
      "execution_count": null,
      "metadata": {
        "id": "irAp6xPFbPSB"
      },
      "outputs": [],
      "source": [
        "# Unit 18 while문 : while ~ continue~ brak\n",
        "\n",
        "#while문의 기본 구문\n",
        "\n",
        "while 조건 :\n",
        "  조건이 참일 때 반복 실행 코드\n",
        "  ...\n",
        "  continue  # while문 처음으로 이동하여 반복 실행 코드 계속\n",
        "  ...\n",
        "  break  # while문 탈출"
      ]
    },
    {
      "cell_type": "code",
      "source": [
        "x = 0\n",
        "while x < 10 :  # 변수 x의 값이 10보다 작은 조건을 만족하는 동안 while 아래의 실행 코드를 반복 수행 (1~2)\n",
        "  x = x + 1\n",
        "  if x < 3 :\n",
        "    continue    # x를 1 증가시킨 후 x가 3보다 작을 시 continue를 이용해 while문의 처음올 돌아감, 단 x가 3이 되면 거짓이 되므로 7라인으로 이동 (3~5)\n",
        "\n",
        "  print(x)\n",
        "  if x > 4 :\n",
        "    break       # x를 출력 후 x가 4보다 큰 값이면 break을 통해 while문 탈출 (7~9)"
      ],
      "metadata": {
        "colab": {
          "base_uri": "https://localhost:8080/"
        },
        "id": "lFBmwDtrcD0x",
        "outputId": "ef94847b-687d-471c-8f12-bbc6aa522920"
      },
      "execution_count": null,
      "outputs": [
        {
          "output_type": "stream",
          "name": "stdout",
          "text": [
            "3\n",
            "4\n",
            "5\n"
          ]
        }
      ]
    },
    {
      "cell_type": "code",
      "source": [
        "n = 1\n",
        "total = 0\n",
        "while True :  # while True는 조건 자체가 참 => while문을 탈출하기 위해 break를 사용해야함\n",
        "  total = total + n  # 무한 루프를 돌며 변수 total에 n을 더하고 total을 갱신\n",
        "  if total > 100000 :\n",
        "    print('1+2+...+n 값이 10만 보다 커지게 되는 n :', n)\n",
        "    print('이 때 총합은', total)\n",
        "    break\n",
        "  n = n + 1    # total이 10만 보다 커짐 => n과 total 출력, break로 while문 탈출 / 10만 보다 작음  => n을 1 증가 시키고 while 아래 실행 코드 반복"
      ],
      "metadata": {
        "colab": {
          "base_uri": "https://localhost:8080/"
        },
        "id": "_hezzQAxe7aK",
        "outputId": "4ebcefc6-770d-4d88-cc30-cca90c5c2a95"
      },
      "execution_count": null,
      "outputs": [
        {
          "output_type": "stream",
          "name": "stdout",
          "text": [
            "1+2+...+n 값이 10만 보다 커지게 되는 n : 447\n",
            "이 때 총합은 100128\n"
          ]
        }
      ]
    },
    {
      "cell_type": "code",
      "source": [
        "# Unit 19 pass문\n",
        "\n",
        "for sport in ['축구', '야구', '배구', '농구'] :\n",
        "  if sport == '축구' :\n",
        "    pass\n",
        "\n",
        "  if sport == '야구' :\n",
        "    pass\n",
        "\n",
        "# pass문은 코드에서 아무것도 하지 x => 예) if문 작성 중 실행로직이 구상되지 않아 나중에 작성하고자 할 시 pass문 활용 가능"
      ],
      "metadata": {
        "id": "f63NdjU4gD3X"
      },
      "execution_count": null,
      "outputs": []
    },
    {
      "cell_type": "code",
      "source": [
        "def getimageLink(url) :\n",
        "  pass  # 함수 이름만 정의하고 함수 내의 실행 코드는 나중에 작성하고자 하는 경우"
      ],
      "metadata": {
        "id": "LPqI9t8dgfmq"
      },
      "execution_count": null,
      "outputs": []
    }
  ]
}