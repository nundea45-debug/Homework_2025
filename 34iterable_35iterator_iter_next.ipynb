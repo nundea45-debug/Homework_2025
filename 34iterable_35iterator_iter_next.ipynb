{
  "nbformat": 4,
  "nbformat_minor": 0,
  "metadata": {
    "colab": {
      "provenance": [],
      "authorship_tag": "ABX9TyN1RhI7s3RUhCUTvpItETmj",
      "include_colab_link": true
    },
    "kernelspec": {
      "name": "python3",
      "display_name": "Python 3"
    },
    "language_info": {
      "name": "python"
    }
  },
  "cells": [
    {
      "cell_type": "markdown",
      "metadata": {
        "id": "view-in-github",
        "colab_type": "text"
      },
      "source": [
        "<a href=\"https://colab.research.google.com/github/nundea45-debug/Homework_2025/blob/main/34iterable_35iterator_iter_next.ipynb\" target=\"_parent\"><img src=\"https://colab.research.google.com/assets/colab-badge.svg\" alt=\"Open In Colab\"/></a>"
      ]
    },
    {
      "cell_type": "code",
      "execution_count": null,
      "metadata": {
        "id": "9936xbkWb_Fn"
      },
      "outputs": [],
      "source": [
        "# Unit 34 반복 가능 (iterable) 이해하기\n",
        "\n",
        "for <변수(들)> in <반복 가능 자료> :  # for문의 in 다름에 놓이는 자료형은 반드시 반복 가능이어야 함."
      ]
    },
    {
      "cell_type": "code",
      "source": [
        "# <반복 가능 자료> 예시\n",
        "# 이터레이터 (iterator) : 반복 가능한 자료에서 요소들을 차례대로 꺼내는 객체\n",
        "iterableData1 = [1,2,3,4,5]              # 리스트\n",
        "iterableData2 = ('a', 'b', 'c')          # 튜플\n",
        "iterableData3 = 'I love python!'         # 문자열\n",
        "iterableData6 = range(10)                # range() 객체\n",
        "iterableData4 = {97 : 'a', 98 : 'b'}     # 딕셔너리\n",
        "iterableData5 = {'사과', '배', '오렌지'}  # set 자료"
      ],
      "metadata": {
        "id": "DR2PT1-ceh26"
      },
      "execution_count": null,
      "outputs": []
    },
    {
      "cell_type": "code",
      "source": [
        "# Unit 35 이터레이터(Iterator), iter(), next() 이해하기\n",
        "\n",
        "listData = [1,2,3,4]  # 1 ~ 4까지 정수 요소로 구성된 리스트 객체 listData를 정의함\n",
        "iterator1 = listData.__iter__()  # listData의__iter__() 매서드를 호출하여 listData의 이터레이터 객체 iterator1을 생성\n",
        "print(type(iterator1))"
      ],
      "metadata": {
        "colab": {
          "base_uri": "https://localhost:8080/"
        },
        "id": "rJ0ETY0Of0pN",
        "outputId": "4988dbe3-1cca-46f2-dd48-1eb62002d6b5"
      },
      "execution_count": null,
      "outputs": [
        {
          "output_type": "stream",
          "name": "stdout",
          "text": [
            "<class 'list_iterator'>\n"
          ]
        }
      ]
    },
    {
      "cell_type": "code",
      "source": [
        "listData= [1,2,3,4]\n",
        "iterator2 = iter(listData)\n",
        "print(type(iterator2))"
      ],
      "metadata": {
        "colab": {
          "base_uri": "https://localhost:8080/"
        },
        "id": "w3L8ytorgtKY",
        "outputId": "4d08a737-cd83-482b-b1a3-0a387f9a2888"
      },
      "execution_count": null,
      "outputs": [
        {
          "output_type": "stream",
          "name": "stdout",
          "text": [
            "<class 'list_iterator'>\n"
          ]
        }
      ]
    },
    {
      "cell_type": "code",
      "source": [
        "print(next(iterator2))  # next() : 인자로 입력된 이터레이터의 반복 가능 자료에서 요소를 차례대로 하나씩 꺼내는 기능을 가짐.\n",
        "print(next(iterator2))  # next()가 호출될 때마다 반복 가능 자료에서 요소를 꺼낸 후 다음 요소 위치로 이터레이터를 이동함.\n",
        "print(next(iterator2))  # 만약 반복 가능 자료에서 더 이상 자료를 꺼낼 수 없으면 StopIteration 오류가 발생\n",
        "print(next(iterator2))\n",
        "print(next(iterator2))"
      ],
      "metadata": {
        "colab": {
          "base_uri": "https://localhost:8080/",
          "height": 216
        },
        "id": "rQP-oVaNl8Nf",
        "outputId": "8278ab6c-34c1-47ce-ae8f-bcab2ba26e27"
      },
      "execution_count": null,
      "outputs": [
        {
          "output_type": "error",
          "ename": "StopIteration",
          "evalue": "",
          "traceback": [
            "\u001b[0;31m---------------------------------------------------------------------------\u001b[0m",
            "\u001b[0;31mStopIteration\u001b[0m                             Traceback (most recent call last)",
            "\u001b[0;32m/tmp/ipython-input-321513494.py\u001b[0m in \u001b[0;36m<cell line: 0>\u001b[0;34m()\u001b[0m\n\u001b[0;32m----> 1\u001b[0;31m \u001b[0mprint\u001b[0m\u001b[0;34m(\u001b[0m\u001b[0mnext\u001b[0m\u001b[0;34m(\u001b[0m\u001b[0miterator2\u001b[0m\u001b[0;34m)\u001b[0m\u001b[0;34m)\u001b[0m  \u001b[0;31m# next() : 인자로 입력된 이터레이터의 반복 가능 자료에서 요소를 차례대로 하나씩 꺼내는 기능을 가짐.\u001b[0m\u001b[0;34m\u001b[0m\u001b[0;34m\u001b[0m\u001b[0m\n\u001b[0m\u001b[1;32m      2\u001b[0m \u001b[0mprint\u001b[0m\u001b[0;34m(\u001b[0m\u001b[0mnext\u001b[0m\u001b[0;34m(\u001b[0m\u001b[0miterator2\u001b[0m\u001b[0;34m)\u001b[0m\u001b[0;34m)\u001b[0m  \u001b[0;31m# next()가 호출될 때마다 반복 가능 자료에서 요소를 꺼낸 후 다음 요소 위치로 이터레이터를 이동함.\u001b[0m\u001b[0;34m\u001b[0m\u001b[0;34m\u001b[0m\u001b[0m\n\u001b[1;32m      3\u001b[0m \u001b[0mprint\u001b[0m\u001b[0;34m(\u001b[0m\u001b[0mnext\u001b[0m\u001b[0;34m(\u001b[0m\u001b[0miterator2\u001b[0m\u001b[0;34m)\u001b[0m\u001b[0;34m)\u001b[0m  \u001b[0;31m# 만약 반복 가능 자료에서 더 이상 자료를 꺼낼 수 없으면 StopIteration 오류가 발생\u001b[0m\u001b[0;34m\u001b[0m\u001b[0;34m\u001b[0m\u001b[0m\n\u001b[1;32m      4\u001b[0m \u001b[0mprint\u001b[0m\u001b[0;34m(\u001b[0m\u001b[0mnext\u001b[0m\u001b[0;34m(\u001b[0m\u001b[0miterator2\u001b[0m\u001b[0;34m)\u001b[0m\u001b[0;34m)\u001b[0m\u001b[0;34m\u001b[0m\u001b[0;34m\u001b[0m\u001b[0m\n\u001b[1;32m      5\u001b[0m \u001b[0mprint\u001b[0m\u001b[0;34m(\u001b[0m\u001b[0mnext\u001b[0m\u001b[0;34m(\u001b[0m\u001b[0miterator2\u001b[0m\u001b[0;34m)\u001b[0m\u001b[0;34m)\u001b[0m\u001b[0;34m\u001b[0m\u001b[0;34m\u001b[0m\u001b[0m\n",
            "\u001b[0;31mStopIteration\u001b[0m: "
          ]
        }
      ]
    },
    {
      "cell_type": "code",
      "source": [],
      "metadata": {
        "id": "yyTcoeTnmRD2"
      },
      "execution_count": null,
      "outputs": []
    }
  ]
}