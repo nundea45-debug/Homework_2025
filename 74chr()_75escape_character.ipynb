{
  "nbformat": 4,
  "nbformat_minor": 0,
  "metadata": {
    "colab": {
      "provenance": [],
      "name": "74chr()_75escape-character.ipynb",
      "authorship_tag": "ABX9TyMvVbJuW3uVSPvnEs6+wqh8",
      "include_colab_link": true
    },
    "kernelspec": {
      "name": "python3",
      "display_name": "Python 3"
    },
    "language_info": {
      "name": "python"
    }
  },
  "cells": [
    {
      "cell_type": "markdown",
      "metadata": {
        "id": "view-in-github",
        "colab_type": "text"
      },
      "source": [
        "<a href=\"https://colab.research.google.com/github/nundea45-debug/Homework_2025/blob/main/74chr()_75escape_character.ipynb\" target=\"_parent\"><img src=\"https://colab.research.google.com/assets/colab-badge.svg\" alt=\"Open In Colab\"/></a>"
      ]
    },
    {
      "cell_type": "code",
      "execution_count": null,
      "metadata": {
        "colab": {
          "base_uri": "https://localhost:8080/"
        },
        "id": "ypwkUAiXXGai",
        "outputId": "63d032fe-364f-4d0c-a7f8-f2addcee34af"
      },
      "outputs": [
        {
          "name": "stdout",
          "output_type": "stream",
          "text": [
            "0x로 시작하는 16진수 문자 코드값을 입력하세요 [끝내려면 엔터를 치세요] :\n"
          ]
        }
      ],
      "source": [
        "# Unit 74 코드값에 대응하는 문자 얻기 : chr()\n",
        "\n",
        "# input()으로 입력받은 16진수 코드값을 chr()을 이용해 대응하는 문자로 변환하는 코드\n",
        "while True :\n",
        "  code = input('0x로 시작하는 16진수 문자 코드값을 입력하세요 [끝내려면 엔터를 치세요] :')\n",
        "  if len(code) == 0 :\n",
        "    break\n",
        "  unicode = int(code, 16)\n",
        "  try :\n",
        "    ch = chr(unicode)  # chr() => 정수 유니코드 값을 입력시 그에 대응하는 문자를 리턴함 (<-> ord())\n",
        "    print(f'--> 코드값 : {code}, 문자 : \"{ch}\"')\n",
        "  except ValueError :\n",
        "    print(f'코드값 {code}에 해당하는 문자가 존재하지 않습니다.')"
      ]
    },
    {
      "cell_type": "code",
      "source": [
        "# Unit 75 이스케이프 문자 (escape character)\n",
        "\n",
        "# 이스케이프 문자 (escape character) => 문자 출력을 제어하거나 ', \", \\ 등과 같은 문자를 인용부호 안에서 표현 시 역슬래쉬로 시작하는 문자"
      ],
      "metadata": {
        "id": "hFLp7evHb9z7"
      },
      "execution_count": null,
      "outputs": []
    },
    {
      "cell_type": "code",
      "source": [
        "# \\n 활용 예시\n",
        "print('파이썬은 자바보다 쉽습니다. \\n그래서 나는 파이썬을 사랑합니다.')"
      ],
      "metadata": {
        "colab": {
          "base_uri": "https://localhost:8080/"
        },
        "id": "LhIIC2nncd0H",
        "outputId": "4d2af5f4-c366-4698-bebd-a994a780d261"
      },
      "execution_count": null,
      "outputs": [
        {
          "output_type": "stream",
          "name": "stdout",
          "text": [
            "파이썬은 자바보다 쉽습니다. \n",
            "그래서 나는 파이썬을 사랑합니다.\n"
          ]
        }
      ]
    },
    {
      "cell_type": "code",
      "source": [
        "# \\엔터키 활용 예시\n",
        "text = '파이썬은 자바보다 쉽습니다. \\\n",
        "그래서 나는 파이썬을 사랑합니다.'\n",
        "print(text)"
      ],
      "metadata": {
        "colab": {
          "base_uri": "https://localhost:8080/"
        },
        "id": "jbAK2rq-c3HH",
        "outputId": "50a9c8bf-cb09-4ee4-9b7e-60692032c2f9"
      },
      "execution_count": null,
      "outputs": [
        {
          "output_type": "stream",
          "name": "stdout",
          "text": [
            "파이썬은 자바보다 쉽습니다. 그래서 나는 파이썬을 사랑합니다.\n"
          ]
        }
      ]
    },
    {
      "cell_type": "code",
      "source": [
        "# \\\\ 활용 예시\n",
        "print('이스케이프 문자 \"\\\\t\"는 탭을 의미합니다.')"
      ],
      "metadata": {
        "colab": {
          "base_uri": "https://localhost:8080/"
        },
        "id": "GeEnAk6UdItL",
        "outputId": "b7ec55d4-c7d6-4b6e-e426-d5d8905cab25"
      },
      "execution_count": null,
      "outputs": [
        {
          "output_type": "stream",
          "name": "stdout",
          "text": [
            "이스케이프 문자 \"\\t\"는 탭을 의미합니다.\n"
          ]
        }
      ]
    },
    {
      "cell_type": "code",
      "source": [
        "# \\' 활용 예시 (\\\"도 마찬가지로 활용됨)\n",
        "print('\\'파이썬\\'은 뱀의 한 종류입니다.')"
      ],
      "metadata": {
        "colab": {
          "base_uri": "https://localhost:8080/"
        },
        "id": "OAEig6JzdWNv",
        "outputId": "1d25ae54-214e-4968-ac2e-e9656af0485f"
      },
      "execution_count": null,
      "outputs": [
        {
          "output_type": "stream",
          "name": "stdout",
          "text": [
            "'파이썬'은 뱀의 한 종류입니다.\n"
          ]
        }
      ]
    }
  ]
}