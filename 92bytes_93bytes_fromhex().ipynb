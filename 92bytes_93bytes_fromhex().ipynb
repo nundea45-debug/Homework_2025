{
  "nbformat": 4,
  "nbformat_minor": 0,
  "metadata": {
    "colab": {
      "provenance": [],
      "name": "92bytes_93bytes.fromhex().ipynb",
      "authorship_tag": "ABX9TyPrBti18UnJ9lj7fzRj9vG8",
      "include_colab_link": true
    },
    "kernelspec": {
      "name": "python3",
      "display_name": "Python 3"
    },
    "language_info": {
      "name": "python"
    }
  },
  "cells": [
    {
      "cell_type": "markdown",
      "metadata": {
        "id": "view-in-github",
        "colab_type": "text"
      },
      "source": [
        "<a href=\"https://colab.research.google.com/github/nundea45-debug/Homework_2025/blob/main/92bytes_93bytes_fromhex().ipynb\" target=\"_parent\"><img src=\"https://colab.research.google.com/assets/colab-badge.svg\" alt=\"Open In Colab\"/></a>"
      ]
    },
    {
      "cell_type": "code",
      "execution_count": null,
      "metadata": {
        "colab": {
          "base_uri": "https://localhost:8080/"
        },
        "id": "3K9whKG9qVaH",
        "outputId": "c6ea71d2-ccaf-4ae1-d69e-089d6ea5f110"
      },
      "outputs": [
        {
          "output_type": "stream",
          "name": "stdout",
          "text": [
            "False\n"
          ]
        }
      ],
      "source": [
        "# Unit 92 바이트 문자열 이해하기\n",
        "\n",
        "strData = 'python'\n",
        "bytesData = b'pyhon'\n",
        "print(strData[0]==bytesData[0])  # => strData의 'p'와 bytesData의 b'p'가 같은지 확인 (-> False => 'p'와 b'p'는 다른 값 (바이트 문자열은 2진))"
      ]
    },
    {
      "cell_type": "code",
      "source": [
        "bytesData1 = b'python'\n",
        "bytesData2 = b'파이썬'  # ASCII 문자가 아닌 경우 바이트 문자열 정의 시 => SyntaxError 발생"
      ],
      "metadata": {
        "colab": {
          "base_uri": "https://localhost:8080/",
          "height": 109
        },
        "id": "JivGBCFms4ku",
        "outputId": "d658aecd-3190-4278-df34-6aaa9f59450f"
      },
      "execution_count": null,
      "outputs": [
        {
          "output_type": "error",
          "ename": "SyntaxError",
          "evalue": "bytes can only contain ASCII literal characters (ipython-input-1696463170.py, line 2)",
          "traceback": [
            "\u001b[0;36m  File \u001b[0;32m\"/tmp/ipython-input-1696463170.py\"\u001b[0;36m, line \u001b[0;32m2\u001b[0m\n\u001b[0;31m    bytesData2 = b'파이썬'  # ASCII 문자가 아닌 경우 바이트 문자열 정의 시 => SyntaxError 발생\u001b[0m\n\u001b[0m                 ^\u001b[0m\n\u001b[0;31mSyntaxError\u001b[0m\u001b[0;31m:\u001b[0m bytes can only contain ASCII literal characters\n"
          ]
        }
      ]
    },
    {
      "cell_type": "code",
      "source": [
        "bytesData = '파이썬'.encode()  # 바이트문자열 정의 방법1 => 유니코드 문자열 인코딩\n",
        "print(bytesData)"
      ],
      "metadata": {
        "colab": {
          "base_uri": "https://localhost:8080/"
        },
        "id": "tY_2CH0NtNnx",
        "outputId": "d989890f-0b52-47d5-c5c9-07ad51bcd1e5"
      },
      "execution_count": null,
      "outputs": [
        {
          "output_type": "stream",
          "name": "stdout",
          "text": [
            "b'\\xed\\x8c\\x8c\\xec\\x9d\\xb4\\xec\\x8d\\xac'\n"
          ]
        }
      ]
    },
    {
      "cell_type": "code",
      "source": [
        "bytesData = bytes('사랑해요 python!', 'utf-8')  # 바이트 문자열 정의 방법 => bytes() 클래스 이용\n",
        "print(bytesData)  # b'' 내부의 한글 부분 -> 16진수로 표현 / ASCII 문자인 \"공백문자\", 'python! -> 문자 그대로 표현"
      ],
      "metadata": {
        "colab": {
          "base_uri": "https://localhost:8080/"
        },
        "id": "EScXmK-quD6g",
        "outputId": "a0695fb3-58dd-4fde-bdcc-e2f60b210824"
      },
      "execution_count": null,
      "outputs": [
        {
          "output_type": "stream",
          "name": "stdout",
          "text": [
            "b'\\xec\\x82\\xac\\xeb\\x9e\\x91\\xed\\x95\\xb4\\xec\\x9a\\x94 python!'\n"
          ]
        }
      ]
    },
    {
      "cell_type": "code",
      "source": [
        "# Unit 93 16진수 표시 문자열을 바이트 문자열로 변환: bytes.fromhex()\n",
        "\n",
        "# bytes.fromhex(hexdata) => hexdata를 바이트 문자열로 변환"
      ],
      "metadata": {
        "id": "6pSqumU6uhS3"
      },
      "execution_count": null,
      "outputs": []
    },
    {
      "cell_type": "code",
      "source": [
        "bytesData = bytes.fromhex('50 79 74 68 6f 6e f8 fa')  # 공백문자는 무시\n",
        "print(bytesData)  # 16 진수 \"7f\" 이하의 값은 사람이 알아볼 수 있는 ASCII 문자로 출력 / \"80\" 이상인 값은 16진수 문자열로 표현"
      ],
      "metadata": {
        "colab": {
          "base_uri": "https://localhost:8080/"
        },
        "id": "fcxlg-9Xux_0",
        "outputId": "6b763e8d-21c2-4e48-c237-3366b4668d8b"
      },
      "execution_count": null,
      "outputs": [
        {
          "output_type": "stream",
          "name": "stdout",
          "text": [
            "b'Python\\xf8\\xfa'\n"
          ]
        }
      ]
    }
  ]
}