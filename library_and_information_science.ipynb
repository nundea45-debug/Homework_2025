{
  "nbformat": 4,
  "nbformat_minor": 0,
  "metadata": {
    "colab": {
      "provenance": [],
      "authorship_tag": "ABX9TyOXPynih/KloeqEWfDLJL8d",
      "include_colab_link": true
    },
    "kernelspec": {
      "name": "python3",
      "display_name": "Python 3"
    },
    "language_info": {
      "name": "python"
    }
  },
  "cells": [
    {
      "cell_type": "markdown",
      "metadata": {
        "id": "view-in-github",
        "colab_type": "text"
      },
      "source": [
        "<a href=\"https://colab.research.google.com/github/nundea45-debug/Homework_2025/blob/main/library_and_information_science.ipynb\" target=\"_parent\"><img src=\"https://colab.research.google.com/assets/colab-badge.svg\" alt=\"Open In Colab\"/></a>"
      ]
    },
    {
      "cell_type": "markdown",
      "source": [
        "#🎓📚💻 **문헌정보학과** (Library and informatiom Science)\n",
        "### [[한남대 문헌정보학과 홈페이지]](https://www.hannam.ac.kr/kor/educate/educate_0101_04.html)"
      ],
      "metadata": {
        "id": "I3lZ8KgkG81N"
      }
    },
    {
      "cell_type": "markdown",
      "source": [
        "* ## **학과소개** 📑\n",
        "    - 기하급수적으로 발생하는 다양한 <font color = 'blue'>**정보를 수집, 평가, 조직, 축적**</font>하는 정보의 전과정을 다루는 학문이다.\n",
        "    - <font color = 'blue'>**도서관, 정보센터**</font>에서 이용자에게 유용한 정보를 서비스 하기 위한 이론과 기술을 습득할 수 있다.\n",
        "    - 지능정보화 사회에 부응하는 <font color = 'blue'>**사서와 정보 전문가**</font> 양성을 목적으로 한다.\n",
        "    - 졸업시 <font color = 'blue'>**정사서 2급 자격증**</font>을 취득할 수 있다.\n",
        "  "
      ],
      "metadata": {
        "id": "WElEGrPjIgVi"
      }
    },
    {
      "cell_type": "markdown",
      "source": [
        "* ## **교과과정** 🏫\n",
        "\n",
        "| 학년 | 교과과목 |\n",
        "| :--: | :--: |\n",
        "| 1학년 | <font color = \"red\">문헌정보학개론</font>, 정보통신기술론, 정보자료분류론, 뉴미디어 |\n",
        "| 2학년 | 어린이청소년정보원, <font color = \"red\">정보자료목록론</font>, 정보문해론, 독서지도론, DB시스템 등 |\n",
        "| 3학년 | 기록관리론, 정보조직연습, 데이터사이언스, <font color = \"red\">도서관정보센터경영원론, 정보서비스론, 디지털도서관</font> 등 |\n",
        "| 4학년 | 현장실습, 문헌정보조사통계론, 텍스트마이닝캡스톤디자인, 데이터시각화 등 |\n",
        "    - 사서교직이수 가능 (2학년 재학생, 21학점 이상 이수, 교육실습 이수)\n"
      ],
      "metadata": {
        "id": "RmA-o2EGLB9g"
      }
    },
    {
      "cell_type": "markdown",
      "source": [
        "* # **관련 진로** 👥\n",
        "\n",
        "| # 분야 | 진로 |\n",
        "| :--: | :--:|\n",
        "| 1️⃣ 사서직 | 사서, 전산사서, 주제전문사서, 사서교사 |\n",
        "| 2️⃣ 웹분야 | 웹마스터, 웹컨텐츠기획자, 웹기획자, 앱기획자, UX디자이너, IT컨설턴트 |\n",
        "| 3️⃣ 데이터 | 데이터기획자, 데이터분석가, 데이터베이스관리자, 데이터 엔지니어, 데이터사이언티스트, 데이터큐레이터 |\n",
        "| 4️⃣ 기타직 | 콘텐츠큐레이터, 컨텐츠크리에이터, 시장 및 여론조사전문가, 지식경영전문가, 기록연구사, 학예사 |\n",
        "\n"
      ],
      "metadata": {
        "id": "RM_4JBwZPwaQ"
      }
    },
    {
      "cell_type": "markdown",
      "source": [
        "* ## **교수진** 🎓\n",
        "    * 김보일 교수님\n",
        "[[상세소개]](https://my.hnu.kr/html/profDetail.html?param=1563805)\n",
        "    * 박성희 교수님\n",
        "[[상세소개]](https://my.hnu.kr/html/profDetail.html?param=1438590)\n",
        "    * 구정화 교수님\n",
        "[[상세소개]](https://my.hnu.kr/html/profDetail.html?param=1482672)\n",
        "    * 권선영 교수님\n",
        "[[상세소개]](https://my.hnu.kr/html/profDetail.html?param=1482751)\n",
        "    * 이혜경 교수님\n",
        "[[상세소개]](https://my.hnu.kr/html/profDetail.html?param=4782660)\n"
      ],
      "metadata": {
        "id": "Id2NB1bkRig4"
      }
    },
    {
      "cell_type": "markdown",
      "source": [
        "* ## **동아리** 😊\n",
        "    - **플라이트** 🎾 : <font color = 'blue'>배드민턴</font> 동아리\n",
        "    - **뷰파인더** 📷 : <font color = 'green'>사진</font> 동아리\n",
        "    - **클라이밍** ✊ : <font color = 'orange'>클라이밍</font> 동아리"
      ],
      "metadata": {
        "id": "KoNn8KI_Tq01"
      }
    },
    {
      "cell_type": "markdown",
      "source": [
        "* ## **기타정보** 📁\n",
        "  * 위치 : 문과대학 (건물번호 04) 2층 40210호\n",
        "\n",
        "  * 전화 : 042-629-7353\n",
        "    \n",
        "  * 한남대 문헌정보학과 특징\n"
      ],
      "metadata": {
        "id": "Pq8V16PhU-8S"
      }
    },
    {
      "cell_type": "markdown",
      "source": [
        "| # | PRIDE |\n",
        "| :--: | :--: |\n",
        "| 1️⃣ | 9년연속 교내 학과평과 최우수, 우수학과 |\n",
        "| 2️⃣ | 학과전용 PC 실습실, 실습서버, 3D 프린터 구비 |\n",
        "| 3️⃣ | 도서관 실무실습 |"
      ],
      "metadata": {
        "id": "9q_p1xUVc9VA"
      }
    }
  ]
}