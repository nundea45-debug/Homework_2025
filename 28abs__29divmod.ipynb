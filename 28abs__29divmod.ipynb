{
  "nbformat": 4,
  "nbformat_minor": 0,
  "metadata": {
    "colab": {
      "provenance": [],
      "authorship_tag": "ABX9TyOiv78qXkUTiiWf21bMx78t",
      "include_colab_link": true
    },
    "kernelspec": {
      "name": "python3",
      "display_name": "Python 3"
    },
    "language_info": {
      "name": "python"
    }
  },
  "cells": [
    {
      "cell_type": "markdown",
      "metadata": {
        "id": "view-in-github",
        "colab_type": "text"
      },
      "source": [
        "<a href=\"https://colab.research.google.com/github/nundea45-debug/Homework_2025/blob/main/28abs__29divmod.ipynb\" target=\"_parent\"><img src=\"https://colab.research.google.com/assets/colab-badge.svg\" alt=\"Open In Colab\"/></a>"
      ]
    },
    {
      "cell_type": "code",
      "execution_count": null,
      "metadata": {
        "colab": {
          "base_uri": "https://localhost:8080/"
        },
        "id": "zVIaOGwno7TG",
        "outputId": "e90834ce-400c-4a9b-af0a-8829569420bf"
      },
      "outputs": [
        {
          "output_type": "stream",
          "name": "stdout",
          "text": [
            "8\n",
            "3.14\n",
            "5.0\n"
          ]
        }
      ],
      "source": [
        "# Unit 28 절대값 구하기 : abs()\n",
        "\n",
        "intData = -8\n",
        "floatData = 3.14\n",
        "complexData = 3 + 4j\n",
        "print(abs(intData))       # abs() => 입력된 값의 절대값을 리턴\n",
        "print(abs(floatData))\n",
        "print(abs(complexData))   # 복소수가 입력되면 복소수의 크기를 리턴"
      ]
    },
    {
      "cell_type": "code",
      "source": [
        "# Unit 29 몫과 나머지 구하기 : divmod()\n",
        "\n",
        "x = 11113\n",
        "y = 23\n",
        "ret1 = x // y\n",
        "ret2 = x % y\n",
        "print(f'{x}을(를) {y}(으)로 나누면 몫이 {ret1}, 나머지가 {ret2}입니다.')"
      ],
      "metadata": {
        "colab": {
          "base_uri": "https://localhost:8080/"
        },
        "id": "UgwDwGDar8Ru",
        "outputId": "2f1156d2-bd48-4f7b-b499-18338aad9f18"
      },
      "execution_count": null,
      "outputs": [
        {
          "output_type": "stream",
          "name": "stdout",
          "text": [
            "11113을(를) 23(으)로 나누면 몫이 483, 나머지가 4입니다.\n"
          ]
        }
      ]
    },
    {
      "cell_type": "code",
      "source": [
        "x = 11113\n",
        "y = 23\n",
        "ret1, ret2 = divmod(x, y)  # divmod() => 두 개의 정수를 인자로 받아, 첫 번째 인자를 두 번째 인자로 나눈 결과를 튜플로 리턴\n",
        "print(f'{x}을(를) {y}(으)로 나누면 몫이 {ret1}, 나머지가 {ret2}입니다.')"
      ],
      "metadata": {
        "colab": {
          "base_uri": "https://localhost:8080/"
        },
        "id": "6zSRFqTDsXkd",
        "outputId": "8f8cd207-d2ee-46ba-83e6-2e6b83098a06"
      },
      "execution_count": null,
      "outputs": [
        {
          "output_type": "stream",
          "name": "stdout",
          "text": [
            "11113을(를) 23(으)로 나누면 몫이 483, 나머지가 4입니다.\n"
          ]
        }
      ]
    }
  ]
}