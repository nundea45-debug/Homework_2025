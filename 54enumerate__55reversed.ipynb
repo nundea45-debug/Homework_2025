{
  "nbformat": 4,
  "nbformat_minor": 0,
  "metadata": {
    "colab": {
      "provenance": [],
      "authorship_tag": "ABX9TyPvwy1Do87XTYoUvXT1PzbF",
      "include_colab_link": true
    },
    "kernelspec": {
      "name": "python3",
      "display_name": "Python 3"
    },
    "language_info": {
      "name": "python"
    }
  },
  "cells": [
    {
      "cell_type": "markdown",
      "metadata": {
        "id": "view-in-github",
        "colab_type": "text"
      },
      "source": [
        "<a href=\"https://colab.research.google.com/github/nundea45-debug/Homework_2025/blob/main/54enumerate__55reversed.ipynb\" target=\"_parent\"><img src=\"https://colab.research.google.com/assets/colab-badge.svg\" alt=\"Open In Colab\"/></a>"
      ]
    },
    {
      "cell_type": "code",
      "execution_count": null,
      "metadata": {
        "colab": {
          "base_uri": "https://localhost:8080/"
        },
        "id": "XbAhEOoirp5q",
        "outputId": "5952e811-bdea-4f84-bf8f-32f00e5481dd"
      },
      "outputs": [
        {
          "output_type": "stream",
          "name": "stdout",
          "text": [
            "태양계의 0번째 천체 : 태양\n",
            "태양계의 1번째 천체 : 수성\n",
            "태양계의 2번째 천체 : 금성\n",
            "태양계의 3번째 천체 : 지구\n",
            "태양계의 4번째 천체 : 화성\n",
            "태양계의 5번째 천체 : 목성\n",
            "태양계의 6번째 천체 : 토성\n",
            "태양계의 7번째 천체 : 천왕성\n",
            "태양계의 8번째 천체 : 해왕성\n"
          ]
        }
      ],
      "source": [
        "# Unit 54 (인덱스, 요소) 생성 : enumerate()\n",
        "\n",
        "solarsys = ['태양', '수성', '금성', '지구', '화성', '목성', '토성', '천왕성', '해왕성']\n",
        "for i, body in enumerate(solarsys) :  # enumerate(s) => 시퀀스 자료형 s를 인자로 받아 각 요소를 (인덱스, 요소)로 된 enumerate 객체 리턴\n",
        "  print(f'태양계의 {i}번째 천체 : {body}')  # enumerate 객체 => 반복 가능 (for문과 함께 자주 사용), list()를 이용 => 리스트 변환 활용 가능"
      ]
    },
    {
      "cell_type": "code",
      "source": [
        "seasons = ['봄', '여름', '가을', '겨울']\n",
        "print(list(enumerate(seasons, start = 1)))  # seasons의 요소를 인덱스 1부터 시작해 쌍으로 생성"
      ],
      "metadata": {
        "colab": {
          "base_uri": "https://localhost:8080/"
        },
        "id": "3wnErMtHtC_L",
        "outputId": "0ca0d7ac-cb49-4f14-f629-f0f96486d623"
      },
      "execution_count": null,
      "outputs": [
        {
          "output_type": "stream",
          "name": "stdout",
          "text": [
            "[(1, '봄'), (2, '여름'), (3, '가을'), (4, '겨울')]\n"
          ]
        }
      ]
    },
    {
      "cell_type": "code",
      "source": [
        "# enumerate()를 구현한 구현한 제너레이터\n",
        "def myEnumerate(iterable, start = 0) :\n",
        "  n = start\n",
        "  for item in iterable :\n",
        "    yield (n, item)\n",
        "    n += 1"
      ],
      "metadata": {
        "id": "d_XhmdG5taE_"
      },
      "execution_count": null,
      "outputs": []
    },
    {
      "cell_type": "code",
      "source": [
        "print(list(myEnumerate(seasons, start = 1)))"
      ],
      "metadata": {
        "colab": {
          "base_uri": "https://localhost:8080/"
        },
        "id": "OXnKi0h2tufm",
        "outputId": "a65a5a70-2ea0-4ff7-b372-b9b541af01f1"
      },
      "execution_count": null,
      "outputs": [
        {
          "output_type": "stream",
          "name": "stdout",
          "text": [
            "[(1, '봄'), (2, '여름'), (3, '가을'), (4, '겨울')]\n"
          ]
        }
      ]
    },
    {
      "cell_type": "code",
      "source": [
        "# Unit 55 시퀀스 자료 역순 만들기 : reversed()\n",
        "\n",
        "fruits = ('사과', '배', '오렌지', '수박')\n",
        "ret = reversed(fruits)  # fruits 요소의 역순인 이터레이터를 리턴\n",
        "print(list(ret))"
      ],
      "metadata": {
        "colab": {
          "base_uri": "https://localhost:8080/"
        },
        "id": "RpUiK-fLt43G",
        "outputId": "5267236f-cf63-4321-a4db-f9a32e2a4c1f"
      },
      "execution_count": null,
      "outputs": [
        {
          "output_type": "stream",
          "name": "stdout",
          "text": [
            "['수박', '오렌지', '배', '사과']\n"
          ]
        }
      ]
    },
    {
      "cell_type": "code",
      "source": [
        "print(fruits)  # reversed(s)는 시퀀스 자료 s는 변경 X"
      ],
      "metadata": {
        "colab": {
          "base_uri": "https://localhost:8080/"
        },
        "id": "O3ptdB-quL1Z",
        "outputId": "57ba0d4d-d7a7-41e3-ad11-b1b9b56bed30"
      },
      "execution_count": null,
      "outputs": [
        {
          "output_type": "stream",
          "name": "stdout",
          "text": [
            "('사과', '배', '오렌지', '수박')\n"
          ]
        }
      ]
    },
    {
      "cell_type": "code",
      "source": [
        "for i in reversed(range(1,6)) :  # 정수열을 5부터 거꾸로 출력하는 코드\n",
        "  print(i)"
      ],
      "metadata": {
        "colab": {
          "base_uri": "https://localhost:8080/"
        },
        "id": "KoIlns5NuQaD",
        "outputId": "3f7760a6-f5b9-45ce-857b-34fbb9df5ec8"
      },
      "execution_count": null,
      "outputs": [
        {
          "output_type": "stream",
          "name": "stdout",
          "text": [
            "5\n",
            "4\n",
            "3\n",
            "2\n",
            "1\n"
          ]
        }
      ]
    }
  ]
}