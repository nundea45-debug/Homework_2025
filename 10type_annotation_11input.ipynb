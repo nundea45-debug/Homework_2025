{
  "nbformat": 4,
  "nbformat_minor": 0,
  "metadata": {
    "colab": {
      "provenance": [],
      "authorship_tag": "ABX9TyPpjj4jM3ywY3vsegFVYvxy",
      "include_colab_link": true
    },
    "kernelspec": {
      "name": "python3",
      "display_name": "Python 3"
    },
    "language_info": {
      "name": "python"
    }
  },
  "cells": [
    {
      "cell_type": "markdown",
      "metadata": {
        "id": "view-in-github",
        "colab_type": "text"
      },
      "source": [
        "<a href=\"https://colab.research.google.com/github/nundea45-debug/Homework_2025/blob/main/10type_annotation_11input.ipynb\" target=\"_parent\"><img src=\"https://colab.research.google.com/assets/colab-badge.svg\" alt=\"Open In Colab\"/></a>"
      ]
    },
    {
      "cell_type": "code",
      "execution_count": null,
      "metadata": {
        "id": "ICioajeDiLTV"
      },
      "outputs": [],
      "source": [
        "# Unit 10 타입 어노테이션\n",
        "\n",
        "# 타입 어노테이션 = 변수나 함수의 인자 및 리턴값의 자료형에 대해 힌트를 알려줌\n",
        "name = '홍길동'\n",
        "age = 17\n",
        "wegiht = 70.7\n",
        "is_badman = False"
      ]
    },
    {
      "cell_type": "code",
      "source": [
        "# 타입 어노테이션 방법으로 변수의 자료형에 대한 힌트를 줌\n",
        "name : str = '홍길동'\n",
        "age : int = 17\n",
        "wegiht : float = 70.7\n",
        "is_badman : bool = False"
      ],
      "metadata": {
        "id": "m1oJ85jBju8P"
      },
      "execution_count": null,
      "outputs": []
    },
    {
      "cell_type": "code",
      "source": [
        "booklist : list[str] = ['삼국지', '수호지', '초한지']  # 문자열을 요소로 가진 리스트라는 힌트"
      ],
      "metadata": {
        "id": "MGJsPm71kD5B"
      },
      "execution_count": null,
      "outputs": []
    },
    {
      "cell_type": "code",
      "source": [
        "island : tuple[str, float, float] = ('독도', 131.52, 37.14)  # 자료형이 문자열, 실수, 실수인 튜플이라는 힌트"
      ],
      "metadata": {
        "id": "bTj6AuN2ki6S"
      },
      "execution_count": null,
      "outputs": []
    },
    {
      "cell_type": "code",
      "source": [
        "top4_familyname : dict[str, int] = {'김씨' : 123456, '나씨' : 345811, '박씨' : 963123, '이씨' : 865909}  # 키는 문자열, 값은 정수인 딕셔너리라는 힌트"
      ],
      "metadata": {
        "id": "3GQRP4Lhk7D7"
      },
      "execution_count": null,
      "outputs": []
    },
    {
      "cell_type": "code",
      "source": [
        "fruits : set[str] = {'사과', '배', '수박', '참외', '딸기'}  # 문자열을 요소로 가지는 set 자료라는 힌트"
      ],
      "metadata": {
        "id": "wF3tFi6Plep_"
      },
      "execution_count": null,
      "outputs": []
    },
    {
      "cell_type": "code",
      "source": [
        "print(__annotations__)  # 자신의 코드에서 추가한 타입 어노테이션을 체크 (타입 어노테이션은 강제 사항 X)"
      ],
      "metadata": {
        "colab": {
          "base_uri": "https://localhost:8080/"
        },
        "id": "Ll6_nXs7mtFC",
        "outputId": "76317401-19c6-4c75-9e32-9c10d570fb6e"
      },
      "execution_count": null,
      "outputs": [
        {
          "output_type": "stream",
          "name": "stdout",
          "text": [
            "{'name': <class 'str'>, 'age': <class 'int'>, 'wegiht': <class 'float'>, 'is_badman': <class 'bool'>, 'booklist': list[str], 'island': tuple[str, float, float], 'top4_familyname': dict[str, int], 'fruits': set[str]}\n"
          ]
        }
      ]
    },
    {
      "cell_type": "code",
      "source": [
        "fruits : set[str] = {'사과', '배', '수박', '참외', '딸기'}\n",
        "fruits = {1,2,3,4,5}\n",
        "print(fruits)  # 문자열을 요소로 가지는 set 자료임을 명시했으나 정수로 구성된 set 자료를 할당해도 오류가 X => 하지만 타입 어노테이션을 활용하는 목적에 부합 X"
      ],
      "metadata": {
        "colab": {
          "base_uri": "https://localhost:8080/"
        },
        "id": "_nn0rIHqm1Q4",
        "outputId": "26313788-c65c-4b3c-b7b6-b417b32eb4fa"
      },
      "execution_count": null,
      "outputs": [
        {
          "output_type": "stream",
          "name": "stdout",
          "text": [
            "{1, 2, 3, 4, 5}\n"
          ]
        }
      ]
    },
    {
      "cell_type": "code",
      "source": [
        "# Unit 11 사용자 입력 : input()\n",
        "\n",
        "userinput = input()\n",
        "print('사용자가 입력한 값은 <' + userinput + '> 입니다.')"
      ],
      "metadata": {
        "colab": {
          "base_uri": "https://localhost:8080/"
        },
        "id": "Asz6qhYWoIJh",
        "outputId": "de878208-0050-4eee-9209-49fcdfdf426b"
      },
      "execution_count": null,
      "outputs": [
        {
          "output_type": "stream",
          "name": "stdout",
          "text": [
            "20\n",
            "사용자가 입력한 값은 <20> 입니다.\n"
          ]
        }
      ]
    },
    {
      "cell_type": "code",
      "source": [
        "userinput = input('값을 입력하세요 :')\n",
        "print('사용자가 입력한 값은 <' + userinput + '> 입니다.')"
      ],
      "metadata": {
        "colab": {
          "base_uri": "https://localhost:8080/"
        },
        "id": "5yhwdq2Lo2Ig",
        "outputId": "f01a7d59-2fd6-43e0-8e4f-acad6d769f82"
      },
      "execution_count": null,
      "outputs": [
        {
          "output_type": "stream",
          "name": "stdout",
          "text": [
            "값을 입력하세요 :yes\n",
            "사용자가 입력한 값은 <yes> 입니다.\n"
          ]
        }
      ]
    }
  ]
}