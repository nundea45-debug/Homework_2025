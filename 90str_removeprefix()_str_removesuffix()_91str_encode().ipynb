{
  "nbformat": 4,
  "nbformat_minor": 0,
  "metadata": {
    "colab": {
      "provenance": [],
      "name": "90str.removeprefix()-str.removesuffix()_91str.encode().ipynb",
      "authorship_tag": "ABX9TyPSp3qvTluv/8ChBpn/MzOF",
      "include_colab_link": true
    },
    "kernelspec": {
      "name": "python3",
      "display_name": "Python 3"
    },
    "language_info": {
      "name": "python"
    }
  },
  "cells": [
    {
      "cell_type": "markdown",
      "metadata": {
        "id": "view-in-github",
        "colab_type": "text"
      },
      "source": [
        "<a href=\"https://colab.research.google.com/github/nundea45-debug/Homework_2025/blob/main/90str_removeprefix()_str_removesuffix()_91str_encode().ipynb\" target=\"_parent\"><img src=\"https://colab.research.google.com/assets/colab-badge.svg\" alt=\"Open In Colab\"/></a>"
      ]
    },
    {
      "cell_type": "code",
      "execution_count": null,
      "metadata": {
        "colab": {
          "base_uri": "https://localhost:8080/"
        },
        "id": "aOXFEFDslGEO",
        "outputId": "48332fa5-8c4b-4efc-f370-c7bb96efdc94"
      },
      "outputs": [
        {
          "output_type": "stream",
          "name": "stdout",
          "text": [
            "Seoul is the capital of Korea.\n"
          ]
        }
      ],
      "source": [
        "# Unit 90 문자열에서 주어진 접두어 / 접미어 제거하기 : str.removeprefix(), str.removesuffix()\n",
        "\n",
        "# str.removeprefix(prefix) => str에서 prefix와 일치하는 접두어가 있을 시 이를 삭제한 문자열 리턴\n",
        "strData = '[info]Seoul is the capital of Korea.'\n",
        "cityinfo = strData.removeprefix('[info]')\n",
        "print(cityinfo)"
      ]
    },
    {
      "cell_type": "code",
      "source": [
        "# str.removesuffix(suffix) => str에서 suffix와 일치하는 접미어가 있을 시 이를 삭제한 문자열 리턴\n",
        "strData = '이것으로 문장을 마무리합니다.<EOD>'\n",
        "ret = strData.removesuffix('<EOD>')\n",
        "print(ret)"
      ],
      "metadata": {
        "colab": {
          "base_uri": "https://localhost:8080/"
        },
        "id": "HghsIqfwndEb",
        "outputId": "96d25421-f949-4d87-b9e9-86600b9dfb02"
      },
      "execution_count": null,
      "outputs": [
        {
          "output_type": "stream",
          "name": "stdout",
          "text": [
            "이것으로 문장을 마무리합니다.\n"
          ]
        }
      ]
    },
    {
      "cell_type": "code",
      "source": [
        "# Unit 91 문자열을 바이트 문자열로 변환하기 : str.encode()\n",
        "\n",
        "# str.encode(enc) => 문자열 str을 enc로 인코딩하여 바이트 문자열로 변환 (인자가 없을 시 UTF-8로 인코딩한 바이트 문자열로 변환)"
      ],
      "metadata": {
        "id": "KRB3iB54n1oV"
      },
      "execution_count": null,
      "outputs": []
    },
    {
      "cell_type": "code",
      "source": [
        "strData = 'python'  # 유니코드 문자열 'python'\n",
        "byteData = strData.encode()  # 문자열 'python'을 UTF-8로 인코딩한 코드값의 나열을 사람이 알아볼 수 있도록 표현\n",
        "print(byteData)"
      ],
      "metadata": {
        "colab": {
          "base_uri": "https://localhost:8080/"
        },
        "id": "6rADBD77oKV0",
        "outputId": "e4284ea4-5bae-41d3-b1d8-93b35593d40e"
      },
      "execution_count": null,
      "outputs": [
        {
          "output_type": "stream",
          "name": "stdout",
          "text": [
            "b'python'\n"
          ]
        }
      ]
    },
    {
      "cell_type": "code",
      "source": [
        "for idx, c in enumerate(strData) :  # strData를 한 글자씩 출력\n",
        "  print(f'strData[{idx}] = {c}')"
      ],
      "metadata": {
        "colab": {
          "base_uri": "https://localhost:8080/"
        },
        "id": "r8E4OuJ4onpK",
        "outputId": "f4e1e41c-50cc-4c94-8b86-c4688e38c856"
      },
      "execution_count": null,
      "outputs": [
        {
          "output_type": "stream",
          "name": "stdout",
          "text": [
            "strData[0] = p\n",
            "strData[1] = y\n",
            "strData[2] = t\n",
            "strData[3] = h\n",
            "strData[4] = o\n",
            "strData[5] = n\n"
          ]
        }
      ]
    },
    {
      "cell_type": "code",
      "source": [
        "for idx, c in enumerate(byteData) :  # byteData를 한 글자씩 출력\n",
        "  print(f'byteData[{idx}] = {c}, {hex(c)}')"
      ],
      "metadata": {
        "colab": {
          "base_uri": "https://localhost:8080/"
        },
        "id": "4sKbEcyCo9DL",
        "outputId": "4ec254e4-5b2a-4232-893e-9d66a4bbca93"
      },
      "execution_count": null,
      "outputs": [
        {
          "output_type": "stream",
          "name": "stdout",
          "text": [
            "byteData[0] = 112, 0x70\n",
            "byteData[1] = 121, 0x79\n",
            "byteData[2] = 116, 0x74\n",
            "byteData[3] = 104, 0x68\n",
            "byteData[4] = 111, 0x6f\n",
            "byteData[5] = 110, 0x6e\n"
          ]
        }
      ]
    },
    {
      "cell_type": "code",
      "source": [
        "strData = '파이썬'\n",
        "byteData = strData.encode()  # 한글의 바이트 문자열 => 16진수로 출력 (\\x => 16진수를 표현하는 접두사)\n",
        "print(byteData)  # 9바이트 문자열 출력 (한글 한 글자 -> UTF-8 인코딩시 3바이트)"
      ],
      "metadata": {
        "colab": {
          "base_uri": "https://localhost:8080/"
        },
        "id": "1nmRLr1jpSHY",
        "outputId": "43d91d9b-7185-4ef6-8e2a-1cedb46ac849"
      },
      "execution_count": null,
      "outputs": [
        {
          "output_type": "stream",
          "name": "stdout",
          "text": [
            "b'\\xed\\x8c\\x8c\\xec\\x9d\\xb4\\xec\\x8d\\xac'\n"
          ]
        }
      ]
    },
    {
      "cell_type": "code",
      "source": [
        "strData = '파이썬'\n",
        "byteData = strData.encode('CP949')\n",
        "print(byteData)  # 한글 한 글자는 2바이트로 인코딩 됨"
      ],
      "metadata": {
        "colab": {
          "base_uri": "https://localhost:8080/"
        },
        "id": "oIe7aSJSpv7H",
        "outputId": "272e3662-f729-4e04-9d22-935b65ac36d3"
      },
      "execution_count": null,
      "outputs": [
        {
          "output_type": "stream",
          "name": "stdout",
          "text": [
            "b'\\xc6\\xc4\\xc0\\xcc\\xbd\\xe3'\n"
          ]
        }
      ]
    }
  ]
}