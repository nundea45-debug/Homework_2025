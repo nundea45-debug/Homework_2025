{
  "nbformat": 4,
  "nbformat_minor": 0,
  "metadata": {
    "colab": {
      "provenance": [],
      "name": "84str.replace()_85str.zfill().ipynb",
      "authorship_tag": "ABX9TyPFXjw6QM6dLxTPqLojtGAV",
      "include_colab_link": true
    },
    "kernelspec": {
      "name": "python3",
      "display_name": "Python 3"
    },
    "language_info": {
      "name": "python"
    }
  },
  "cells": [
    {
      "cell_type": "markdown",
      "metadata": {
        "id": "view-in-github",
        "colab_type": "text"
      },
      "source": [
        "<a href=\"https://colab.research.google.com/github/nundea45-debug/Homework_2025/blob/main/84str_replace()_85str_zfill().ipynb\" target=\"_parent\"><img src=\"https://colab.research.google.com/assets/colab-badge.svg\" alt=\"Open In Colab\"/></a>"
      ]
    },
    {
      "cell_type": "code",
      "execution_count": null,
      "metadata": {
        "id": "CMnIB6vzihYt"
      },
      "outputs": [],
      "source": [
        "# Unit 84 문자열에서 특정 문자열을 다른 문자열로 바꾸기 : str.replace()\n",
        "\n",
        "# str.replace(target, strval) => str에서 발견되는 모든 target을 strval로 변경"
      ]
    },
    {
      "cell_type": "code",
      "source": [
        "text = '문자열 : 파이썬에서 시퀀스 자료 중 하나임'\n",
        "ret = text.replace('문자열', '텍스트')  # => text에서 '문자열'을 찾아 '텍스트'로 변경\n",
        "print(ret)"
      ],
      "metadata": {
        "colab": {
          "base_uri": "https://localhost:8080/"
        },
        "id": "Ssbgkx2FmbLv",
        "outputId": "99e37224-a28c-46e5-b93b-00a51b65865d"
      },
      "execution_count": null,
      "outputs": [
        {
          "output_type": "stream",
          "name": "stdout",
          "text": [
            "텍스트 : 파이썬에서 시퀀스 자료 중 하나임\n"
          ]
        }
      ]
    },
    {
      "cell_type": "code",
      "source": [
        "text = '매일 많은 일들이 일어납니다.'\n",
        "ret = text.replace('일', '사건')  # text의 *모든* '일'이 '사건'으로 변경\n",
        "print(ret)"
      ],
      "metadata": {
        "colab": {
          "base_uri": "https://localhost:8080/"
        },
        "id": "WpJfUAt6jG7b",
        "outputId": "14d13a08-28dd-44f4-83e5-a57b8927904c"
      },
      "execution_count": null,
      "outputs": [
        {
          "output_type": "stream",
          "name": "stdout",
          "text": [
            "매사건 많은 사건들이 사건어납니다.\n"
          ]
        }
      ]
    },
    {
      "cell_type": "code",
      "source": [
        "# Unit 85 문자열의 왼쪽을 0으로 채우기 : str.zfill()\n",
        "\n",
        "# str.zfill(width) => str의 길이가 width가 되도록 str 왼쪽에 0을 채움"
      ],
      "metadata": {
        "id": "LkzdzlEBmRTT"
      },
      "execution_count": null,
      "outputs": []
    },
    {
      "cell_type": "code",
      "source": [
        "numData = ['5', '27', '342', '1004']\n",
        "for numstr in numData :\n",
        "  ret = numstr.zfill(4)  # numData의 요소의 왼쪽에 0을 채워 폭이 4가 되는 문자열로 만듦\n",
        "  print(ret)"
      ],
      "metadata": {
        "colab": {
          "base_uri": "https://localhost:8080/"
        },
        "id": "Q9ceoA6EmllW",
        "outputId": "fda12754-ed00-483c-e3b0-e50ca8557472"
      },
      "execution_count": null,
      "outputs": [
        {
          "output_type": "stream",
          "name": "stdout",
          "text": [
            "0005\n",
            "0027\n",
            "0342\n",
            "1004\n"
          ]
        }
      ]
    },
    {
      "cell_type": "code",
      "source": [
        "numData = ['-5', '-27', '-342', '-1004']\n",
        "for numstr in numData :\n",
        "  ret = numstr.zfill(4)  # str.zfill()은 str이 음수인 경우에도 동일적용 (마이너스 기호도 문자열 폭에 포함)\n",
        "  print(ret)"
      ],
      "metadata": {
        "colab": {
          "base_uri": "https://localhost:8080/"
        },
        "id": "j6EvRXc4m5zy",
        "outputId": "86ad2f0a-04cf-4095-93d8-fec124a5dd6a"
      },
      "execution_count": null,
      "outputs": [
        {
          "output_type": "stream",
          "name": "stdout",
          "text": [
            "-005\n",
            "-027\n",
            "-342\n",
            "-1004\n"
          ]
        }
      ]
    }
  ]
}